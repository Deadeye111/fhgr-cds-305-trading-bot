{
 "cells": [
  {
   "cell_type": "markdown",
   "metadata": {},
   "source": [
    "# Technical Indicators"
   ]
  },
  {
   "cell_type": "code",
   "execution_count": 25,
   "metadata": {},
   "outputs": [],
   "source": [
    "from tradingview_ta import TA_Handler, Interval, Exchange\n",
    "import datetime\n",
    "import pandas as pd\n",
    "import numpy as np\n",
    "import matplotlib.pyplot as plt\n",
    "import ta\n",
    "from ta import add_all_ta_features\n",
    "\n",
    "import yfinance as yf"
   ]
  },
  {
   "cell_type": "markdown",
   "metadata": {},
   "source": [
    "## Trading View"
   ]
  },
  {
   "cell_type": "markdown",
   "metadata": {},
   "source": [
    "> Screeners: https://tvdb.brianthe.dev/"
   ]
  },
  {
   "cell_type": "code",
   "execution_count": 2,
   "metadata": {},
   "outputs": [],
   "source": [
    "output = TA_Handler(symbol='AAPL',\n",
    "                    screener='america',\n",
    "                    exchange='NASDAQ',\n",
    "                    interval=Interval.INTERVAL_1_DAY)"
   ]
  },
  {
   "cell_type": "code",
   "execution_count": 3,
   "metadata": {},
   "outputs": [
    {
     "data": {
      "text/plain": [
       "<tradingview_ta.main.TA_Handler at 0x14b32c2fcd0>"
      ]
     },
     "execution_count": 3,
     "metadata": {},
     "output_type": "execute_result"
    }
   ],
   "source": [
    "output"
   ]
  },
  {
   "cell_type": "code",
   "execution_count": 4,
   "metadata": {},
   "outputs": [
    {
     "data": {
      "text/plain": [
       "{'RECOMMENDATION': 'SELL', 'BUY': 3, 'SELL': 14, 'NEUTRAL': 9}"
      ]
     },
     "execution_count": 4,
     "metadata": {},
     "output_type": "execute_result"
    }
   ],
   "source": [
    "output.get_analysis().summary"
   ]
  },
  {
   "cell_type": "code",
   "execution_count": 5,
   "metadata": {},
   "outputs": [
    {
     "data": {
      "text/plain": [
       "{'Recommend.Other': 0.09090909,\n",
       " 'Recommend.All': -0.35454545,\n",
       " 'Recommend.MA': -0.8,\n",
       " 'RSI': 41.60849115,\n",
       " 'RSI[1]': 38.37297519,\n",
       " 'Stoch.K': 10.36524845,\n",
       " 'Stoch.D': 15.38506075,\n",
       " 'Stoch.K[1]': 11.3830447,\n",
       " 'Stoch.D[1]': 20.69823103,\n",
       " 'CCI20': -85.43425241,\n",
       " 'CCI20[1]': -130.35704056,\n",
       " 'ADX': 21.58435695,\n",
       " 'ADX+DI': 20.20269198,\n",
       " 'ADX-DI': 25.05788375,\n",
       " 'ADX+DI[1]': 18.03782422,\n",
       " 'ADX-DI[1]': 26.30188617,\n",
       " 'AO': -5.22314618,\n",
       " 'AO[1]': -5.49712853,\n",
       " 'Mom': -5.87,\n",
       " 'Mom[1]': -4.88,\n",
       " 'MACD.macd': -2.52541682,\n",
       " 'MACD.signal': -2.66256011,\n",
       " 'Rec.Stoch.RSI': 0,\n",
       " 'Stoch.RSI.K': 33.37272773,\n",
       " 'Rec.WR': 1,\n",
       " 'W.R': -81.03603517,\n",
       " 'Rec.BBPower': 0,\n",
       " 'BBPower': -4.20312946,\n",
       " 'Rec.UO': 0,\n",
       " 'UO': 50.2437017,\n",
       " 'close': 170.21,\n",
       " 'EMA5': 170.39861086,\n",
       " 'SMA5': 170.774,\n",
       " 'EMA10': 171.24799431,\n",
       " 'SMA10': 171.675,\n",
       " 'EMA20': 172.97402995,\n",
       " 'SMA20': 171.9065,\n",
       " 'EMA30': 174.81500665,\n",
       " 'SMA30': 174.606,\n",
       " 'EMA50': 177.70328373,\n",
       " 'SMA50': 179.9792,\n",
       " 'EMA100': 180.52788057,\n",
       " 'SMA100': 185.0113,\n",
       " 'EMA200': 179.05188275,\n",
       " 'SMA200': 183.299975,\n",
       " 'Rec.Ichimoku': 0,\n",
       " 'Ichimoku.BLine': 176.07635,\n",
       " 'Rec.VWMA': -1,\n",
       " 'VWMA': 171.94749849,\n",
       " 'Rec.HullMA9': 1,\n",
       " 'HullMA9': 169.50992593,\n",
       " 'Pivot.M.Classic.S3': 149.42,\n",
       " 'Pivot.M.Classic.S2': 161.46,\n",
       " 'Pivot.M.Classic.S1': 166.47,\n",
       " 'Pivot.M.Classic.Middle': 173.5,\n",
       " 'Pivot.M.Classic.R1': 178.51,\n",
       " 'Pivot.M.Classic.R2': 185.54,\n",
       " 'Pivot.M.Classic.R3': 197.58,\n",
       " 'Pivot.M.Fibonacci.S3': 161.46,\n",
       " 'Pivot.M.Fibonacci.S2': 166.05928,\n",
       " 'Pivot.M.Fibonacci.S1': 168.90072,\n",
       " 'Pivot.M.Fibonacci.Middle': 173.5,\n",
       " 'Pivot.M.Fibonacci.R1': 178.09928,\n",
       " 'Pivot.M.Fibonacci.R2': 180.94072,\n",
       " 'Pivot.M.Fibonacci.R3': 185.54,\n",
       " 'Pivot.M.Camarilla.S3': 168.169,\n",
       " 'Pivot.M.Camarilla.S2': 169.27266667,\n",
       " 'Pivot.M.Camarilla.S1': 170.37633333,\n",
       " 'Pivot.M.Camarilla.Middle': 173.5,\n",
       " 'Pivot.M.Camarilla.R1': 172.58366667,\n",
       " 'Pivot.M.Camarilla.R2': 173.68733333,\n",
       " 'Pivot.M.Camarilla.R3': 174.791,\n",
       " 'Pivot.M.Woodie.S3': 153.13,\n",
       " 'Pivot.M.Woodie.S2': 160.81,\n",
       " 'Pivot.M.Woodie.S1': 165.17,\n",
       " 'Pivot.M.Woodie.Middle': 172.85,\n",
       " 'Pivot.M.Woodie.R1': 177.21,\n",
       " 'Pivot.M.Woodie.R2': 184.89,\n",
       " 'Pivot.M.Woodie.R3': 189.25,\n",
       " 'Pivot.M.Demark.S1': 163.965,\n",
       " 'Pivot.M.Demark.Middle': 172.2475,\n",
       " 'Pivot.M.Demark.R1': 176.005,\n",
       " 'open': 168.79,\n",
       " 'P.SAR': 176.31150135,\n",
       " 'BB.lower': 167.14957126,\n",
       " 'BB.upper': 176.66342874,\n",
       " 'AO[2]': -5.67235147,\n",
       " 'volume': 27354650,\n",
       " 'change': 0.8114191,\n",
       " 'low': 168.58,\n",
       " 'high': 170.68}"
      ]
     },
     "execution_count": 5,
     "metadata": {},
     "output_type": "execute_result"
    }
   ],
   "source": [
    "output.get_analysis().indicators"
   ]
  },
  {
   "cell_type": "code",
   "execution_count": 7,
   "metadata": {},
   "outputs": [
    {
     "data": {
      "text/plain": [
       "dict_keys(['Recommend.Other', 'Recommend.All', 'Recommend.MA', 'RSI', 'RSI[1]', 'Stoch.K', 'Stoch.D', 'Stoch.K[1]', 'Stoch.D[1]', 'CCI20', 'CCI20[1]', 'ADX', 'ADX+DI', 'ADX-DI', 'ADX+DI[1]', 'ADX-DI[1]', 'AO', 'AO[1]', 'Mom', 'Mom[1]', 'MACD.macd', 'MACD.signal', 'Rec.Stoch.RSI', 'Stoch.RSI.K', 'Rec.WR', 'W.R', 'Rec.BBPower', 'BBPower', 'Rec.UO', 'UO', 'close', 'EMA5', 'SMA5', 'EMA10', 'SMA10', 'EMA20', 'SMA20', 'EMA30', 'SMA30', 'EMA50', 'SMA50', 'EMA100', 'SMA100', 'EMA200', 'SMA200', 'Rec.Ichimoku', 'Ichimoku.BLine', 'Rec.VWMA', 'VWMA', 'Rec.HullMA9', 'HullMA9', 'Pivot.M.Classic.S3', 'Pivot.M.Classic.S2', 'Pivot.M.Classic.S1', 'Pivot.M.Classic.Middle', 'Pivot.M.Classic.R1', 'Pivot.M.Classic.R2', 'Pivot.M.Classic.R3', 'Pivot.M.Fibonacci.S3', 'Pivot.M.Fibonacci.S2', 'Pivot.M.Fibonacci.S1', 'Pivot.M.Fibonacci.Middle', 'Pivot.M.Fibonacci.R1', 'Pivot.M.Fibonacci.R2', 'Pivot.M.Fibonacci.R3', 'Pivot.M.Camarilla.S3', 'Pivot.M.Camarilla.S2', 'Pivot.M.Camarilla.S1', 'Pivot.M.Camarilla.Middle', 'Pivot.M.Camarilla.R1', 'Pivot.M.Camarilla.R2', 'Pivot.M.Camarilla.R3', 'Pivot.M.Woodie.S3', 'Pivot.M.Woodie.S2', 'Pivot.M.Woodie.S1', 'Pivot.M.Woodie.Middle', 'Pivot.M.Woodie.R1', 'Pivot.M.Woodie.R2', 'Pivot.M.Woodie.R3', 'Pivot.M.Demark.S1', 'Pivot.M.Demark.Middle', 'Pivot.M.Demark.R1', 'open', 'P.SAR', 'BB.lower', 'BB.upper', 'AO[2]', 'volume', 'change', 'low', 'high'])"
      ]
     },
     "execution_count": 7,
     "metadata": {},
     "output_type": "execute_result"
    }
   ],
   "source": [
    "output.get_analysis().indicators.keys()"
   ]
  },
  {
   "cell_type": "code",
   "execution_count": 18,
   "metadata": {},
   "outputs": [],
   "source": [
    "random_symbols = [\"AAPL\", \"MSFT\", \"AMZN\", \"GOOGL\", \"TSLA\"]"
   ]
  },
  {
   "cell_type": "code",
   "execution_count": 19,
   "metadata": {},
   "outputs": [
    {
     "name": "stdout",
     "output_type": "stream",
     "text": [
      "Symbol: AAPL\n",
      "{'RECOMMENDATION': 'SELL', 'BUY': 3, 'SELL': 14, 'NEUTRAL': 9}\n",
      "Symbol: MSFT\n",
      "{'RECOMMENDATION': 'BUY', 'BUY': 12, 'SELL': 5, 'NEUTRAL': 9}\n",
      "Symbol: AMZN\n",
      "{'RECOMMENDATION': 'STRONG_BUY', 'BUY': 16, 'SELL': 1, 'NEUTRAL': 9}\n",
      "Symbol: GOOGL\n",
      "{'RECOMMENDATION': 'BUY', 'BUY': 15, 'SELL': 3, 'NEUTRAL': 8}\n",
      "Symbol: TSLA\n",
      "{'RECOMMENDATION': 'SELL', 'BUY': 3, 'SELL': 14, 'NEUTRAL': 9}\n"
     ]
    }
   ],
   "source": [
    "for symbol in random_symbols:\n",
    "    output = TA_Handler(symbol=symbol,\n",
    "                    screener='america',\n",
    "                    exchange='NASDAQ',\n",
    "                    interval=Interval.INTERVAL_1_DAY)\n",
    "    print('Symbol: ' +symbol)\n",
    "    print(output.get_analysis().summary)"
   ]
  },
  {
   "cell_type": "markdown",
   "metadata": {},
   "source": [
    "## yFinance and ta package"
   ]
  },
  {
   "cell_type": "markdown",
   "metadata": {},
   "source": [
    "https://technical-analysis-library-in-python.readthedocs.io/en/latest/ta.html"
   ]
  },
  {
   "cell_type": "markdown",
   "metadata": {},
   "source": [
    ">https://github.com/bukosabino/ta"
   ]
  },
  {
   "cell_type": "code",
   "execution_count": 26,
   "metadata": {},
   "outputs": [],
   "source": [
    "#pull historical data\n",
    "def get_data(pair):\n",
    "\n",
    "    NUM_DAYS = 10000    # The number of days of historical data to retrieve\n",
    "    INTERVAL = '1d'\n",
    "    symbol = str(pair)   # Symbol of the desired stock\n",
    "\n",
    "    #define start & dates\n",
    "    start = (datetime.date.today() - datetime.timedelta( NUM_DAYS ) )\n",
    "    end = datetime.datetime.today()\n",
    "    \n",
    "    #pull data\n",
    "    df = yf.download(symbol, start=start, end=end, interval=INTERVAL)\n",
    "    return df"
   ]
  },
  {
   "cell_type": "code",
   "execution_count": 27,
   "metadata": {},
   "outputs": [],
   "source": [
    "#get ta-lib indicators\n",
    "def get_indicators(df):\n",
    "    data_ind = add_all_ta_features(df, open=\"Open\", high=\"High\", low=\"Low\", \n",
    "                close=\"Close\", volume=\"Volume\")\n",
    "    return data_ind"
   ]
  },
  {
   "cell_type": "code",
   "execution_count": 34,
   "metadata": {},
   "outputs": [
    {
     "name": "stderr",
     "output_type": "stream",
     "text": [
      "[*********************100%%**********************]  1 of 1 completed"
     ]
    },
    {
     "name": "stdout",
     "output_type": "stream",
     "text": [
      "<class 'pandas.core.frame.DataFrame'>\n",
      "DatetimeIndex: 6888 entries, 1996-11-18 to 2024-04-03\n",
      "Data columns (total 6 columns):\n",
      " #   Column     Non-Null Count  Dtype  \n",
      "---  ------     --------------  -----  \n",
      " 0   Open       6888 non-null   float64\n",
      " 1   High       6888 non-null   float64\n",
      " 2   Low        6888 non-null   float64\n",
      " 3   Close      6888 non-null   float64\n",
      " 4   Adj Close  6888 non-null   float64\n",
      " 5   Volume     6888 non-null   int64  \n",
      "dtypes: float64(5), int64(1)\n",
      "memory usage: 376.7 KB\n"
     ]
    },
    {
     "name": "stderr",
     "output_type": "stream",
     "text": [
      "\n"
     ]
    }
   ],
   "source": [
    "df = get_data(\"AAPL\")\n",
    "df.info()"
   ]
  },
  {
   "cell_type": "code",
   "execution_count": 35,
   "metadata": {},
   "outputs": [
    {
     "name": "stderr",
     "output_type": "stream",
     "text": [
      "c:\\Users\\leand\\anaconda3\\envs\\cds305\\lib\\site-packages\\ta\\trend.py:1030: FutureWarning: Series.__setitem__ treating keys as positions is deprecated. In a future version, integer keys will always be treated as labels (consistent with DataFrame behavior). To set a value by position, use `ser.iloc[pos] = value`\n",
      "  self._psar[i] = high2\n"
     ]
    },
    {
     "name": "stdout",
     "output_type": "stream",
     "text": [
      "<class 'pandas.core.frame.DataFrame'>\n",
      "DatetimeIndex: 6888 entries, 1996-11-18 to 2024-04-03\n",
      "Data columns (total 92 columns):\n",
      " #   Column                     Non-Null Count  Dtype  \n",
      "---  ------                     --------------  -----  \n",
      " 0   Open                       6888 non-null   float64\n",
      " 1   High                       6888 non-null   float64\n",
      " 2   Low                        6888 non-null   float64\n",
      " 3   Close                      6888 non-null   float64\n",
      " 4   Adj Close                  6888 non-null   float64\n",
      " 5   Volume                     6888 non-null   int64  \n",
      " 6   volume_adi                 6888 non-null   float64\n",
      " 7   volume_obv                 6888 non-null   int64  \n",
      " 8   volume_cmf                 6869 non-null   float64\n",
      " 9   volume_fi                  6875 non-null   float64\n",
      " 10  volume_em                  6887 non-null   float64\n",
      " 11  volume_sma_em              6874 non-null   float64\n",
      " 12  volume_vpt                 6887 non-null   float64\n",
      " 13  volume_vwap                6875 non-null   float64\n",
      " 14  volume_mfi                 6875 non-null   float64\n",
      " 15  volume_nvi                 6888 non-null   float64\n",
      " 16  volatility_bbm             6869 non-null   float64\n",
      " 17  volatility_bbh             6869 non-null   float64\n",
      " 18  volatility_bbl             6869 non-null   float64\n",
      " 19  volatility_bbw             6869 non-null   float64\n",
      " 20  volatility_bbp             6869 non-null   float64\n",
      " 21  volatility_bbhi            6888 non-null   float64\n",
      " 22  volatility_bbli            6888 non-null   float64\n",
      " 23  volatility_kcc             6879 non-null   float64\n",
      " 24  volatility_kch             6888 non-null   float64\n",
      " 25  volatility_kcl             6888 non-null   float64\n",
      " 26  volatility_kcw             6879 non-null   float64\n",
      " 27  volatility_kcp             6888 non-null   float64\n",
      " 28  volatility_kchi            6888 non-null   float64\n",
      " 29  volatility_kcli            6888 non-null   float64\n",
      " 30  volatility_dcl             6869 non-null   float64\n",
      " 31  volatility_dch             6869 non-null   float64\n",
      " 32  volatility_dcm             6869 non-null   float64\n",
      " 33  volatility_dcw             6869 non-null   float64\n",
      " 34  volatility_dcp             6869 non-null   float64\n",
      " 35  volatility_atr             6888 non-null   float64\n",
      " 36  volatility_ui              6875 non-null   float64\n",
      " 37  trend_macd                 6863 non-null   float64\n",
      " 38  trend_macd_signal          6855 non-null   float64\n",
      " 39  trend_macd_diff            6855 non-null   float64\n",
      " 40  trend_sma_fast             6877 non-null   float64\n",
      " 41  trend_sma_slow             6863 non-null   float64\n",
      " 42  trend_ema_fast             6877 non-null   float64\n",
      " 43  trend_ema_slow             6863 non-null   float64\n",
      " 44  trend_vortex_ind_pos       6874 non-null   float64\n",
      " 45  trend_vortex_ind_neg       6874 non-null   float64\n",
      " 46  trend_vortex_ind_diff      6874 non-null   float64\n",
      " 47  trend_trix                 6845 non-null   float64\n",
      " 48  trend_mass_index           6848 non-null   float64\n",
      " 49  trend_dpo                  6869 non-null   float64\n",
      " 50  trend_kst                  6874 non-null   float64\n",
      " 51  trend_kst_sig              6874 non-null   float64\n",
      " 52  trend_kst_diff             6874 non-null   float64\n",
      " 53  trend_ichimoku_conv        6880 non-null   float64\n",
      " 54  trend_ichimoku_base        6863 non-null   float64\n",
      " 55  trend_ichimoku_a           6863 non-null   float64\n",
      " 56  trend_ichimoku_b           6888 non-null   float64\n",
      " 57  trend_stc                  6817 non-null   float64\n",
      " 58  trend_adx                  6888 non-null   float64\n",
      " 59  trend_adx_pos              6888 non-null   float64\n",
      " 60  trend_adx_neg              6888 non-null   float64\n",
      " 61  trend_cci                  6869 non-null   float64\n",
      " 62  trend_visual_ichimoku_a    6863 non-null   float64\n",
      " 63  trend_visual_ichimoku_b    6888 non-null   float64\n",
      " 64  trend_aroon_up             6863 non-null   float64\n",
      " 65  trend_aroon_down           6863 non-null   float64\n",
      " 66  trend_aroon_ind            6863 non-null   float64\n",
      " 67  trend_psar_up              3878 non-null   float64\n",
      " 68  trend_psar_down            3008 non-null   float64\n",
      " 69  trend_psar_up_indicator    6888 non-null   float64\n",
      " 70  trend_psar_down_indicator  6888 non-null   float64\n",
      " 71  momentum_rsi               6875 non-null   float64\n",
      " 72  momentum_stoch_rsi         6862 non-null   float64\n",
      " 73  momentum_stoch_rsi_k       6860 non-null   float64\n",
      " 74  momentum_stoch_rsi_d       6858 non-null   float64\n",
      " 75  momentum_tsi               6851 non-null   float64\n",
      " 76  momentum_uo                6860 non-null   float64\n",
      " 77  momentum_stoch             6875 non-null   float64\n",
      " 78  momentum_stoch_signal      6873 non-null   float64\n",
      " 79  momentum_wr                6875 non-null   float64\n",
      " 80  momentum_ao                6855 non-null   float64\n",
      " 81  momentum_roc               6876 non-null   float64\n",
      " 82  momentum_ppo               6863 non-null   float64\n",
      " 83  momentum_ppo_signal        6855 non-null   float64\n",
      " 84  momentum_ppo_hist          6855 non-null   float64\n",
      " 85  momentum_pvo               6863 non-null   float64\n",
      " 86  momentum_pvo_signal        6855 non-null   float64\n",
      " 87  momentum_pvo_hist          6855 non-null   float64\n",
      " 88  momentum_kama              6879 non-null   float64\n",
      " 89  others_dr                  6887 non-null   float64\n",
      " 90  others_dlr                 6887 non-null   float64\n",
      " 91  others_cr                  6888 non-null   float64\n",
      "dtypes: float64(90), int64(2)\n",
      "memory usage: 4.9 MB\n"
     ]
    }
   ],
   "source": [
    "df_indicators = get_indicators(df)\n",
    "df_indicators.info()"
   ]
  },
  {
   "cell_type": "code",
   "execution_count": 36,
   "metadata": {},
   "outputs": [
    {
     "data": {
      "text/html": [
       "<div>\n",
       "<style scoped>\n",
       "    .dataframe tbody tr th:only-of-type {\n",
       "        vertical-align: middle;\n",
       "    }\n",
       "\n",
       "    .dataframe tbody tr th {\n",
       "        vertical-align: top;\n",
       "    }\n",
       "\n",
       "    .dataframe thead th {\n",
       "        text-align: right;\n",
       "    }\n",
       "</style>\n",
       "<table border=\"1\" class=\"dataframe\">\n",
       "  <thead>\n",
       "    <tr style=\"text-align: right;\">\n",
       "      <th></th>\n",
       "      <th>Open</th>\n",
       "      <th>High</th>\n",
       "      <th>Low</th>\n",
       "      <th>Close</th>\n",
       "      <th>Adj Close</th>\n",
       "      <th>Volume</th>\n",
       "      <th>volume_adi</th>\n",
       "      <th>volume_obv</th>\n",
       "      <th>volume_cmf</th>\n",
       "      <th>volume_fi</th>\n",
       "      <th>...</th>\n",
       "      <th>momentum_ppo</th>\n",
       "      <th>momentum_ppo_signal</th>\n",
       "      <th>momentum_ppo_hist</th>\n",
       "      <th>momentum_pvo</th>\n",
       "      <th>momentum_pvo_signal</th>\n",
       "      <th>momentum_pvo_hist</th>\n",
       "      <th>momentum_kama</th>\n",
       "      <th>others_dr</th>\n",
       "      <th>others_dlr</th>\n",
       "      <th>others_cr</th>\n",
       "    </tr>\n",
       "    <tr>\n",
       "      <th>Date</th>\n",
       "      <th></th>\n",
       "      <th></th>\n",
       "      <th></th>\n",
       "      <th></th>\n",
       "      <th></th>\n",
       "      <th></th>\n",
       "      <th></th>\n",
       "      <th></th>\n",
       "      <th></th>\n",
       "      <th></th>\n",
       "      <th></th>\n",
       "      <th></th>\n",
       "      <th></th>\n",
       "      <th></th>\n",
       "      <th></th>\n",
       "      <th></th>\n",
       "      <th></th>\n",
       "      <th></th>\n",
       "      <th></th>\n",
       "      <th></th>\n",
       "      <th></th>\n",
       "    </tr>\n",
       "  </thead>\n",
       "  <tbody>\n",
       "    <tr>\n",
       "      <th>1996-11-18</th>\n",
       "      <td>0.223214</td>\n",
       "      <td>0.224330</td>\n",
       "      <td>0.218750</td>\n",
       "      <td>0.220982</td>\n",
       "      <td>0.187083</td>\n",
       "      <td>152835200</td>\n",
       "      <td>-3.056688e+07</td>\n",
       "      <td>152835200</td>\n",
       "      <td>NaN</td>\n",
       "      <td>NaN</td>\n",
       "      <td>...</td>\n",
       "      <td>NaN</td>\n",
       "      <td>NaN</td>\n",
       "      <td>NaN</td>\n",
       "      <td>NaN</td>\n",
       "      <td>NaN</td>\n",
       "      <td>NaN</td>\n",
       "      <td>NaN</td>\n",
       "      <td>NaN</td>\n",
       "      <td>NaN</td>\n",
       "      <td>0.000000</td>\n",
       "    </tr>\n",
       "    <tr>\n",
       "      <th>1996-11-19</th>\n",
       "      <td>0.222098</td>\n",
       "      <td>0.224330</td>\n",
       "      <td>0.219866</td>\n",
       "      <td>0.222098</td>\n",
       "      <td>0.188028</td>\n",
       "      <td>124432000</td>\n",
       "      <td>-3.056688e+07</td>\n",
       "      <td>277267200</td>\n",
       "      <td>NaN</td>\n",
       "      <td>NaN</td>\n",
       "      <td>...</td>\n",
       "      <td>NaN</td>\n",
       "      <td>NaN</td>\n",
       "      <td>NaN</td>\n",
       "      <td>NaN</td>\n",
       "      <td>NaN</td>\n",
       "      <td>NaN</td>\n",
       "      <td>NaN</td>\n",
       "      <td>0.505015</td>\n",
       "      <td>0.503744</td>\n",
       "      <td>0.505015</td>\n",
       "    </tr>\n",
       "    <tr>\n",
       "      <th>1996-11-20</th>\n",
       "      <td>0.222098</td>\n",
       "      <td>0.226563</td>\n",
       "      <td>0.222098</td>\n",
       "      <td>0.223214</td>\n",
       "      <td>0.188973</td>\n",
       "      <td>103096000</td>\n",
       "      <td>-8.212623e+07</td>\n",
       "      <td>380363200</td>\n",
       "      <td>NaN</td>\n",
       "      <td>NaN</td>\n",
       "      <td>...</td>\n",
       "      <td>NaN</td>\n",
       "      <td>NaN</td>\n",
       "      <td>NaN</td>\n",
       "      <td>NaN</td>\n",
       "      <td>NaN</td>\n",
       "      <td>NaN</td>\n",
       "      <td>NaN</td>\n",
       "      <td>0.502484</td>\n",
       "      <td>0.501226</td>\n",
       "      <td>1.010037</td>\n",
       "    </tr>\n",
       "    <tr>\n",
       "      <th>1996-11-21</th>\n",
       "      <td>0.222098</td>\n",
       "      <td>0.223214</td>\n",
       "      <td>0.217634</td>\n",
       "      <td>0.218750</td>\n",
       "      <td>0.185194</td>\n",
       "      <td>70604800</td>\n",
       "      <td>-1.244893e+08</td>\n",
       "      <td>309758400</td>\n",
       "      <td>NaN</td>\n",
       "      <td>NaN</td>\n",
       "      <td>...</td>\n",
       "      <td>NaN</td>\n",
       "      <td>NaN</td>\n",
       "      <td>NaN</td>\n",
       "      <td>NaN</td>\n",
       "      <td>NaN</td>\n",
       "      <td>NaN</td>\n",
       "      <td>NaN</td>\n",
       "      <td>-1.999875</td>\n",
       "      <td>-2.020143</td>\n",
       "      <td>-1.010037</td>\n",
       "    </tr>\n",
       "    <tr>\n",
       "      <th>1996-11-22</th>\n",
       "      <td>0.218750</td>\n",
       "      <td>0.225446</td>\n",
       "      <td>0.218750</td>\n",
       "      <td>0.225446</td>\n",
       "      <td>0.190862</td>\n",
       "      <td>103980800</td>\n",
       "      <td>-2.050846e+07</td>\n",
       "      <td>413739200</td>\n",
       "      <td>NaN</td>\n",
       "      <td>NaN</td>\n",
       "      <td>...</td>\n",
       "      <td>NaN</td>\n",
       "      <td>NaN</td>\n",
       "      <td>NaN</td>\n",
       "      <td>NaN</td>\n",
       "      <td>NaN</td>\n",
       "      <td>NaN</td>\n",
       "      <td>NaN</td>\n",
       "      <td>3.061029</td>\n",
       "      <td>3.015114</td>\n",
       "      <td>2.020074</td>\n",
       "    </tr>\n",
       "  </tbody>\n",
       "</table>\n",
       "<p>5 rows × 92 columns</p>\n",
       "</div>"
      ],
      "text/plain": [
       "                Open      High       Low     Close  Adj Close     Volume  \\\n",
       "Date                                                                       \n",
       "1996-11-18  0.223214  0.224330  0.218750  0.220982   0.187083  152835200   \n",
       "1996-11-19  0.222098  0.224330  0.219866  0.222098   0.188028  124432000   \n",
       "1996-11-20  0.222098  0.226563  0.222098  0.223214   0.188973  103096000   \n",
       "1996-11-21  0.222098  0.223214  0.217634  0.218750   0.185194   70604800   \n",
       "1996-11-22  0.218750  0.225446  0.218750  0.225446   0.190862  103980800   \n",
       "\n",
       "              volume_adi  volume_obv  volume_cmf  volume_fi  ...  \\\n",
       "Date                                                         ...   \n",
       "1996-11-18 -3.056688e+07   152835200         NaN        NaN  ...   \n",
       "1996-11-19 -3.056688e+07   277267200         NaN        NaN  ...   \n",
       "1996-11-20 -8.212623e+07   380363200         NaN        NaN  ...   \n",
       "1996-11-21 -1.244893e+08   309758400         NaN        NaN  ...   \n",
       "1996-11-22 -2.050846e+07   413739200         NaN        NaN  ...   \n",
       "\n",
       "            momentum_ppo  momentum_ppo_signal  momentum_ppo_hist  \\\n",
       "Date                                                               \n",
       "1996-11-18           NaN                  NaN                NaN   \n",
       "1996-11-19           NaN                  NaN                NaN   \n",
       "1996-11-20           NaN                  NaN                NaN   \n",
       "1996-11-21           NaN                  NaN                NaN   \n",
       "1996-11-22           NaN                  NaN                NaN   \n",
       "\n",
       "            momentum_pvo  momentum_pvo_signal  momentum_pvo_hist  \\\n",
       "Date                                                               \n",
       "1996-11-18           NaN                  NaN                NaN   \n",
       "1996-11-19           NaN                  NaN                NaN   \n",
       "1996-11-20           NaN                  NaN                NaN   \n",
       "1996-11-21           NaN                  NaN                NaN   \n",
       "1996-11-22           NaN                  NaN                NaN   \n",
       "\n",
       "            momentum_kama  others_dr  others_dlr  others_cr  \n",
       "Date                                                         \n",
       "1996-11-18            NaN        NaN         NaN   0.000000  \n",
       "1996-11-19            NaN   0.505015    0.503744   0.505015  \n",
       "1996-11-20            NaN   0.502484    0.501226   1.010037  \n",
       "1996-11-21            NaN  -1.999875   -2.020143  -1.010037  \n",
       "1996-11-22            NaN   3.061029    3.015114   2.020074  \n",
       "\n",
       "[5 rows x 92 columns]"
      ]
     },
     "execution_count": 36,
     "metadata": {},
     "output_type": "execute_result"
    }
   ],
   "source": [
    "df.head()"
   ]
  },
  {
   "cell_type": "markdown",
   "metadata": {},
   "source": [
    "### Volume Indicators\n",
    "- **Volume**: Measures the number of shares or contracts traded in a security or market during a given period.\n",
    "- **Money Flow Index (MFI)**: Combines price and volume to measure buying and selling pressure.\n",
    "- **Accumulation/Distribution Index (ADI)**: Shows the relationship between volume and price changes to identify divergences.\n",
    "- **On-Balance Volume (OBV)**: Tracks cumulative volume to predict price movements.\n",
    "- **Chaikin Money Flow (CMF)**: Combines price and volume to measure buying and selling pressure over a specific period.\n",
    "- **Force Index (FI)**: Indicates the strength of price movements based on volume.\n",
    "- **Ease of Movement (EoM, EMV)**: Measures the ease of price movement based on volume.\n",
    "- **Volume-price Trend (VPT)**: Shows the trend in volume-adjusted prices.\n",
    "- **Negative Volume Index (NVI)**: Uses volume to identify changes in sentiment.\n",
    "- **Volume Weighted Average Price (VWAP)**: Represents the average price of a security over a given period, weighted by trading volume.\n",
    "\n",
    "### Volatility Indicators\n",
    "- **Volatility**: Indicates the degree of variation of a trading price series.\n",
    "- **Average True Range (ATR)**: Measures market volatility by considering price movements.\n",
    "- **Bollinger Bands (BB)**: Uses standard deviations to determine price volatility.\n",
    "- **Keltner Channel (KC)**: Shows volatility based on the average true range.\n",
    "- **Donchian Channel (DC)**: Identifies price breakouts based on the highest high and lowest low over a specific period.\n",
    "- **Ulcer Index (UI)**: Measures downside volatility and risk.\n",
    "\n",
    "### Trend Indicators\n",
    "- **Trend**: Indicates the general direction of price movements.\n",
    "- **Simple Moving Average (SMA)**: Calculates the average price over a specific period.\n",
    "- **Exponential Moving Average (EMA)**: Gives more weight to recent prices in calculating the average.\n",
    "- **Weighted Moving Average (WMA)**: Assigns different weights to different data points.\n",
    "- **Moving Average Convergence Divergence (MACD)**: Shows the relationship between two moving averages.\n",
    "- **Average Directional Movement Index (ADX)**: Quantifies the strength of a trend.\n",
    "- **Vortex Indicator (VI)**: Identifies the start of a new trend.\n",
    "- **Trix (TRIX)**: Filters insignificant price movements to identify trends.\n",
    "- **Mass Index (MI)**: Predicts the reversal of a trend.\n",
    "\n",
    "### Momentum Indicators\n",
    "- **Momentum**: Measures the rate of price change.\n",
    "- **Relative Strength Index (RSI)**: Compares the magnitude of recent gains and losses to assess overbought or oversold conditions.\n",
    "- **Stochastic RSI (SRSI)**: Combines stochastic oscillators and RSI to identify trend reversals.\n",
    "- **True strength index (TSI)**: Shows trend direction and strength.\n",
    "- **Ultimate Oscillator (UO)**: Combines multiple timeframes to measure momentum.\n",
    "- **Stochastic Oscillator (SR)**: Identifies oversold and overbought conditions.\n",
    "- **Williams %R (WR)**: Measures overbought and oversold levels.\n",
    "- **Awesome Oscillator (AO)**: Shows the difference between a 5-period and a 34-period simple moving average.\n",
    "- **Kaufman’s Adaptive Moving Average (KAMA)**: Adjusts to price changes to minimize false signals.\n",
    "- **Rate of Change (ROC)**: Measures the percentage change in price over a specific period.\n",
    "- **Percentage Price Oscillator (PPO)**: Compares two moving averages to assess momentum.\n",
    "- **Percentage Volume Oscillator (PVO)**: Measures the difference between two volume-based moving averages.\n",
    "\n",
    "### Others\n",
    "- **Daily Return (DR)**: The percentage change in the price of a security from one trading day to the next.\n",
    "- **Daily Log Return (DLR)**: The natural logarithm of the ratio of the closing price of one trading day to the closing price of the previous trading day.\n",
    "- **Cumulative Return (CR)**: The aggregate return of an investment over time.\n"
   ]
  },
  {
   "cell_type": "markdown",
   "metadata": {},
   "source": [
    "---"
   ]
  }
 ],
 "metadata": {
  "kernelspec": {
   "display_name": "cds305",
   "language": "python",
   "name": "python3"
  },
  "language_info": {
   "codemirror_mode": {
    "name": "ipython",
    "version": 3
   },
   "file_extension": ".py",
   "mimetype": "text/x-python",
   "name": "python",
   "nbconvert_exporter": "python",
   "pygments_lexer": "ipython3",
   "version": "3.10.13"
  }
 },
 "nbformat": 4,
 "nbformat_minor": 2
}
