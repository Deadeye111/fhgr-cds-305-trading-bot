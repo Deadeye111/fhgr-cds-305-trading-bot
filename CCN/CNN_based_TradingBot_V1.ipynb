{
 "cells": [
  {
   "cell_type": "markdown",
   "metadata": {},
   "source": [
    "# Imports"
   ]
  },
  {
   "cell_type": "code",
   "execution_count": 1,
   "metadata": {},
   "outputs": [],
   "source": [
    "import yfinance as yf\n",
    "import numpy as np\n",
    "import pandas as pd\n",
    "import matplotlib.pyplot as plt\n",
    "\n",
    "from ta.trend import TRIXIndicator\n",
    "from ta.trend import WMAIndicator\n",
    "from ta.trend import CCIIndicator\n",
    "from ta.volume import money_flow_index\n",
    "import pandas_ta as pta\n",
    "from ta.trend import MACD\n",
    "from ta.momentum import PercentagePriceOscillator\n",
    "from ta.momentum import ROCIndicator\n",
    "from ta.volume import ChaikinMoneyFlowIndicator\n",
    "from ta.trend import ADXIndicator"
   ]
  },
  {
   "cell_type": "markdown",
   "metadata": {},
   "source": [
    "# Load Data"
   ]
  },
  {
   "cell_type": "code",
   "execution_count": 2,
   "metadata": {},
   "outputs": [],
   "source": [
    "appl = yf.Ticker(\"AAPL\")"
   ]
  },
  {
   "cell_type": "code",
   "execution_count": 3,
   "metadata": {},
   "outputs": [],
   "source": [
    "appl_hist = appl.history(period=\"max\")\n",
    "\n",
    "# make pandas dataframe\n",
    "apple_df = pd.DataFrame(appl_hist)"
   ]
  },
  {
   "cell_type": "markdown",
   "metadata": {},
   "source": [
    "# Create Features"
   ]
  },
  {
   "cell_type": "markdown",
   "metadata": {},
   "source": [
    "### Function Template for feature creation"
   ]
  },
  {
   "cell_type": "code",
   "execution_count": 4,
   "metadata": {},
   "outputs": [],
   "source": [
    "def get_NAME_FEATUERE(df):\n",
    "    #implementation of the feature-calculation\n",
    "    # directly add the feature to the dataframe\n",
    "    # no reurn needed\n",
    "    pass"
   ]
  },
  {
   "cell_type": "markdown",
   "metadata": {},
   "source": [
    "### Window Parameter"
   ]
  },
  {
   "cell_type": "code",
   "execution_count": 5,
   "metadata": {},
   "outputs": [],
   "source": [
    "window = [5,7,9,11,13,15,17,19,21]"
   ]
  },
  {
   "cell_type": "markdown",
   "metadata": {},
   "source": [
    "## Simple Moving Average SMA"
   ]
  },
  {
   "cell_type": "code",
   "execution_count": 6,
   "metadata": {},
   "outputs": [],
   "source": [
    "def get_SMA(df):\n",
    "    for i in window:\n",
    "        df[f\"SMA_{i}\"] = df['Close'].rolling(window=i).mean()"
   ]
  },
  {
   "cell_type": "markdown",
   "metadata": {},
   "source": [
    "## Exponential Moving Average"
   ]
  },
  {
   "cell_type": "code",
   "execution_count": 7,
   "metadata": {},
   "outputs": [],
   "source": [
    "# a function for the exponential moving average\n",
    "def get_EMA(df):\n",
    "    for i in window:\n",
    "        df[f\"EMA_{i}\"] = df['Close'].ewm(span=i, adjust=False).mean()   # adjust checken: https://pandas.pydata.org/pandas-docs/stable/reference/api/pandas.DataFrame.ewm.html"
   ]
  },
  {
   "cell_type": "markdown",
   "metadata": {},
   "source": [
    "## Triple Exponential Moving Average (TEMA)"
   ]
  },
  {
   "cell_type": "code",
   "execution_count": 8,
   "metadata": {},
   "outputs": [],
   "source": [
    "def get_TRIX(df):\n",
    "    for i in window:\n",
    "        trix_values = TRIXIndicator(df['Close'], i).trix()\n",
    "        df[f\"TRIX_{i}\"] = trix_values\n",
    "    return df"
   ]
  },
  {
   "cell_type": "markdown",
   "metadata": {},
   "source": [
    "## Mony Flow Index"
   ]
  },
  {
   "cell_type": "markdown",
   "metadata": {},
   "source": [
    "The Money Flow Index (MFI) is a technical oscillator that uses price and volume data for identifying overbought or oversold signals in an asset. It can also be used to spot divergences which warn of a trend change in price. The oscillator moves between 0 and 100.\n",
    "\n",
    "https://www.investopedia.com/terms/m/mfi.asp"
   ]
  },
  {
   "cell_type": "code",
   "execution_count": 9,
   "metadata": {},
   "outputs": [],
   "source": [
    "# Function to calculate Money Flow Index\n",
    "# Uses monex_flow_index from ta library\n",
    "\n",
    "def get_MFI(df):\n",
    "    for i in window:\n",
    "        df[f\"money_flow_index_{i}\"] = money_flow_index(df['High'], df['Low'], df['Close'], df['Volume'], window=i)  "
   ]
  },
  {
   "cell_type": "markdown",
   "metadata": {},
   "source": [
    "## Smoothed RSI"
   ]
  },
  {
   "cell_type": "code",
   "execution_count": 10,
   "metadata": {},
   "outputs": [],
   "source": [
    "def get_RSI_smooth(df):\n",
    "    \"\"\"\n",
    "    Momentum indicator\n",
    "    As per https://www.investopedia.com/terms/r/rsi.asp\n",
    "    RSI_1 = 100 - (100/ (1 + (avg gain% / avg loss%) ) )\n",
    "    RSI_2 = 100 - (100/ (1 + (prev_avg_gain*13+avg gain% / prev_avg_loss*13 + avg loss%) ) )\n",
    "\n",
    "    E.g. if period==6, first RSI starts from 7th index because difference of first row is NA\n",
    "    http://cns.bu.edu/~gsc/CN710/fincast/Technical%20_indicators/Relative%20Strength%20Index%20(RSI).htm\n",
    "    https://school.stockcharts.com/doku.php?id=technical_indicators:relative_strength_index_rsi\n",
    "    Verified!\n",
    "    \"\"\"\n",
    "\n",
    "    prev_rsi = np.inf\n",
    "    prev_avg_gain = np.inf\n",
    "    prev_avg_loss = np.inf\n",
    "    rolling_count = 0\n",
    "\n",
    "    def calculate_RSI(series, period):\n",
    "        # nonlocal rolling_count\n",
    "        nonlocal prev_avg_gain\n",
    "        nonlocal prev_avg_loss\n",
    "        nonlocal rolling_count\n",
    "\n",
    "        # num_gains = (series >= 0).sum()\n",
    "        # num_losses = (series < 0).sum()\n",
    "        # sum_gains = series[series >= 0].sum()\n",
    "        # sum_losses = np.abs(series[series < 0].sum())\n",
    "        curr_gains = series.where(series >= 0, 0)  # replace 0 where series not > 0\n",
    "        curr_losses = np.abs(series.where(series < 0, 0))\n",
    "        avg_gain = curr_gains.sum() / period  # * 100\n",
    "        avg_loss = curr_losses.sum() / period  # * 100\n",
    "        rsi = -1\n",
    "\n",
    "        if rolling_count == 0:\n",
    "            # first RSI calculation\n",
    "            rsi = 100 - (100 / (1 + (avg_gain / avg_loss)))\n",
    "            # print(rolling_count,\"rs1=\",rs, rsi)\n",
    "        else:\n",
    "            # smoothed RSI\n",
    "            # current gain and loss should be used, not avg_gain & avg_loss\n",
    "            rsi = 100 - (100 / (1 + ((prev_avg_gain * (period - 1) + curr_gains.iloc[-1]) /\n",
    "                                     (prev_avg_loss * (period - 1) + curr_losses.iloc[-1]))))\n",
    "            # print(rolling_count,\"rs2=\",rs, rsi)\n",
    "\n",
    "        # df['rsi_'+str(period)+'_own'][period + rolling_count] = rsi\n",
    "        rolling_count = rolling_count + 1\n",
    "        prev_avg_gain = avg_gain\n",
    "        prev_avg_loss = avg_loss\n",
    "        return rsi\n",
    "\n",
    "    diff = df['Close'].diff()[1:]  # skip na\n",
    "    for i in window:\n",
    "        df['rsi_' + str(i)] = np.nan\n",
    "        # df['rsi_'+str(period)+'_own_1'] = np.nan\n",
    "        rolling_count = 0\n",
    "        res = diff.rolling(i).apply(calculate_RSI, args=(i,), raw=False)\n",
    "        df['rsi_' + str(i)][1:] = res"
   ]
  },
  {
   "cell_type": "markdown",
   "metadata": {},
   "source": [
    "## Williams %R"
   ]
  },
  {
   "cell_type": "markdown",
   "metadata": {},
   "source": [
    "https://de.wikipedia.org/wiki/Williams_%25R"
   ]
  },
  {
   "cell_type": "code",
   "execution_count": 11,
   "metadata": {},
   "outputs": [],
   "source": [
    "def get_WILLIAMS_R(df):\n",
    "    for i in window:\n",
    "        highest_high = df['High'].rolling(window=i).max()\n",
    "        lowest_low = df['Low'].rolling(window=i).min()\n",
    "        df[f\"williams_r_{i}\"] = ((highest_high - df['Close']) / (highest_high - lowest_low)) * (-100)"
   ]
  },
  {
   "cell_type": "markdown",
   "metadata": {},
   "source": [
    "## WMA - Weighted Moving Average"
   ]
  },
  {
   "cell_type": "code",
   "execution_count": 12,
   "metadata": {},
   "outputs": [],
   "source": [
    "def get_WMA(df):\n",
    "    for i in window:\n",
    "        df[f\"wma_{i}\"] = WMAIndicator(df['Close'], i).wma()"
   ]
  },
  {
   "cell_type": "markdown",
   "metadata": {},
   "source": [
    "## HMA - Hull Moving Average"
   ]
  },
  {
   "cell_type": "code",
   "execution_count": 13,
   "metadata": {},
   "outputs": [],
   "source": [
    "#  ToDo: Formel und Resultate noch zu validieren!!\n",
    "\n",
    "def get_HMA(df):\n",
    "    \"\"\"\n",
    "    Berechnet den Hull Moving Average (HMA) und fügt ihn als neue Spalte zum DataFrame hinzu.\n",
    "    \n",
    "    \"\"\"\n",
    "\n",
    "    for i in window:\n",
    "        wma1 = 2 * df['Close'].rolling(window=int(i / 2)).mean()\n",
    "        wma2 = df['Close'].rolling(window=i).mean()\n",
    "        diff = wma1 - wma2\n",
    "        hma = diff.rolling(window=int(np.sqrt(i))).mean()\n",
    "        df[f\"hma_{i}\"] = hma\n"
   ]
  },
  {
   "cell_type": "markdown",
   "metadata": {},
   "source": [
    "## CCI - Commodity Channel Index"
   ]
  },
  {
   "cell_type": "code",
   "execution_count": 14,
   "metadata": {},
   "outputs": [],
   "source": [
    "def get_CCI(df):\n",
    "    for i in window:\n",
    "        cci_values = CCIIndicator(df['High'], df['Low'], df['Close'], i).cci()\n",
    "        df[f\"cci_{i}\"] = cci_values"
   ]
  },
  {
   "cell_type": "markdown",
   "metadata": {},
   "source": [
    "## CMO - Chande Momentum Oszillator"
   ]
  },
  {
   "cell_type": "code",
   "execution_count": 15,
   "metadata": {},
   "outputs": [],
   "source": [
    "# https://github.com/twopirllc/pandas-ta?tab=readme-ov-file#trend-18\n",
    "# ToDo: Check!\n",
    "\n",
    "def get_CMO(df):\n",
    "    for i in window:\n",
    "        df[f\"cmo_{i}\"] = pta.cmo(df['Close'], length=i)"
   ]
  },
  {
   "cell_type": "markdown",
   "metadata": {},
   "source": [
    "## MACD - Moving Average Convergence Divergence"
   ]
  },
  {
   "cell_type": "code",
   "execution_count": 16,
   "metadata": {},
   "outputs": [],
   "source": [
    "## https://www.lynxbroker.ch/boerse/trading/technische-analyse/technische-indikatoren/der-macd-indikator-bestimmen-sie-die-richtung-und-staerke-des-trends/"
   ]
  },
  {
   "cell_type": "code",
   "execution_count": 17,
   "metadata": {},
   "outputs": [],
   "source": [
    "# ToDo: Check and Implementation for different windows\n",
    "\n",
    "def get_MACD(df):\n",
    "    macd_object = MACD(df['Close'])\n",
    "    df['MACD'] = macd_object.macd()\n",
    "    df['MACD_Signal'] = macd_object.macd_signal()\n",
    "    df['MACD_Diff'] = macd_object.macd_diff()"
   ]
  },
  {
   "cell_type": "markdown",
   "metadata": {},
   "source": [
    "## PPO - Percentage Price Oscillator"
   ]
  },
  {
   "cell_type": "markdown",
   "metadata": {},
   "source": [
    "https://school.stockcharts.com/doku.php?id=technical_indicators:price_oscillators_ppo"
   ]
  },
  {
   "cell_type": "code",
   "execution_count": 18,
   "metadata": {},
   "outputs": [],
   "source": [
    "# ToDo: Check and Implementation for different windows\n",
    "\n",
    "def get_PPO(df):\n",
    "        ppo_object = PercentagePriceOscillator(df['Close'])\n",
    "        df[f\"PPO\"] = ppo_object.ppo()\n",
    "        df[f\"PPO_Histogram\"] = ppo_object.ppo_hist()\n",
    "        df[f\"PPO_Signal\"] = ppo_object.ppo_signal()"
   ]
  },
  {
   "cell_type": "markdown",
   "metadata": {},
   "source": [
    "## ROC - Rate of Change"
   ]
  },
  {
   "cell_type": "markdown",
   "metadata": {},
   "source": [
    "https://school.stockcharts.com/doku.php?id=technical_indicators:rate_of_change_roc_and_momentum"
   ]
  },
  {
   "cell_type": "code",
   "execution_count": 19,
   "metadata": {},
   "outputs": [],
   "source": [
    "def get_ROC(df):\n",
    "    for i in window:\n",
    "        df[f\"ROC_{i}\"] = ROCIndicator(df['Close'], i).roc()"
   ]
  },
  {
   "cell_type": "markdown",
   "metadata": {},
   "source": [
    "## CMI - Chaikin Money Flow"
   ]
  },
  {
   "cell_type": "markdown",
   "metadata": {},
   "source": [
    "https://school.stockcharts.com/doku.php?id=technical_indicators:chaikin_money_flow_cmf"
   ]
  },
  {
   "cell_type": "code",
   "execution_count": 20,
   "metadata": {},
   "outputs": [],
   "source": [
    "def get_CMF(df):\n",
    "    for i in window:\n",
    "        df[f\"cmf_{i}\"] = ChaikinMoneyFlowIndicator(df['High'], df['Low'], df['Close'], df['Volume'], i).chaikin_money_flow()"
   ]
  },
  {
   "cell_type": "markdown",
   "metadata": {},
   "source": [
    "## ADX - Average Directional Movement Index (ADX)"
   ]
  },
  {
   "cell_type": "markdown",
   "metadata": {},
   "source": [
    "http://stockcharts.com/school/doku.php?id=chart_school:technical_indicators:average_directional_index_adx"
   ]
  },
  {
   "cell_type": "code",
   "execution_count": 21,
   "metadata": {},
   "outputs": [],
   "source": [
    "def get_ADX(df):\n",
    "    for i in window:\n",
    "        df[f\"adx_{i}\"] = ADXIndicator(df['High'], df['Low'], df['Close'], i).adx()\n",
    "        df[f\"adx_pos_{i}\"] = ADXIndicator(df['High'], df['Low'], df['Close'], i).adx_pos()\n",
    "        df[f\"adx_neg_{i}\"] = ADXIndicator(df['High'], df['Low'], df['Close'], i).adx_neg()\n",
    "        \n",
    "        "
   ]
  },
  {
   "cell_type": "markdown",
   "metadata": {},
   "source": [
    "## Calculation of all features"
   ]
  },
  {
   "cell_type": "code",
   "execution_count": 36,
   "metadata": {},
   "outputs": [],
   "source": [
    "def create_features(df):\n",
    "    get_SMA(df)\n",
    "    get_EMA(df)\n",
    "    get_TRIX(df)\n",
    "    get_MFI(df)\n",
    "    get_RSI_smooth(df)\n",
    "    get_WILLIAMS_R(df)\n",
    "    get_WMA(df)\n",
    "    get_HMA(df)\n",
    "    get_CCI(df)\n",
    "    get_CMO(df)\n",
    "    get_MACD(df)\n",
    "    get_PPO(df)\n",
    "    get_ROC(df)\n",
    "    get_CMF(df)\n",
    "    get_ADX(df)\n",
    "    \n",
    "    \n",
    "\n",
    "    print('Feature creation done!')"
   ]
  },
  {
   "cell_type": "code",
   "execution_count": 23,
   "metadata": {},
   "outputs": [
    {
     "name": "stderr",
     "output_type": "stream",
     "text": [
      "/var/folders/p3/w0lx7sbn5pd85k9cmydlynhc0000gn/T/ipykernel_3371/674612428.py:58: SettingWithCopyWarning: \n",
      "A value is trying to be set on a copy of a slice from a DataFrame\n",
      "\n",
      "See the caveats in the documentation: https://pandas.pydata.org/pandas-docs/stable/user_guide/indexing.html#returning-a-view-versus-a-copy\n",
      "  df['rsi_' + str(i)][1:] = res\n",
      "/var/folders/p3/w0lx7sbn5pd85k9cmydlynhc0000gn/T/ipykernel_3371/674612428.py:58: SettingWithCopyWarning: \n",
      "A value is trying to be set on a copy of a slice from a DataFrame\n",
      "\n",
      "See the caveats in the documentation: https://pandas.pydata.org/pandas-docs/stable/user_guide/indexing.html#returning-a-view-versus-a-copy\n",
      "  df['rsi_' + str(i)][1:] = res\n",
      "/var/folders/p3/w0lx7sbn5pd85k9cmydlynhc0000gn/T/ipykernel_3371/674612428.py:58: SettingWithCopyWarning: \n",
      "A value is trying to be set on a copy of a slice from a DataFrame\n",
      "\n",
      "See the caveats in the documentation: https://pandas.pydata.org/pandas-docs/stable/user_guide/indexing.html#returning-a-view-versus-a-copy\n",
      "  df['rsi_' + str(i)][1:] = res\n",
      "/var/folders/p3/w0lx7sbn5pd85k9cmydlynhc0000gn/T/ipykernel_3371/674612428.py:58: SettingWithCopyWarning: \n",
      "A value is trying to be set on a copy of a slice from a DataFrame\n",
      "\n",
      "See the caveats in the documentation: https://pandas.pydata.org/pandas-docs/stable/user_guide/indexing.html#returning-a-view-versus-a-copy\n",
      "  df['rsi_' + str(i)][1:] = res\n",
      "/var/folders/p3/w0lx7sbn5pd85k9cmydlynhc0000gn/T/ipykernel_3371/674612428.py:58: SettingWithCopyWarning: \n",
      "A value is trying to be set on a copy of a slice from a DataFrame\n",
      "\n",
      "See the caveats in the documentation: https://pandas.pydata.org/pandas-docs/stable/user_guide/indexing.html#returning-a-view-versus-a-copy\n",
      "  df['rsi_' + str(i)][1:] = res\n",
      "/var/folders/p3/w0lx7sbn5pd85k9cmydlynhc0000gn/T/ipykernel_3371/674612428.py:58: SettingWithCopyWarning: \n",
      "A value is trying to be set on a copy of a slice from a DataFrame\n",
      "\n",
      "See the caveats in the documentation: https://pandas.pydata.org/pandas-docs/stable/user_guide/indexing.html#returning-a-view-versus-a-copy\n",
      "  df['rsi_' + str(i)][1:] = res\n",
      "/var/folders/p3/w0lx7sbn5pd85k9cmydlynhc0000gn/T/ipykernel_3371/674612428.py:58: SettingWithCopyWarning: \n",
      "A value is trying to be set on a copy of a slice from a DataFrame\n",
      "\n",
      "See the caveats in the documentation: https://pandas.pydata.org/pandas-docs/stable/user_guide/indexing.html#returning-a-view-versus-a-copy\n",
      "  df['rsi_' + str(i)][1:] = res\n",
      "/var/folders/p3/w0lx7sbn5pd85k9cmydlynhc0000gn/T/ipykernel_3371/674612428.py:58: SettingWithCopyWarning: \n",
      "A value is trying to be set on a copy of a slice from a DataFrame\n",
      "\n",
      "See the caveats in the documentation: https://pandas.pydata.org/pandas-docs/stable/user_guide/indexing.html#returning-a-view-versus-a-copy\n",
      "  df['rsi_' + str(i)][1:] = res\n",
      "/var/folders/p3/w0lx7sbn5pd85k9cmydlynhc0000gn/T/ipykernel_3371/674612428.py:58: SettingWithCopyWarning: \n",
      "A value is trying to be set on a copy of a slice from a DataFrame\n",
      "\n",
      "See the caveats in the documentation: https://pandas.pydata.org/pandas-docs/stable/user_guide/indexing.html#returning-a-view-versus-a-copy\n",
      "  df['rsi_' + str(i)][1:] = res\n",
      "/var/folders/p3/w0lx7sbn5pd85k9cmydlynhc0000gn/T/ipykernel_3371/334912716.py:7: PerformanceWarning: DataFrame is highly fragmented.  This is usually the result of calling `frame.insert` many times, which has poor performance.  Consider joining all columns at once using pd.concat(axis=1) instead. To get a de-fragmented frame, use `newframe = frame.copy()`\n",
      "  df[f\"PPO_Signal\"] = ppo_object.ppo_signal()\n",
      "/var/folders/p3/w0lx7sbn5pd85k9cmydlynhc0000gn/T/ipykernel_3371/3520578464.py:3: PerformanceWarning: DataFrame is highly fragmented.  This is usually the result of calling `frame.insert` many times, which has poor performance.  Consider joining all columns at once using pd.concat(axis=1) instead. To get a de-fragmented frame, use `newframe = frame.copy()`\n",
      "  df[f\"ROC_{i}\"] = ROCIndicator(df['Close'], i).roc()\n",
      "/var/folders/p3/w0lx7sbn5pd85k9cmydlynhc0000gn/T/ipykernel_3371/3520578464.py:3: PerformanceWarning: DataFrame is highly fragmented.  This is usually the result of calling `frame.insert` many times, which has poor performance.  Consider joining all columns at once using pd.concat(axis=1) instead. To get a de-fragmented frame, use `newframe = frame.copy()`\n",
      "  df[f\"ROC_{i}\"] = ROCIndicator(df['Close'], i).roc()\n",
      "/var/folders/p3/w0lx7sbn5pd85k9cmydlynhc0000gn/T/ipykernel_3371/3520578464.py:3: PerformanceWarning: DataFrame is highly fragmented.  This is usually the result of calling `frame.insert` many times, which has poor performance.  Consider joining all columns at once using pd.concat(axis=1) instead. To get a de-fragmented frame, use `newframe = frame.copy()`\n",
      "  df[f\"ROC_{i}\"] = ROCIndicator(df['Close'], i).roc()\n",
      "/var/folders/p3/w0lx7sbn5pd85k9cmydlynhc0000gn/T/ipykernel_3371/3520578464.py:3: PerformanceWarning: DataFrame is highly fragmented.  This is usually the result of calling `frame.insert` many times, which has poor performance.  Consider joining all columns at once using pd.concat(axis=1) instead. To get a de-fragmented frame, use `newframe = frame.copy()`\n",
      "  df[f\"ROC_{i}\"] = ROCIndicator(df['Close'], i).roc()\n",
      "/var/folders/p3/w0lx7sbn5pd85k9cmydlynhc0000gn/T/ipykernel_3371/3520578464.py:3: PerformanceWarning: DataFrame is highly fragmented.  This is usually the result of calling `frame.insert` many times, which has poor performance.  Consider joining all columns at once using pd.concat(axis=1) instead. To get a de-fragmented frame, use `newframe = frame.copy()`\n",
      "  df[f\"ROC_{i}\"] = ROCIndicator(df['Close'], i).roc()\n",
      "/var/folders/p3/w0lx7sbn5pd85k9cmydlynhc0000gn/T/ipykernel_3371/3520578464.py:3: PerformanceWarning: DataFrame is highly fragmented.  This is usually the result of calling `frame.insert` many times, which has poor performance.  Consider joining all columns at once using pd.concat(axis=1) instead. To get a de-fragmented frame, use `newframe = frame.copy()`\n",
      "  df[f\"ROC_{i}\"] = ROCIndicator(df['Close'], i).roc()\n",
      "/var/folders/p3/w0lx7sbn5pd85k9cmydlynhc0000gn/T/ipykernel_3371/3520578464.py:3: PerformanceWarning: DataFrame is highly fragmented.  This is usually the result of calling `frame.insert` many times, which has poor performance.  Consider joining all columns at once using pd.concat(axis=1) instead. To get a de-fragmented frame, use `newframe = frame.copy()`\n",
      "  df[f\"ROC_{i}\"] = ROCIndicator(df['Close'], i).roc()\n",
      "/var/folders/p3/w0lx7sbn5pd85k9cmydlynhc0000gn/T/ipykernel_3371/3520578464.py:3: PerformanceWarning: DataFrame is highly fragmented.  This is usually the result of calling `frame.insert` many times, which has poor performance.  Consider joining all columns at once using pd.concat(axis=1) instead. To get a de-fragmented frame, use `newframe = frame.copy()`\n",
      "  df[f\"ROC_{i}\"] = ROCIndicator(df['Close'], i).roc()\n",
      "/var/folders/p3/w0lx7sbn5pd85k9cmydlynhc0000gn/T/ipykernel_3371/3520578464.py:3: PerformanceWarning: DataFrame is highly fragmented.  This is usually the result of calling `frame.insert` many times, which has poor performance.  Consider joining all columns at once using pd.concat(axis=1) instead. To get a de-fragmented frame, use `newframe = frame.copy()`\n",
      "  df[f\"ROC_{i}\"] = ROCIndicator(df['Close'], i).roc()\n",
      "/var/folders/p3/w0lx7sbn5pd85k9cmydlynhc0000gn/T/ipykernel_3371/984809181.py:3: PerformanceWarning: DataFrame is highly fragmented.  This is usually the result of calling `frame.insert` many times, which has poor performance.  Consider joining all columns at once using pd.concat(axis=1) instead. To get a de-fragmented frame, use `newframe = frame.copy()`\n",
      "  df[f\"cmf_{i}\"] = ChaikinMoneyFlowIndicator(df['High'], df['Low'], df['Close'], df['Volume'], i).chaikin_money_flow()\n",
      "/var/folders/p3/w0lx7sbn5pd85k9cmydlynhc0000gn/T/ipykernel_3371/984809181.py:3: PerformanceWarning: DataFrame is highly fragmented.  This is usually the result of calling `frame.insert` many times, which has poor performance.  Consider joining all columns at once using pd.concat(axis=1) instead. To get a de-fragmented frame, use `newframe = frame.copy()`\n",
      "  df[f\"cmf_{i}\"] = ChaikinMoneyFlowIndicator(df['High'], df['Low'], df['Close'], df['Volume'], i).chaikin_money_flow()\n",
      "/var/folders/p3/w0lx7sbn5pd85k9cmydlynhc0000gn/T/ipykernel_3371/984809181.py:3: PerformanceWarning: DataFrame is highly fragmented.  This is usually the result of calling `frame.insert` many times, which has poor performance.  Consider joining all columns at once using pd.concat(axis=1) instead. To get a de-fragmented frame, use `newframe = frame.copy()`\n",
      "  df[f\"cmf_{i}\"] = ChaikinMoneyFlowIndicator(df['High'], df['Low'], df['Close'], df['Volume'], i).chaikin_money_flow()\n",
      "/var/folders/p3/w0lx7sbn5pd85k9cmydlynhc0000gn/T/ipykernel_3371/984809181.py:3: PerformanceWarning: DataFrame is highly fragmented.  This is usually the result of calling `frame.insert` many times, which has poor performance.  Consider joining all columns at once using pd.concat(axis=1) instead. To get a de-fragmented frame, use `newframe = frame.copy()`\n",
      "  df[f\"cmf_{i}\"] = ChaikinMoneyFlowIndicator(df['High'], df['Low'], df['Close'], df['Volume'], i).chaikin_money_flow()\n",
      "/var/folders/p3/w0lx7sbn5pd85k9cmydlynhc0000gn/T/ipykernel_3371/984809181.py:3: PerformanceWarning: DataFrame is highly fragmented.  This is usually the result of calling `frame.insert` many times, which has poor performance.  Consider joining all columns at once using pd.concat(axis=1) instead. To get a de-fragmented frame, use `newframe = frame.copy()`\n",
      "  df[f\"cmf_{i}\"] = ChaikinMoneyFlowIndicator(df['High'], df['Low'], df['Close'], df['Volume'], i).chaikin_money_flow()\n",
      "/var/folders/p3/w0lx7sbn5pd85k9cmydlynhc0000gn/T/ipykernel_3371/984809181.py:3: PerformanceWarning: DataFrame is highly fragmented.  This is usually the result of calling `frame.insert` many times, which has poor performance.  Consider joining all columns at once using pd.concat(axis=1) instead. To get a de-fragmented frame, use `newframe = frame.copy()`\n",
      "  df[f\"cmf_{i}\"] = ChaikinMoneyFlowIndicator(df['High'], df['Low'], df['Close'], df['Volume'], i).chaikin_money_flow()\n",
      "/var/folders/p3/w0lx7sbn5pd85k9cmydlynhc0000gn/T/ipykernel_3371/984809181.py:3: PerformanceWarning: DataFrame is highly fragmented.  This is usually the result of calling `frame.insert` many times, which has poor performance.  Consider joining all columns at once using pd.concat(axis=1) instead. To get a de-fragmented frame, use `newframe = frame.copy()`\n",
      "  df[f\"cmf_{i}\"] = ChaikinMoneyFlowIndicator(df['High'], df['Low'], df['Close'], df['Volume'], i).chaikin_money_flow()\n",
      "/var/folders/p3/w0lx7sbn5pd85k9cmydlynhc0000gn/T/ipykernel_3371/984809181.py:3: PerformanceWarning: DataFrame is highly fragmented.  This is usually the result of calling `frame.insert` many times, which has poor performance.  Consider joining all columns at once using pd.concat(axis=1) instead. To get a de-fragmented frame, use `newframe = frame.copy()`\n",
      "  df[f\"cmf_{i}\"] = ChaikinMoneyFlowIndicator(df['High'], df['Low'], df['Close'], df['Volume'], i).chaikin_money_flow()\n",
      "/var/folders/p3/w0lx7sbn5pd85k9cmydlynhc0000gn/T/ipykernel_3371/984809181.py:3: PerformanceWarning: DataFrame is highly fragmented.  This is usually the result of calling `frame.insert` many times, which has poor performance.  Consider joining all columns at once using pd.concat(axis=1) instead. To get a de-fragmented frame, use `newframe = frame.copy()`\n",
      "  df[f\"cmf_{i}\"] = ChaikinMoneyFlowIndicator(df['High'], df['Low'], df['Close'], df['Volume'], i).chaikin_money_flow()\n",
      "/var/folders/p3/w0lx7sbn5pd85k9cmydlynhc0000gn/T/ipykernel_3371/476938937.py:3: PerformanceWarning: DataFrame is highly fragmented.  This is usually the result of calling `frame.insert` many times, which has poor performance.  Consider joining all columns at once using pd.concat(axis=1) instead. To get a de-fragmented frame, use `newframe = frame.copy()`\n",
      "  df[f\"adx_{i}\"] = ADXIndicator(df['High'], df['Low'], df['Close'], i).adx()\n",
      "/var/folders/p3/w0lx7sbn5pd85k9cmydlynhc0000gn/T/ipykernel_3371/476938937.py:4: PerformanceWarning: DataFrame is highly fragmented.  This is usually the result of calling `frame.insert` many times, which has poor performance.  Consider joining all columns at once using pd.concat(axis=1) instead. To get a de-fragmented frame, use `newframe = frame.copy()`\n",
      "  df[f\"adx_pos_{i}\"] = ADXIndicator(df['High'], df['Low'], df['Close'], i).adx_pos()\n",
      "/var/folders/p3/w0lx7sbn5pd85k9cmydlynhc0000gn/T/ipykernel_3371/476938937.py:5: PerformanceWarning: DataFrame is highly fragmented.  This is usually the result of calling `frame.insert` many times, which has poor performance.  Consider joining all columns at once using pd.concat(axis=1) instead. To get a de-fragmented frame, use `newframe = frame.copy()`\n",
      "  df[f\"adx_neg_{i}\"] = ADXIndicator(df['High'], df['Low'], df['Close'], i).adx_neg()\n",
      "/var/folders/p3/w0lx7sbn5pd85k9cmydlynhc0000gn/T/ipykernel_3371/476938937.py:3: PerformanceWarning: DataFrame is highly fragmented.  This is usually the result of calling `frame.insert` many times, which has poor performance.  Consider joining all columns at once using pd.concat(axis=1) instead. To get a de-fragmented frame, use `newframe = frame.copy()`\n",
      "  df[f\"adx_{i}\"] = ADXIndicator(df['High'], df['Low'], df['Close'], i).adx()\n",
      "/var/folders/p3/w0lx7sbn5pd85k9cmydlynhc0000gn/T/ipykernel_3371/476938937.py:4: PerformanceWarning: DataFrame is highly fragmented.  This is usually the result of calling `frame.insert` many times, which has poor performance.  Consider joining all columns at once using pd.concat(axis=1) instead. To get a de-fragmented frame, use `newframe = frame.copy()`\n",
      "  df[f\"adx_pos_{i}\"] = ADXIndicator(df['High'], df['Low'], df['Close'], i).adx_pos()\n",
      "/var/folders/p3/w0lx7sbn5pd85k9cmydlynhc0000gn/T/ipykernel_3371/476938937.py:5: PerformanceWarning: DataFrame is highly fragmented.  This is usually the result of calling `frame.insert` many times, which has poor performance.  Consider joining all columns at once using pd.concat(axis=1) instead. To get a de-fragmented frame, use `newframe = frame.copy()`\n",
      "  df[f\"adx_neg_{i}\"] = ADXIndicator(df['High'], df['Low'], df['Close'], i).adx_neg()\n",
      "/var/folders/p3/w0lx7sbn5pd85k9cmydlynhc0000gn/T/ipykernel_3371/476938937.py:3: PerformanceWarning: DataFrame is highly fragmented.  This is usually the result of calling `frame.insert` many times, which has poor performance.  Consider joining all columns at once using pd.concat(axis=1) instead. To get a de-fragmented frame, use `newframe = frame.copy()`\n",
      "  df[f\"adx_{i}\"] = ADXIndicator(df['High'], df['Low'], df['Close'], i).adx()\n",
      "/var/folders/p3/w0lx7sbn5pd85k9cmydlynhc0000gn/T/ipykernel_3371/476938937.py:4: PerformanceWarning: DataFrame is highly fragmented.  This is usually the result of calling `frame.insert` many times, which has poor performance.  Consider joining all columns at once using pd.concat(axis=1) instead. To get a de-fragmented frame, use `newframe = frame.copy()`\n",
      "  df[f\"adx_pos_{i}\"] = ADXIndicator(df['High'], df['Low'], df['Close'], i).adx_pos()\n",
      "/var/folders/p3/w0lx7sbn5pd85k9cmydlynhc0000gn/T/ipykernel_3371/476938937.py:5: PerformanceWarning: DataFrame is highly fragmented.  This is usually the result of calling `frame.insert` many times, which has poor performance.  Consider joining all columns at once using pd.concat(axis=1) instead. To get a de-fragmented frame, use `newframe = frame.copy()`\n",
      "  df[f\"adx_neg_{i}\"] = ADXIndicator(df['High'], df['Low'], df['Close'], i).adx_neg()\n",
      "/var/folders/p3/w0lx7sbn5pd85k9cmydlynhc0000gn/T/ipykernel_3371/476938937.py:3: PerformanceWarning: DataFrame is highly fragmented.  This is usually the result of calling `frame.insert` many times, which has poor performance.  Consider joining all columns at once using pd.concat(axis=1) instead. To get a de-fragmented frame, use `newframe = frame.copy()`\n",
      "  df[f\"adx_{i}\"] = ADXIndicator(df['High'], df['Low'], df['Close'], i).adx()\n",
      "/var/folders/p3/w0lx7sbn5pd85k9cmydlynhc0000gn/T/ipykernel_3371/476938937.py:4: PerformanceWarning: DataFrame is highly fragmented.  This is usually the result of calling `frame.insert` many times, which has poor performance.  Consider joining all columns at once using pd.concat(axis=1) instead. To get a de-fragmented frame, use `newframe = frame.copy()`\n",
      "  df[f\"adx_pos_{i}\"] = ADXIndicator(df['High'], df['Low'], df['Close'], i).adx_pos()\n",
      "/var/folders/p3/w0lx7sbn5pd85k9cmydlynhc0000gn/T/ipykernel_3371/476938937.py:5: PerformanceWarning: DataFrame is highly fragmented.  This is usually the result of calling `frame.insert` many times, which has poor performance.  Consider joining all columns at once using pd.concat(axis=1) instead. To get a de-fragmented frame, use `newframe = frame.copy()`\n",
      "  df[f\"adx_neg_{i}\"] = ADXIndicator(df['High'], df['Low'], df['Close'], i).adx_neg()\n",
      "/var/folders/p3/w0lx7sbn5pd85k9cmydlynhc0000gn/T/ipykernel_3371/476938937.py:3: PerformanceWarning: DataFrame is highly fragmented.  This is usually the result of calling `frame.insert` many times, which has poor performance.  Consider joining all columns at once using pd.concat(axis=1) instead. To get a de-fragmented frame, use `newframe = frame.copy()`\n",
      "  df[f\"adx_{i}\"] = ADXIndicator(df['High'], df['Low'], df['Close'], i).adx()\n",
      "/var/folders/p3/w0lx7sbn5pd85k9cmydlynhc0000gn/T/ipykernel_3371/476938937.py:4: PerformanceWarning: DataFrame is highly fragmented.  This is usually the result of calling `frame.insert` many times, which has poor performance.  Consider joining all columns at once using pd.concat(axis=1) instead. To get a de-fragmented frame, use `newframe = frame.copy()`\n",
      "  df[f\"adx_pos_{i}\"] = ADXIndicator(df['High'], df['Low'], df['Close'], i).adx_pos()\n",
      "/var/folders/p3/w0lx7sbn5pd85k9cmydlynhc0000gn/T/ipykernel_3371/476938937.py:5: PerformanceWarning: DataFrame is highly fragmented.  This is usually the result of calling `frame.insert` many times, which has poor performance.  Consider joining all columns at once using pd.concat(axis=1) instead. To get a de-fragmented frame, use `newframe = frame.copy()`\n",
      "  df[f\"adx_neg_{i}\"] = ADXIndicator(df['High'], df['Low'], df['Close'], i).adx_neg()\n",
      "/var/folders/p3/w0lx7sbn5pd85k9cmydlynhc0000gn/T/ipykernel_3371/476938937.py:3: PerformanceWarning: DataFrame is highly fragmented.  This is usually the result of calling `frame.insert` many times, which has poor performance.  Consider joining all columns at once using pd.concat(axis=1) instead. To get a de-fragmented frame, use `newframe = frame.copy()`\n",
      "  df[f\"adx_{i}\"] = ADXIndicator(df['High'], df['Low'], df['Close'], i).adx()\n",
      "/var/folders/p3/w0lx7sbn5pd85k9cmydlynhc0000gn/T/ipykernel_3371/476938937.py:4: PerformanceWarning: DataFrame is highly fragmented.  This is usually the result of calling `frame.insert` many times, which has poor performance.  Consider joining all columns at once using pd.concat(axis=1) instead. To get a de-fragmented frame, use `newframe = frame.copy()`\n",
      "  df[f\"adx_pos_{i}\"] = ADXIndicator(df['High'], df['Low'], df['Close'], i).adx_pos()\n",
      "/var/folders/p3/w0lx7sbn5pd85k9cmydlynhc0000gn/T/ipykernel_3371/476938937.py:5: PerformanceWarning: DataFrame is highly fragmented.  This is usually the result of calling `frame.insert` many times, which has poor performance.  Consider joining all columns at once using pd.concat(axis=1) instead. To get a de-fragmented frame, use `newframe = frame.copy()`\n",
      "  df[f\"adx_neg_{i}\"] = ADXIndicator(df['High'], df['Low'], df['Close'], i).adx_neg()\n",
      "/var/folders/p3/w0lx7sbn5pd85k9cmydlynhc0000gn/T/ipykernel_3371/476938937.py:3: PerformanceWarning: DataFrame is highly fragmented.  This is usually the result of calling `frame.insert` many times, which has poor performance.  Consider joining all columns at once using pd.concat(axis=1) instead. To get a de-fragmented frame, use `newframe = frame.copy()`\n",
      "  df[f\"adx_{i}\"] = ADXIndicator(df['High'], df['Low'], df['Close'], i).adx()\n",
      "/var/folders/p3/w0lx7sbn5pd85k9cmydlynhc0000gn/T/ipykernel_3371/476938937.py:4: PerformanceWarning: DataFrame is highly fragmented.  This is usually the result of calling `frame.insert` many times, which has poor performance.  Consider joining all columns at once using pd.concat(axis=1) instead. To get a de-fragmented frame, use `newframe = frame.copy()`\n",
      "  df[f\"adx_pos_{i}\"] = ADXIndicator(df['High'], df['Low'], df['Close'], i).adx_pos()\n",
      "/var/folders/p3/w0lx7sbn5pd85k9cmydlynhc0000gn/T/ipykernel_3371/476938937.py:5: PerformanceWarning: DataFrame is highly fragmented.  This is usually the result of calling `frame.insert` many times, which has poor performance.  Consider joining all columns at once using pd.concat(axis=1) instead. To get a de-fragmented frame, use `newframe = frame.copy()`\n",
      "  df[f\"adx_neg_{i}\"] = ADXIndicator(df['High'], df['Low'], df['Close'], i).adx_neg()\n",
      "/var/folders/p3/w0lx7sbn5pd85k9cmydlynhc0000gn/T/ipykernel_3371/476938937.py:3: PerformanceWarning: DataFrame is highly fragmented.  This is usually the result of calling `frame.insert` many times, which has poor performance.  Consider joining all columns at once using pd.concat(axis=1) instead. To get a de-fragmented frame, use `newframe = frame.copy()`\n",
      "  df[f\"adx_{i}\"] = ADXIndicator(df['High'], df['Low'], df['Close'], i).adx()\n",
      "/var/folders/p3/w0lx7sbn5pd85k9cmydlynhc0000gn/T/ipykernel_3371/476938937.py:4: PerformanceWarning: DataFrame is highly fragmented.  This is usually the result of calling `frame.insert` many times, which has poor performance.  Consider joining all columns at once using pd.concat(axis=1) instead. To get a de-fragmented frame, use `newframe = frame.copy()`\n",
      "  df[f\"adx_pos_{i}\"] = ADXIndicator(df['High'], df['Low'], df['Close'], i).adx_pos()\n",
      "/var/folders/p3/w0lx7sbn5pd85k9cmydlynhc0000gn/T/ipykernel_3371/476938937.py:5: PerformanceWarning: DataFrame is highly fragmented.  This is usually the result of calling `frame.insert` many times, which has poor performance.  Consider joining all columns at once using pd.concat(axis=1) instead. To get a de-fragmented frame, use `newframe = frame.copy()`\n",
      "  df[f\"adx_neg_{i}\"] = ADXIndicator(df['High'], df['Low'], df['Close'], i).adx_neg()\n"
     ]
    },
    {
     "name": "stdout",
     "output_type": "stream",
     "text": [
      "Feature creation done!\n"
     ]
    },
    {
     "name": "stderr",
     "output_type": "stream",
     "text": [
      "/var/folders/p3/w0lx7sbn5pd85k9cmydlynhc0000gn/T/ipykernel_3371/476938937.py:3: PerformanceWarning: DataFrame is highly fragmented.  This is usually the result of calling `frame.insert` many times, which has poor performance.  Consider joining all columns at once using pd.concat(axis=1) instead. To get a de-fragmented frame, use `newframe = frame.copy()`\n",
      "  df[f\"adx_{i}\"] = ADXIndicator(df['High'], df['Low'], df['Close'], i).adx()\n",
      "/var/folders/p3/w0lx7sbn5pd85k9cmydlynhc0000gn/T/ipykernel_3371/476938937.py:4: PerformanceWarning: DataFrame is highly fragmented.  This is usually the result of calling `frame.insert` many times, which has poor performance.  Consider joining all columns at once using pd.concat(axis=1) instead. To get a de-fragmented frame, use `newframe = frame.copy()`\n",
      "  df[f\"adx_pos_{i}\"] = ADXIndicator(df['High'], df['Low'], df['Close'], i).adx_pos()\n",
      "/var/folders/p3/w0lx7sbn5pd85k9cmydlynhc0000gn/T/ipykernel_3371/476938937.py:5: PerformanceWarning: DataFrame is highly fragmented.  This is usually the result of calling `frame.insert` many times, which has poor performance.  Consider joining all columns at once using pd.concat(axis=1) instead. To get a de-fragmented frame, use `newframe = frame.copy()`\n",
      "  df[f\"adx_neg_{i}\"] = ADXIndicator(df['High'], df['Low'], df['Close'], i).adx_neg()\n"
     ]
    }
   ],
   "source": [
    "create_features(apple_df)"
   ]
  },
  {
   "cell_type": "code",
   "execution_count": 24,
   "metadata": {},
   "outputs": [
    {
     "data": {
      "text/html": [
       "<div>\n",
       "<style scoped>\n",
       "    .dataframe tbody tr th:only-of-type {\n",
       "        vertical-align: middle;\n",
       "    }\n",
       "\n",
       "    .dataframe tbody tr th {\n",
       "        vertical-align: top;\n",
       "    }\n",
       "\n",
       "    .dataframe thead th {\n",
       "        text-align: right;\n",
       "    }\n",
       "</style>\n",
       "<table border=\"1\" class=\"dataframe\">\n",
       "  <thead>\n",
       "    <tr style=\"text-align: right;\">\n",
       "      <th></th>\n",
       "      <th>Open</th>\n",
       "      <th>High</th>\n",
       "      <th>Low</th>\n",
       "      <th>Close</th>\n",
       "      <th>Volume</th>\n",
       "      <th>Dividends</th>\n",
       "      <th>Stock Splits</th>\n",
       "      <th>SMA_5</th>\n",
       "      <th>SMA_7</th>\n",
       "      <th>SMA_9</th>\n",
       "      <th>...</th>\n",
       "      <th>adx_neg_15</th>\n",
       "      <th>adx_17</th>\n",
       "      <th>adx_pos_17</th>\n",
       "      <th>adx_neg_17</th>\n",
       "      <th>adx_19</th>\n",
       "      <th>adx_pos_19</th>\n",
       "      <th>adx_neg_19</th>\n",
       "      <th>adx_21</th>\n",
       "      <th>adx_pos_21</th>\n",
       "      <th>adx_neg_21</th>\n",
       "    </tr>\n",
       "    <tr>\n",
       "      <th>Date</th>\n",
       "      <th></th>\n",
       "      <th></th>\n",
       "      <th></th>\n",
       "      <th></th>\n",
       "      <th></th>\n",
       "      <th></th>\n",
       "      <th></th>\n",
       "      <th></th>\n",
       "      <th></th>\n",
       "      <th></th>\n",
       "      <th></th>\n",
       "      <th></th>\n",
       "      <th></th>\n",
       "      <th></th>\n",
       "      <th></th>\n",
       "      <th></th>\n",
       "      <th></th>\n",
       "      <th></th>\n",
       "      <th></th>\n",
       "      <th></th>\n",
       "      <th></th>\n",
       "    </tr>\n",
       "  </thead>\n",
       "  <tbody>\n",
       "    <tr>\n",
       "      <th>1980-12-12 00:00:00-05:00</th>\n",
       "      <td>0.099192</td>\n",
       "      <td>0.099623</td>\n",
       "      <td>0.099192</td>\n",
       "      <td>0.099192</td>\n",
       "      <td>469033600</td>\n",
       "      <td>0.0</td>\n",
       "      <td>0.0</td>\n",
       "      <td>NaN</td>\n",
       "      <td>NaN</td>\n",
       "      <td>NaN</td>\n",
       "      <td>...</td>\n",
       "      <td>0.000000</td>\n",
       "      <td>0.000000</td>\n",
       "      <td>0.000000</td>\n",
       "      <td>0.000000</td>\n",
       "      <td>0.000000</td>\n",
       "      <td>0.000000</td>\n",
       "      <td>0.000000</td>\n",
       "      <td>0.000000</td>\n",
       "      <td>0.000000</td>\n",
       "      <td>0.000000</td>\n",
       "    </tr>\n",
       "    <tr>\n",
       "      <th>1980-12-15 00:00:00-05:00</th>\n",
       "      <td>0.094448</td>\n",
       "      <td>0.094448</td>\n",
       "      <td>0.094017</td>\n",
       "      <td>0.094017</td>\n",
       "      <td>175884800</td>\n",
       "      <td>0.0</td>\n",
       "      <td>0.0</td>\n",
       "      <td>NaN</td>\n",
       "      <td>NaN</td>\n",
       "      <td>NaN</td>\n",
       "      <td>...</td>\n",
       "      <td>0.000000</td>\n",
       "      <td>0.000000</td>\n",
       "      <td>0.000000</td>\n",
       "      <td>0.000000</td>\n",
       "      <td>0.000000</td>\n",
       "      <td>0.000000</td>\n",
       "      <td>0.000000</td>\n",
       "      <td>0.000000</td>\n",
       "      <td>0.000000</td>\n",
       "      <td>0.000000</td>\n",
       "    </tr>\n",
       "    <tr>\n",
       "      <th>1980-12-16 00:00:00-05:00</th>\n",
       "      <td>0.087548</td>\n",
       "      <td>0.087548</td>\n",
       "      <td>0.087117</td>\n",
       "      <td>0.087117</td>\n",
       "      <td>105728000</td>\n",
       "      <td>0.0</td>\n",
       "      <td>0.0</td>\n",
       "      <td>NaN</td>\n",
       "      <td>NaN</td>\n",
       "      <td>NaN</td>\n",
       "      <td>...</td>\n",
       "      <td>0.000000</td>\n",
       "      <td>0.000000</td>\n",
       "      <td>0.000000</td>\n",
       "      <td>0.000000</td>\n",
       "      <td>0.000000</td>\n",
       "      <td>0.000000</td>\n",
       "      <td>0.000000</td>\n",
       "      <td>0.000000</td>\n",
       "      <td>0.000000</td>\n",
       "      <td>0.000000</td>\n",
       "    </tr>\n",
       "    <tr>\n",
       "      <th>1980-12-17 00:00:00-05:00</th>\n",
       "      <td>0.089273</td>\n",
       "      <td>0.089704</td>\n",
       "      <td>0.089273</td>\n",
       "      <td>0.089273</td>\n",
       "      <td>86441600</td>\n",
       "      <td>0.0</td>\n",
       "      <td>0.0</td>\n",
       "      <td>NaN</td>\n",
       "      <td>NaN</td>\n",
       "      <td>NaN</td>\n",
       "      <td>...</td>\n",
       "      <td>0.000000</td>\n",
       "      <td>0.000000</td>\n",
       "      <td>0.000000</td>\n",
       "      <td>0.000000</td>\n",
       "      <td>0.000000</td>\n",
       "      <td>0.000000</td>\n",
       "      <td>0.000000</td>\n",
       "      <td>0.000000</td>\n",
       "      <td>0.000000</td>\n",
       "      <td>0.000000</td>\n",
       "    </tr>\n",
       "    <tr>\n",
       "      <th>1980-12-18 00:00:00-05:00</th>\n",
       "      <td>0.091861</td>\n",
       "      <td>0.092292</td>\n",
       "      <td>0.091861</td>\n",
       "      <td>0.091861</td>\n",
       "      <td>73449600</td>\n",
       "      <td>0.0</td>\n",
       "      <td>0.0</td>\n",
       "      <td>0.092292</td>\n",
       "      <td>NaN</td>\n",
       "      <td>NaN</td>\n",
       "      <td>...</td>\n",
       "      <td>0.000000</td>\n",
       "      <td>0.000000</td>\n",
       "      <td>0.000000</td>\n",
       "      <td>0.000000</td>\n",
       "      <td>0.000000</td>\n",
       "      <td>0.000000</td>\n",
       "      <td>0.000000</td>\n",
       "      <td>0.000000</td>\n",
       "      <td>0.000000</td>\n",
       "      <td>0.000000</td>\n",
       "    </tr>\n",
       "    <tr>\n",
       "      <th>...</th>\n",
       "      <td>...</td>\n",
       "      <td>...</td>\n",
       "      <td>...</td>\n",
       "      <td>...</td>\n",
       "      <td>...</td>\n",
       "      <td>...</td>\n",
       "      <td>...</td>\n",
       "      <td>...</td>\n",
       "      <td>...</td>\n",
       "      <td>...</td>\n",
       "      <td>...</td>\n",
       "      <td>...</td>\n",
       "      <td>...</td>\n",
       "      <td>...</td>\n",
       "      <td>...</td>\n",
       "      <td>...</td>\n",
       "      <td>...</td>\n",
       "      <td>...</td>\n",
       "      <td>...</td>\n",
       "      <td>...</td>\n",
       "      <td>...</td>\n",
       "    </tr>\n",
       "    <tr>\n",
       "      <th>2024-03-27 00:00:00-04:00</th>\n",
       "      <td>170.410004</td>\n",
       "      <td>173.600006</td>\n",
       "      <td>170.110001</td>\n",
       "      <td>173.309998</td>\n",
       "      <td>60273300</td>\n",
       "      <td>0.0</td>\n",
       "      <td>0.0</td>\n",
       "      <td>171.504001</td>\n",
       "      <td>173.181429</td>\n",
       "      <td>173.178889</td>\n",
       "      <td>...</td>\n",
       "      <td>25.078729</td>\n",
       "      <td>23.988471</td>\n",
       "      <td>20.469912</td>\n",
       "      <td>25.624145</td>\n",
       "      <td>23.314835</td>\n",
       "      <td>20.340335</td>\n",
       "      <td>26.056814</td>\n",
       "      <td>22.423193</td>\n",
       "      <td>20.280450</td>\n",
       "      <td>26.397684</td>\n",
       "    </tr>\n",
       "    <tr>\n",
       "      <th>2024-03-28 00:00:00-04:00</th>\n",
       "      <td>171.750000</td>\n",
       "      <td>172.229996</td>\n",
       "      <td>170.509995</td>\n",
       "      <td>171.479996</td>\n",
       "      <td>65672700</td>\n",
       "      <td>0.0</td>\n",
       "      <td>0.0</td>\n",
       "      <td>171.526001</td>\n",
       "      <td>172.524285</td>\n",
       "      <td>173.052222</td>\n",
       "      <td>...</td>\n",
       "      <td>23.726914</td>\n",
       "      <td>23.235149</td>\n",
       "      <td>19.492066</td>\n",
       "      <td>24.400081</td>\n",
       "      <td>22.736199</td>\n",
       "      <td>19.467077</td>\n",
       "      <td>24.938135</td>\n",
       "      <td>21.979476</td>\n",
       "      <td>19.489235</td>\n",
       "      <td>25.367812</td>\n",
       "    </tr>\n",
       "    <tr>\n",
       "      <th>2024-04-01 00:00:00-04:00</th>\n",
       "      <td>171.190002</td>\n",
       "      <td>171.250000</td>\n",
       "      <td>169.479996</td>\n",
       "      <td>170.029999</td>\n",
       "      <td>46240500</td>\n",
       "      <td>0.0</td>\n",
       "      <td>0.0</td>\n",
       "      <td>171.076001</td>\n",
       "      <td>171.290000</td>\n",
       "      <td>172.642222</td>\n",
       "      <td>...</td>\n",
       "      <td>24.827220</td>\n",
       "      <td>22.739314</td>\n",
       "      <td>18.810125</td>\n",
       "      <td>25.348185</td>\n",
       "      <td>22.354992</td>\n",
       "      <td>18.856694</td>\n",
       "      <td>25.770970</td>\n",
       "      <td>21.691375</td>\n",
       "      <td>18.935186</td>\n",
       "      <td>26.110708</td>\n",
       "    </tr>\n",
       "    <tr>\n",
       "      <th>2024-04-02 00:00:00-04:00</th>\n",
       "      <td>169.080002</td>\n",
       "      <td>169.339996</td>\n",
       "      <td>168.229996</td>\n",
       "      <td>168.839996</td>\n",
       "      <td>49258300</td>\n",
       "      <td>0.0</td>\n",
       "      <td>0.0</td>\n",
       "      <td>170.673999</td>\n",
       "      <td>170.928571</td>\n",
       "      <td>171.837777</td>\n",
       "      <td>...</td>\n",
       "      <td>26.469005</td>\n",
       "      <td>22.523128</td>\n",
       "      <td>18.201204</td>\n",
       "      <td>26.775665</td>\n",
       "      <td>22.190871</td>\n",
       "      <td>18.311257</td>\n",
       "      <td>27.034238</td>\n",
       "      <td>21.576203</td>\n",
       "      <td>18.439803</td>\n",
       "      <td>27.244405</td>\n",
       "    </tr>\n",
       "    <tr>\n",
       "      <th>2024-04-03 00:00:00-04:00</th>\n",
       "      <td>168.750000</td>\n",
       "      <td>170.679993</td>\n",
       "      <td>168.589996</td>\n",
       "      <td>170.204102</td>\n",
       "      <td>25348222</td>\n",
       "      <td>0.0</td>\n",
       "      <td>0.0</td>\n",
       "      <td>170.772818</td>\n",
       "      <td>170.632015</td>\n",
       "      <td>170.897122</td>\n",
       "      <td>...</td>\n",
       "      <td>25.310364</td>\n",
       "      <td>21.942413</td>\n",
       "      <td>19.964417</td>\n",
       "      <td>25.747402</td>\n",
       "      <td>21.735838</td>\n",
       "      <td>19.879456</td>\n",
       "      <td>26.108652</td>\n",
       "      <td>21.223165</td>\n",
       "      <td>19.851612</td>\n",
       "      <td>26.402282</td>\n",
       "    </tr>\n",
       "  </tbody>\n",
       "</table>\n",
       "<p>10917 rows × 148 columns</p>\n",
       "</div>"
      ],
      "text/plain": [
       "                                 Open        High         Low       Close  \\\n",
       "Date                                                                        \n",
       "1980-12-12 00:00:00-05:00    0.099192    0.099623    0.099192    0.099192   \n",
       "1980-12-15 00:00:00-05:00    0.094448    0.094448    0.094017    0.094017   \n",
       "1980-12-16 00:00:00-05:00    0.087548    0.087548    0.087117    0.087117   \n",
       "1980-12-17 00:00:00-05:00    0.089273    0.089704    0.089273    0.089273   \n",
       "1980-12-18 00:00:00-05:00    0.091861    0.092292    0.091861    0.091861   \n",
       "...                               ...         ...         ...         ...   \n",
       "2024-03-27 00:00:00-04:00  170.410004  173.600006  170.110001  173.309998   \n",
       "2024-03-28 00:00:00-04:00  171.750000  172.229996  170.509995  171.479996   \n",
       "2024-04-01 00:00:00-04:00  171.190002  171.250000  169.479996  170.029999   \n",
       "2024-04-02 00:00:00-04:00  169.080002  169.339996  168.229996  168.839996   \n",
       "2024-04-03 00:00:00-04:00  168.750000  170.679993  168.589996  170.204102   \n",
       "\n",
       "                              Volume  Dividends  Stock Splits       SMA_5  \\\n",
       "Date                                                                        \n",
       "1980-12-12 00:00:00-05:00  469033600        0.0           0.0         NaN   \n",
       "1980-12-15 00:00:00-05:00  175884800        0.0           0.0         NaN   \n",
       "1980-12-16 00:00:00-05:00  105728000        0.0           0.0         NaN   \n",
       "1980-12-17 00:00:00-05:00   86441600        0.0           0.0         NaN   \n",
       "1980-12-18 00:00:00-05:00   73449600        0.0           0.0    0.092292   \n",
       "...                              ...        ...           ...         ...   \n",
       "2024-03-27 00:00:00-04:00   60273300        0.0           0.0  171.504001   \n",
       "2024-03-28 00:00:00-04:00   65672700        0.0           0.0  171.526001   \n",
       "2024-04-01 00:00:00-04:00   46240500        0.0           0.0  171.076001   \n",
       "2024-04-02 00:00:00-04:00   49258300        0.0           0.0  170.673999   \n",
       "2024-04-03 00:00:00-04:00   25348222        0.0           0.0  170.772818   \n",
       "\n",
       "                                SMA_7       SMA_9  ...  adx_neg_15     adx_17  \\\n",
       "Date                                               ...                          \n",
       "1980-12-12 00:00:00-05:00         NaN         NaN  ...    0.000000   0.000000   \n",
       "1980-12-15 00:00:00-05:00         NaN         NaN  ...    0.000000   0.000000   \n",
       "1980-12-16 00:00:00-05:00         NaN         NaN  ...    0.000000   0.000000   \n",
       "1980-12-17 00:00:00-05:00         NaN         NaN  ...    0.000000   0.000000   \n",
       "1980-12-18 00:00:00-05:00         NaN         NaN  ...    0.000000   0.000000   \n",
       "...                               ...         ...  ...         ...        ...   \n",
       "2024-03-27 00:00:00-04:00  173.181429  173.178889  ...   25.078729  23.988471   \n",
       "2024-03-28 00:00:00-04:00  172.524285  173.052222  ...   23.726914  23.235149   \n",
       "2024-04-01 00:00:00-04:00  171.290000  172.642222  ...   24.827220  22.739314   \n",
       "2024-04-02 00:00:00-04:00  170.928571  171.837777  ...   26.469005  22.523128   \n",
       "2024-04-03 00:00:00-04:00  170.632015  170.897122  ...   25.310364  21.942413   \n",
       "\n",
       "                           adx_pos_17  adx_neg_17     adx_19  adx_pos_19  \\\n",
       "Date                                                                       \n",
       "1980-12-12 00:00:00-05:00    0.000000    0.000000   0.000000    0.000000   \n",
       "1980-12-15 00:00:00-05:00    0.000000    0.000000   0.000000    0.000000   \n",
       "1980-12-16 00:00:00-05:00    0.000000    0.000000   0.000000    0.000000   \n",
       "1980-12-17 00:00:00-05:00    0.000000    0.000000   0.000000    0.000000   \n",
       "1980-12-18 00:00:00-05:00    0.000000    0.000000   0.000000    0.000000   \n",
       "...                               ...         ...        ...         ...   \n",
       "2024-03-27 00:00:00-04:00   20.469912   25.624145  23.314835   20.340335   \n",
       "2024-03-28 00:00:00-04:00   19.492066   24.400081  22.736199   19.467077   \n",
       "2024-04-01 00:00:00-04:00   18.810125   25.348185  22.354992   18.856694   \n",
       "2024-04-02 00:00:00-04:00   18.201204   26.775665  22.190871   18.311257   \n",
       "2024-04-03 00:00:00-04:00   19.964417   25.747402  21.735838   19.879456   \n",
       "\n",
       "                           adx_neg_19     adx_21  adx_pos_21  adx_neg_21  \n",
       "Date                                                                      \n",
       "1980-12-12 00:00:00-05:00    0.000000   0.000000    0.000000    0.000000  \n",
       "1980-12-15 00:00:00-05:00    0.000000   0.000000    0.000000    0.000000  \n",
       "1980-12-16 00:00:00-05:00    0.000000   0.000000    0.000000    0.000000  \n",
       "1980-12-17 00:00:00-05:00    0.000000   0.000000    0.000000    0.000000  \n",
       "1980-12-18 00:00:00-05:00    0.000000   0.000000    0.000000    0.000000  \n",
       "...                               ...        ...         ...         ...  \n",
       "2024-03-27 00:00:00-04:00   26.056814  22.423193   20.280450   26.397684  \n",
       "2024-03-28 00:00:00-04:00   24.938135  21.979476   19.489235   25.367812  \n",
       "2024-04-01 00:00:00-04:00   25.770970  21.691375   18.935186   26.110708  \n",
       "2024-04-02 00:00:00-04:00   27.034238  21.576203   18.439803   27.244405  \n",
       "2024-04-03 00:00:00-04:00   26.108652  21.223165   19.851612   26.402282  \n",
       "\n",
       "[10917 rows x 148 columns]"
      ]
     },
     "execution_count": 24,
     "metadata": {},
     "output_type": "execute_result"
    }
   ],
   "source": [
    "apple_df"
   ]
  },
  {
   "cell_type": "markdown",
   "metadata": {},
   "source": [
    "# Labeling"
   ]
  },
  {
   "cell_type": "code",
   "execution_count": 37,
   "metadata": {},
   "outputs": [],
   "source": [
    "# Function to lable the data\n",
    "# if i + 11 is the max value in the window, label as BUY\n",
    "# if i + 11 is the min value in the window, label as SELL\n",
    "# else label as HOLD\n",
    "# Idea: Buy when the stock is at its lowest in the window, sell when it is at its highest\n",
    "\n",
    "# Source: https://medium.com/@quantclubiitkgp/stock-buy-sell-hold-prediction-using-cnn-ee7b671f4ad3\n",
    "\n",
    "\n",
    "def get_labels_END(df, windowSize=11):\n",
    "   labels = [] \n",
    "   values = []\n",
    "   for i in range(len(df.Close) - windowSize): \n",
    "      mx = df.Close.iloc[i]\n",
    "      mn = df.Close.iloc[i]\n",
    "      mxIndex, mnIndex = i, i\n",
    "      for j in range(i + 1, i + windowSize + 1): \n",
    "         if df.Close.iloc[j] > mx:\n",
    "               mx = df.Close.iloc[j]\n",
    "               mxIndex = j\n",
    "         if df.Close.iloc[j] < mn: \n",
    "               mn = df.Close.iloc[j] \n",
    "               mnIndex = j\n",
    "\n",
    "      if mnIndex == i + 11:\n",
    "         labels.append('SELL')\n",
    "         values.append(i + 11)\n",
    "      elif mxIndex == i + 11:\n",
    "         labels.append('BUY')\n",
    "         values.append(i + 11)\n",
    "      else:\n",
    "         labels.append('HOLD')\n",
    "         values.append(i + 11)\n",
    "   \n",
    "   # Append 11 times a 999 to the end of the labels list\n",
    "   for i in range(11):\n",
    "      labels.append(999)\n",
    "\n",
    "   # Append the labels to the dataframe from the start\n",
    "   df['Labels_END'] = labels\n",
    "\n",
    "   # Replace the 999 with NaN\n",
    "   df['Labels_END'] = df['Labels_END'].replace(999, np.nan)\n",
    "\n",
    "   print('Labeling END done!')\n",
    "\n",
    "   return df\n"
   ]
  },
  {
   "cell_type": "code",
   "execution_count": 38,
   "metadata": {},
   "outputs": [],
   "source": [
    "# Source: https://towardsdatascience.com/stock-market-action-prediction-with-convnet-8689238feae3\n",
    "\n",
    "\n",
    "def get_labels_MID(df, col_name, window_size=11):\n",
    "        \"\"\"\n",
    "        Data is labeled as per the logic in research paper\n",
    "        Label code : BUY => 1, SELL => 0, HOLD => 2\n",
    "        params :\n",
    "            df => Dataframe with data\n",
    "            col_name => name of column which should be used to determine strategy\n",
    "        returns : nothing - df is modified directly\n",
    "        \"\"\"\n",
    "\n",
    "        row_counter = 0\n",
    "        total_rows = len(df)\n",
    "        labels = np.zeros(total_rows)\n",
    "        labels[:] = np.nan\n",
    "\n",
    "        while row_counter < total_rows:\n",
    "            if row_counter >= window_size - 1:\n",
    "                window_begin = row_counter - (window_size - 1)\n",
    "                window_end = row_counter\n",
    "                window_middle = int((window_begin + window_end) / 2)\n",
    "\n",
    "                min_ = np.inf\n",
    "                min_index = -1\n",
    "                max_ = -np.inf\n",
    "                max_index = -1\n",
    "                for i in range(window_begin, window_end + 1):\n",
    "                    price = df.iloc[i][col_name]\n",
    "                    if price < min_:\n",
    "                        min_ = price\n",
    "                        min_index = i\n",
    "                    if price > max_:\n",
    "                        max_ = price\n",
    "                        max_index = i\n",
    "\n",
    "                if max_index == window_middle:\n",
    "                    labels[window_middle] = 0\n",
    "                elif min_index == window_middle:\n",
    "                    labels[window_middle] = 1\n",
    "                else:\n",
    "                    labels[window_middle] = 2\n",
    "\n",
    "            row_counter = row_counter + 1\n",
    "\n",
    "        # Add labels to the dataframe\n",
    "        df['Labels_MID'] = labels\n",
    "\n",
    "        # Replace the 0, 1, 2 with BUY, SELL, HOLD\n",
    "        df['Labels_MID'] = df['Labels_MID'].replace(0, 'SELL')\n",
    "        df['Labels_MID'] = df['Labels_MID'].replace(1, 'BUY')\n",
    "        df['Labels_MID'] = df['Labels_MID'].replace(2, 'HOLD')\n",
    "        \n",
    "\n",
    "        print('Labeling MID done!') "
   ]
  },
  {
   "cell_type": "code",
   "execution_count": 39,
   "metadata": {},
   "outputs": [
    {
     "name": "stdout",
     "output_type": "stream",
     "text": [
      "Labeling MID done!\n",
      "Labeling END done!\n"
     ]
    },
    {
     "data": {
      "text/html": [
       "<div>\n",
       "<style scoped>\n",
       "    .dataframe tbody tr th:only-of-type {\n",
       "        vertical-align: middle;\n",
       "    }\n",
       "\n",
       "    .dataframe tbody tr th {\n",
       "        vertical-align: top;\n",
       "    }\n",
       "\n",
       "    .dataframe thead th {\n",
       "        text-align: right;\n",
       "    }\n",
       "</style>\n",
       "<table border=\"1\" class=\"dataframe\">\n",
       "  <thead>\n",
       "    <tr style=\"text-align: right;\">\n",
       "      <th></th>\n",
       "      <th>Open</th>\n",
       "      <th>High</th>\n",
       "      <th>Low</th>\n",
       "      <th>Close</th>\n",
       "      <th>Volume</th>\n",
       "      <th>Dividends</th>\n",
       "      <th>Stock Splits</th>\n",
       "      <th>SMA_5</th>\n",
       "      <th>SMA_7</th>\n",
       "      <th>SMA_9</th>\n",
       "      <th>...</th>\n",
       "      <th>adx_pos_17</th>\n",
       "      <th>adx_neg_17</th>\n",
       "      <th>adx_19</th>\n",
       "      <th>adx_pos_19</th>\n",
       "      <th>adx_neg_19</th>\n",
       "      <th>adx_21</th>\n",
       "      <th>adx_pos_21</th>\n",
       "      <th>adx_neg_21</th>\n",
       "      <th>Labels_MID</th>\n",
       "      <th>Labels_END</th>\n",
       "    </tr>\n",
       "    <tr>\n",
       "      <th>Date</th>\n",
       "      <th></th>\n",
       "      <th></th>\n",
       "      <th></th>\n",
       "      <th></th>\n",
       "      <th></th>\n",
       "      <th></th>\n",
       "      <th></th>\n",
       "      <th></th>\n",
       "      <th></th>\n",
       "      <th></th>\n",
       "      <th></th>\n",
       "      <th></th>\n",
       "      <th></th>\n",
       "      <th></th>\n",
       "      <th></th>\n",
       "      <th></th>\n",
       "      <th></th>\n",
       "      <th></th>\n",
       "      <th></th>\n",
       "      <th></th>\n",
       "      <th></th>\n",
       "    </tr>\n",
       "  </thead>\n",
       "  <tbody>\n",
       "    <tr>\n",
       "      <th>1980-12-12 00:00:00-05:00</th>\n",
       "      <td>0.099192</td>\n",
       "      <td>0.099623</td>\n",
       "      <td>0.099192</td>\n",
       "      <td>0.099192</td>\n",
       "      <td>469033600</td>\n",
       "      <td>0.0</td>\n",
       "      <td>0.0</td>\n",
       "      <td>NaN</td>\n",
       "      <td>NaN</td>\n",
       "      <td>NaN</td>\n",
       "      <td>...</td>\n",
       "      <td>0.000000</td>\n",
       "      <td>0.000000</td>\n",
       "      <td>0.000000</td>\n",
       "      <td>0.000000</td>\n",
       "      <td>0.000000</td>\n",
       "      <td>0.000000</td>\n",
       "      <td>0.000000</td>\n",
       "      <td>0.000000</td>\n",
       "      <td>NaN</td>\n",
       "      <td>HOLD</td>\n",
       "    </tr>\n",
       "    <tr>\n",
       "      <th>1980-12-15 00:00:00-05:00</th>\n",
       "      <td>0.094448</td>\n",
       "      <td>0.094448</td>\n",
       "      <td>0.094017</td>\n",
       "      <td>0.094017</td>\n",
       "      <td>175884800</td>\n",
       "      <td>0.0</td>\n",
       "      <td>0.0</td>\n",
       "      <td>NaN</td>\n",
       "      <td>NaN</td>\n",
       "      <td>NaN</td>\n",
       "      <td>...</td>\n",
       "      <td>0.000000</td>\n",
       "      <td>0.000000</td>\n",
       "      <td>0.000000</td>\n",
       "      <td>0.000000</td>\n",
       "      <td>0.000000</td>\n",
       "      <td>0.000000</td>\n",
       "      <td>0.000000</td>\n",
       "      <td>0.000000</td>\n",
       "      <td>NaN</td>\n",
       "      <td>HOLD</td>\n",
       "    </tr>\n",
       "    <tr>\n",
       "      <th>1980-12-16 00:00:00-05:00</th>\n",
       "      <td>0.087548</td>\n",
       "      <td>0.087548</td>\n",
       "      <td>0.087117</td>\n",
       "      <td>0.087117</td>\n",
       "      <td>105728000</td>\n",
       "      <td>0.0</td>\n",
       "      <td>0.0</td>\n",
       "      <td>NaN</td>\n",
       "      <td>NaN</td>\n",
       "      <td>NaN</td>\n",
       "      <td>...</td>\n",
       "      <td>0.000000</td>\n",
       "      <td>0.000000</td>\n",
       "      <td>0.000000</td>\n",
       "      <td>0.000000</td>\n",
       "      <td>0.000000</td>\n",
       "      <td>0.000000</td>\n",
       "      <td>0.000000</td>\n",
       "      <td>0.000000</td>\n",
       "      <td>NaN</td>\n",
       "      <td>HOLD</td>\n",
       "    </tr>\n",
       "    <tr>\n",
       "      <th>1980-12-17 00:00:00-05:00</th>\n",
       "      <td>0.089273</td>\n",
       "      <td>0.089704</td>\n",
       "      <td>0.089273</td>\n",
       "      <td>0.089273</td>\n",
       "      <td>86441600</td>\n",
       "      <td>0.0</td>\n",
       "      <td>0.0</td>\n",
       "      <td>NaN</td>\n",
       "      <td>NaN</td>\n",
       "      <td>NaN</td>\n",
       "      <td>...</td>\n",
       "      <td>0.000000</td>\n",
       "      <td>0.000000</td>\n",
       "      <td>0.000000</td>\n",
       "      <td>0.000000</td>\n",
       "      <td>0.000000</td>\n",
       "      <td>0.000000</td>\n",
       "      <td>0.000000</td>\n",
       "      <td>0.000000</td>\n",
       "      <td>NaN</td>\n",
       "      <td>HOLD</td>\n",
       "    </tr>\n",
       "    <tr>\n",
       "      <th>1980-12-18 00:00:00-05:00</th>\n",
       "      <td>0.091861</td>\n",
       "      <td>0.092292</td>\n",
       "      <td>0.091861</td>\n",
       "      <td>0.091861</td>\n",
       "      <td>73449600</td>\n",
       "      <td>0.0</td>\n",
       "      <td>0.0</td>\n",
       "      <td>0.092292</td>\n",
       "      <td>NaN</td>\n",
       "      <td>NaN</td>\n",
       "      <td>...</td>\n",
       "      <td>0.000000</td>\n",
       "      <td>0.000000</td>\n",
       "      <td>0.000000</td>\n",
       "      <td>0.000000</td>\n",
       "      <td>0.000000</td>\n",
       "      <td>0.000000</td>\n",
       "      <td>0.000000</td>\n",
       "      <td>0.000000</td>\n",
       "      <td>NaN</td>\n",
       "      <td>HOLD</td>\n",
       "    </tr>\n",
       "    <tr>\n",
       "      <th>...</th>\n",
       "      <td>...</td>\n",
       "      <td>...</td>\n",
       "      <td>...</td>\n",
       "      <td>...</td>\n",
       "      <td>...</td>\n",
       "      <td>...</td>\n",
       "      <td>...</td>\n",
       "      <td>...</td>\n",
       "      <td>...</td>\n",
       "      <td>...</td>\n",
       "      <td>...</td>\n",
       "      <td>...</td>\n",
       "      <td>...</td>\n",
       "      <td>...</td>\n",
       "      <td>...</td>\n",
       "      <td>...</td>\n",
       "      <td>...</td>\n",
       "      <td>...</td>\n",
       "      <td>...</td>\n",
       "      <td>...</td>\n",
       "      <td>...</td>\n",
       "    </tr>\n",
       "    <tr>\n",
       "      <th>2024-03-27 00:00:00-04:00</th>\n",
       "      <td>170.410004</td>\n",
       "      <td>173.600006</td>\n",
       "      <td>170.110001</td>\n",
       "      <td>173.309998</td>\n",
       "      <td>60273300</td>\n",
       "      <td>0.0</td>\n",
       "      <td>0.0</td>\n",
       "      <td>171.504001</td>\n",
       "      <td>173.181429</td>\n",
       "      <td>173.178889</td>\n",
       "      <td>...</td>\n",
       "      <td>20.469912</td>\n",
       "      <td>25.624145</td>\n",
       "      <td>23.314835</td>\n",
       "      <td>20.340335</td>\n",
       "      <td>26.056814</td>\n",
       "      <td>22.423193</td>\n",
       "      <td>20.280450</td>\n",
       "      <td>26.397684</td>\n",
       "      <td>NaN</td>\n",
       "      <td>NaN</td>\n",
       "    </tr>\n",
       "    <tr>\n",
       "      <th>2024-03-28 00:00:00-04:00</th>\n",
       "      <td>171.750000</td>\n",
       "      <td>172.229996</td>\n",
       "      <td>170.509995</td>\n",
       "      <td>171.479996</td>\n",
       "      <td>65672700</td>\n",
       "      <td>0.0</td>\n",
       "      <td>0.0</td>\n",
       "      <td>171.526001</td>\n",
       "      <td>172.524285</td>\n",
       "      <td>173.052222</td>\n",
       "      <td>...</td>\n",
       "      <td>19.492066</td>\n",
       "      <td>24.400081</td>\n",
       "      <td>22.736199</td>\n",
       "      <td>19.467077</td>\n",
       "      <td>24.938135</td>\n",
       "      <td>21.979476</td>\n",
       "      <td>19.489235</td>\n",
       "      <td>25.367812</td>\n",
       "      <td>NaN</td>\n",
       "      <td>NaN</td>\n",
       "    </tr>\n",
       "    <tr>\n",
       "      <th>2024-04-01 00:00:00-04:00</th>\n",
       "      <td>171.190002</td>\n",
       "      <td>171.250000</td>\n",
       "      <td>169.479996</td>\n",
       "      <td>170.029999</td>\n",
       "      <td>46240500</td>\n",
       "      <td>0.0</td>\n",
       "      <td>0.0</td>\n",
       "      <td>171.076001</td>\n",
       "      <td>171.290000</td>\n",
       "      <td>172.642222</td>\n",
       "      <td>...</td>\n",
       "      <td>18.810125</td>\n",
       "      <td>25.348185</td>\n",
       "      <td>22.354992</td>\n",
       "      <td>18.856694</td>\n",
       "      <td>25.770970</td>\n",
       "      <td>21.691375</td>\n",
       "      <td>18.935186</td>\n",
       "      <td>26.110708</td>\n",
       "      <td>NaN</td>\n",
       "      <td>NaN</td>\n",
       "    </tr>\n",
       "    <tr>\n",
       "      <th>2024-04-02 00:00:00-04:00</th>\n",
       "      <td>169.080002</td>\n",
       "      <td>169.339996</td>\n",
       "      <td>168.229996</td>\n",
       "      <td>168.839996</td>\n",
       "      <td>49258300</td>\n",
       "      <td>0.0</td>\n",
       "      <td>0.0</td>\n",
       "      <td>170.673999</td>\n",
       "      <td>170.928571</td>\n",
       "      <td>171.837777</td>\n",
       "      <td>...</td>\n",
       "      <td>18.201204</td>\n",
       "      <td>26.775665</td>\n",
       "      <td>22.190871</td>\n",
       "      <td>18.311257</td>\n",
       "      <td>27.034238</td>\n",
       "      <td>21.576203</td>\n",
       "      <td>18.439803</td>\n",
       "      <td>27.244405</td>\n",
       "      <td>NaN</td>\n",
       "      <td>NaN</td>\n",
       "    </tr>\n",
       "    <tr>\n",
       "      <th>2024-04-03 00:00:00-04:00</th>\n",
       "      <td>168.750000</td>\n",
       "      <td>170.679993</td>\n",
       "      <td>168.589996</td>\n",
       "      <td>170.204102</td>\n",
       "      <td>25348222</td>\n",
       "      <td>0.0</td>\n",
       "      <td>0.0</td>\n",
       "      <td>170.772818</td>\n",
       "      <td>170.632015</td>\n",
       "      <td>170.897122</td>\n",
       "      <td>...</td>\n",
       "      <td>19.964417</td>\n",
       "      <td>25.747402</td>\n",
       "      <td>21.735838</td>\n",
       "      <td>19.879456</td>\n",
       "      <td>26.108652</td>\n",
       "      <td>21.223165</td>\n",
       "      <td>19.851612</td>\n",
       "      <td>26.402282</td>\n",
       "      <td>NaN</td>\n",
       "      <td>NaN</td>\n",
       "    </tr>\n",
       "  </tbody>\n",
       "</table>\n",
       "<p>10917 rows × 150 columns</p>\n",
       "</div>"
      ],
      "text/plain": [
       "                                 Open        High         Low       Close  \\\n",
       "Date                                                                        \n",
       "1980-12-12 00:00:00-05:00    0.099192    0.099623    0.099192    0.099192   \n",
       "1980-12-15 00:00:00-05:00    0.094448    0.094448    0.094017    0.094017   \n",
       "1980-12-16 00:00:00-05:00    0.087548    0.087548    0.087117    0.087117   \n",
       "1980-12-17 00:00:00-05:00    0.089273    0.089704    0.089273    0.089273   \n",
       "1980-12-18 00:00:00-05:00    0.091861    0.092292    0.091861    0.091861   \n",
       "...                               ...         ...         ...         ...   \n",
       "2024-03-27 00:00:00-04:00  170.410004  173.600006  170.110001  173.309998   \n",
       "2024-03-28 00:00:00-04:00  171.750000  172.229996  170.509995  171.479996   \n",
       "2024-04-01 00:00:00-04:00  171.190002  171.250000  169.479996  170.029999   \n",
       "2024-04-02 00:00:00-04:00  169.080002  169.339996  168.229996  168.839996   \n",
       "2024-04-03 00:00:00-04:00  168.750000  170.679993  168.589996  170.204102   \n",
       "\n",
       "                              Volume  Dividends  Stock Splits       SMA_5  \\\n",
       "Date                                                                        \n",
       "1980-12-12 00:00:00-05:00  469033600        0.0           0.0         NaN   \n",
       "1980-12-15 00:00:00-05:00  175884800        0.0           0.0         NaN   \n",
       "1980-12-16 00:00:00-05:00  105728000        0.0           0.0         NaN   \n",
       "1980-12-17 00:00:00-05:00   86441600        0.0           0.0         NaN   \n",
       "1980-12-18 00:00:00-05:00   73449600        0.0           0.0    0.092292   \n",
       "...                              ...        ...           ...         ...   \n",
       "2024-03-27 00:00:00-04:00   60273300        0.0           0.0  171.504001   \n",
       "2024-03-28 00:00:00-04:00   65672700        0.0           0.0  171.526001   \n",
       "2024-04-01 00:00:00-04:00   46240500        0.0           0.0  171.076001   \n",
       "2024-04-02 00:00:00-04:00   49258300        0.0           0.0  170.673999   \n",
       "2024-04-03 00:00:00-04:00   25348222        0.0           0.0  170.772818   \n",
       "\n",
       "                                SMA_7       SMA_9  ...  adx_pos_17  \\\n",
       "Date                                               ...               \n",
       "1980-12-12 00:00:00-05:00         NaN         NaN  ...    0.000000   \n",
       "1980-12-15 00:00:00-05:00         NaN         NaN  ...    0.000000   \n",
       "1980-12-16 00:00:00-05:00         NaN         NaN  ...    0.000000   \n",
       "1980-12-17 00:00:00-05:00         NaN         NaN  ...    0.000000   \n",
       "1980-12-18 00:00:00-05:00         NaN         NaN  ...    0.000000   \n",
       "...                               ...         ...  ...         ...   \n",
       "2024-03-27 00:00:00-04:00  173.181429  173.178889  ...   20.469912   \n",
       "2024-03-28 00:00:00-04:00  172.524285  173.052222  ...   19.492066   \n",
       "2024-04-01 00:00:00-04:00  171.290000  172.642222  ...   18.810125   \n",
       "2024-04-02 00:00:00-04:00  170.928571  171.837777  ...   18.201204   \n",
       "2024-04-03 00:00:00-04:00  170.632015  170.897122  ...   19.964417   \n",
       "\n",
       "                           adx_neg_17     adx_19  adx_pos_19  adx_neg_19  \\\n",
       "Date                                                                       \n",
       "1980-12-12 00:00:00-05:00    0.000000   0.000000    0.000000    0.000000   \n",
       "1980-12-15 00:00:00-05:00    0.000000   0.000000    0.000000    0.000000   \n",
       "1980-12-16 00:00:00-05:00    0.000000   0.000000    0.000000    0.000000   \n",
       "1980-12-17 00:00:00-05:00    0.000000   0.000000    0.000000    0.000000   \n",
       "1980-12-18 00:00:00-05:00    0.000000   0.000000    0.000000    0.000000   \n",
       "...                               ...        ...         ...         ...   \n",
       "2024-03-27 00:00:00-04:00   25.624145  23.314835   20.340335   26.056814   \n",
       "2024-03-28 00:00:00-04:00   24.400081  22.736199   19.467077   24.938135   \n",
       "2024-04-01 00:00:00-04:00   25.348185  22.354992   18.856694   25.770970   \n",
       "2024-04-02 00:00:00-04:00   26.775665  22.190871   18.311257   27.034238   \n",
       "2024-04-03 00:00:00-04:00   25.747402  21.735838   19.879456   26.108652   \n",
       "\n",
       "                              adx_21  adx_pos_21  adx_neg_21  Labels_MID  \\\n",
       "Date                                                                       \n",
       "1980-12-12 00:00:00-05:00   0.000000    0.000000    0.000000         NaN   \n",
       "1980-12-15 00:00:00-05:00   0.000000    0.000000    0.000000         NaN   \n",
       "1980-12-16 00:00:00-05:00   0.000000    0.000000    0.000000         NaN   \n",
       "1980-12-17 00:00:00-05:00   0.000000    0.000000    0.000000         NaN   \n",
       "1980-12-18 00:00:00-05:00   0.000000    0.000000    0.000000         NaN   \n",
       "...                              ...         ...         ...         ...   \n",
       "2024-03-27 00:00:00-04:00  22.423193   20.280450   26.397684         NaN   \n",
       "2024-03-28 00:00:00-04:00  21.979476   19.489235   25.367812         NaN   \n",
       "2024-04-01 00:00:00-04:00  21.691375   18.935186   26.110708         NaN   \n",
       "2024-04-02 00:00:00-04:00  21.576203   18.439803   27.244405         NaN   \n",
       "2024-04-03 00:00:00-04:00  21.223165   19.851612   26.402282         NaN   \n",
       "\n",
       "                           Labels_END  \n",
       "Date                                   \n",
       "1980-12-12 00:00:00-05:00        HOLD  \n",
       "1980-12-15 00:00:00-05:00        HOLD  \n",
       "1980-12-16 00:00:00-05:00        HOLD  \n",
       "1980-12-17 00:00:00-05:00        HOLD  \n",
       "1980-12-18 00:00:00-05:00        HOLD  \n",
       "...                               ...  \n",
       "2024-03-27 00:00:00-04:00         NaN  \n",
       "2024-03-28 00:00:00-04:00         NaN  \n",
       "2024-04-01 00:00:00-04:00         NaN  \n",
       "2024-04-02 00:00:00-04:00         NaN  \n",
       "2024-04-03 00:00:00-04:00         NaN  \n",
       "\n",
       "[10917 rows x 150 columns]"
      ]
     },
     "execution_count": 39,
     "metadata": {},
     "output_type": "execute_result"
    }
   ],
   "source": [
    "get_labels_MID(apple_df, 'Close')\n",
    "get_labels_END(apple_df)"
   ]
  },
  {
   "cell_type": "code",
   "execution_count": 40,
   "metadata": {},
   "outputs": [
    {
     "data": {
      "text/plain": [
       "Text(0.5, 1.0, 'Labels END')"
      ]
     },
     "execution_count": 40,
     "metadata": {},
     "output_type": "execute_result"
    },
    {
     "data": {
      "image/png": "[encoded data removed]",
      "text/plain": [
       "<Figure size 1200x600 with 2 Axes>"
      ]
     },
     "metadata": {},
     "output_type": "display_data"
    }
   ],
   "source": [
    "# make a subplot of the labeles MID and END\n",
    "fig, ax = plt.subplots(1, 2, figsize=(12, 6))\n",
    "apple_df['Labels_MID'].hist(ax=ax[0])\n",
    "apple_df['Labels_END'].hist(ax=ax[1])\n",
    "\n",
    "# add a title to the subplot\n",
    "ax[0].set_title('Labels MID')\n",
    "ax[1].set_title('Labels END')\n"
   ]
  },
  {
   "cell_type": "code",
   "execution_count": 41,
   "metadata": {},
   "outputs": [
    {
     "data": {
      "image/png": "[encoded data removed]",
      "text/plain": [
       "<Figure size 1500x700 with 1 Axes>"
      ]
     },
     "metadata": {},
     "output_type": "display_data"
    }
   ],
   "source": [
    "plt.figure(figsize=(15, 7))\n",
    "\n",
    "# add buy and sell signals\n",
    "# buy = green, sell = red\n",
    "buy = apple_df[(apple_df['Labels_MID'] == 'BUY') & (apple_df.index >= '2015-01-01') & (apple_df.index <= '2022-12-31')]\n",
    "sell = apple_df[(apple_df['Labels_MID'] == 'SELL') & (apple_df.index >= '2015-01-01') & (apple_df.index <= '2022-12-31')]\n",
    "apple_df['Close']['2015':'2022'].plot()\n",
    "plt.scatter(buy.index, buy['Close'], color='g', marker='^', alpha=1)\n",
    "plt.scatter(sell.index, sell['Close'], color='r', marker='v', alpha=1)\n",
    "plt.title('Buy and Sell signals for Apple stock (2015-2022) - Labels MID')\n",
    "plt.legend(['Close', 'Buy', 'Sell'])\n",
    "plt.show()\n",
    "\n"
   ]
  },
  {
   "cell_type": "code",
   "execution_count": 30,
   "metadata": {},
   "outputs": [
    {
     "data": {
      "image/png": "[encoded data removed]",
      "text/plain": [
       "<Figure size 1500x700 with 1 Axes>"
      ]
     },
     "metadata": {},
     "output_type": "display_data"
    }
   ],
   "source": [
    "plt.figure(figsize=(15, 7))\n",
    "\n",
    "# add buy and sell signals\n",
    "# buy = green, sell = red\n",
    "buy = apple_df[(apple_df['Labels_END'] == 'BUY') & (apple_df.index >= '2015-01-01') & (apple_df.index <= '2022-12-31')]\n",
    "sell = apple_df[(apple_df['Labels_END'] == 'SELL') & (apple_df.index >= '2015-01-01') & (apple_df.index <= '2022-12-31')]\n",
    "apple_df['Close']['2015':'2022'].plot()\n",
    "plt.scatter(buy.index, buy['Close'], color='g', marker='^', alpha=1)\n",
    "plt.scatter(sell.index, sell['Close'], color='r', marker='v', alpha=1)\n",
    "plt.title('Buy and Sell signals for Apple stock (2015-2022) - Labels END')\n",
    "plt.legend(['Close', 'Buy', 'Sell'])\n",
    "plt.show()\n"
   ]
  },
  {
   "cell_type": "markdown",
   "metadata": {},
   "source": [
    "## Feature Engineering"
   ]
  },
  {
   "cell_type": "markdown",
   "metadata": {},
   "source": [
    "The reason behind having this step in our pipeline is that Feature engineering involves creating, transforming, or selecting the most relevant variables in your dataset to improve model performance. This process is critical because it enables the model to learn from the data more effectively, leading to better predictions and insights. Feature selection, in particular, trims down the feature set to keep only the most valuable attributes, reducing complexity, computation time, and the risk of overfitting. In essence, these techniques streamline the modelling process, making it more accurate, interpretable, and efficient, while also saving time and resources.\n",
    "First, we Normalize our data set because Normalizing a dataset is crucial to ensure that all features are on a consistent scale, preventing one feature from dominating the analysis, improving model convergence, aiding in the interpretation of feature importance, making distance-based algorithms more reliable, and aligning with assumptions of regularisation techniques, all of which contribute to more effective and robust data analysis and machine learning.\n",
    "Then we will just apply a small filter of variance with a threshold of 0.1 i.e. any feature which has a variance less than or equal to 0.1 will be removed from the dataset as having this low variance does not contribute much to detecting the trend in the dataset."
   ]
  },
  {
   "cell_type": "code",
   "execution_count": 48,
   "metadata": {},
   "outputs": [
    {
     "name": "stdout",
     "output_type": "stream",
     "text": [
      "Total number of features 148\n"
     ]
    }
   ],
   "source": [
    "list_features = list(apple_df.loc[:, 'Open':'adx_neg_21'].columns)\n",
    "print('Total number of features', len(list_features))"
   ]
  },
  {
   "cell_type": "code",
   "execution_count": 59,
   "metadata": {},
   "outputs": [
    {
     "name": "stdout",
     "output_type": "stream",
     "text": [
      "Total number of features 148\n",
      "train_split = 0.8\n",
      "Shape of x, y train/cv/test (6913, 148) (6913,) (1729, 148) (1729,) (2161, 148) (2161,)\n"
     ]
    }
   ],
   "source": [
    "### just copied from: https://towardsdatascience.com/stock-market-action-prediction-with-convnet-8689238feae3\n",
    "### needs to be reworked and adapted to the features we want to use\n",
    "### create function for this\n",
    "\n",
    "\n",
    "from sklearn.preprocessing import MinMaxScaler\n",
    "from sklearn.model_selection import train_test_split\n",
    "from collections import Counter\n",
    "\n",
    "df = apple_df.dropna()\n",
    "\n",
    "list_features = list(df.loc[:, 'Open':'adx_neg_21'].columns)  # needs to be changed to the features you want to use\n",
    "print('Total number of features', len(list_features))\n",
    "x_train, x_test, y_train, y_test = train_test_split(df.loc[:, 'Open':'adx_neg_21'].values, df['Labels_MID'].values, train_size=0.8, \n",
    "                                                    test_size=0.2, random_state=2, shuffle=True, stratify=df['Labels_MID'].values)\n",
    "\n",
    "train_split = 0.8\n",
    "\n",
    "print('train_split =',train_split)\n",
    "x_train, x_cv, y_train, y_cv = train_test_split(x_train, y_train, train_size=train_split, test_size=1-train_split, \n",
    "                                                random_state=2, shuffle=True, stratify=y_train)\n",
    "mm_scaler = MinMaxScaler(feature_range=(0, 1)) # or StandardScaler?\n",
    "x_train = mm_scaler.fit_transform(x_train)\n",
    "x_cv = mm_scaler.transform(x_cv)\n",
    "x_test = mm_scaler.transform(x_test)\n",
    "\n",
    "print(\"Shape of x, y train/cv/test {} {} {} {} {} {}\".format(x_train.shape, y_train.shape, x_cv.shape, y_cv.shape, x_test.shape, y_test.shape))\n"
   ]
  },
  {
   "cell_type": "markdown",
   "metadata": {},
   "source": [
    "# Feature Selection"
   ]
  },
  {
   "cell_type": "markdown",
   "metadata": {},
   "source": [
    "Now the main part is that we will calculate the importance of each feature by using Random Forest Classifier and then reduce the feature size to 81.\n",
    "\n",
    "A rough idea of how random forest works is for each decision point (split) in each tree, the Random Forest algorithm measures the decrease in impurity(Gini impurity) resulting from the split. The impurity reduction brought about by each feature is averaged across all the trees in the forest. Features that consistently reduce impurity more effectively when used in splits are considered more important"
   ]
  },
  {
   "cell_type": "code",
   "execution_count": 57,
   "metadata": {},
   "outputs": [
    {
     "data": {
      "text/plain": [
       "array([[8.04377407e-04, 8.35748467e-04, 8.10728427e-04, ...,\n",
       "        5.97993251e-01, 4.11180822e-01, 7.50559584e-02],\n",
       "       [4.36844525e-01, 4.36568835e-01, 4.30674168e-01, ...,\n",
       "        4.43571507e-01, 4.59131863e-01, 1.41984970e-01],\n",
       "       [8.63991522e-01, 8.66641769e-01, 8.59348966e-01, ...,\n",
       "        1.57770073e-01, 2.98755948e-01, 2.94307584e-01],\n",
       "       ...,\n",
       "       [5.70702417e-01, 5.70801738e-01, 5.50756919e-01, ...,\n",
       "        6.40357047e-01, 2.82322606e-01, 2.94426364e-01],\n",
       "       [1.04896759e-01, 1.04750067e-01, 1.02591004e-01, ...,\n",
       "        3.95481167e-01, 4.33779734e-01, 2.45790746e-01],\n",
       "       [3.02707106e-04, 3.05387504e-04, 3.06472163e-04, ...,\n",
       "        7.64844338e-02, 7.50017423e-01, 5.18442422e-01]])"
      ]
     },
     "execution_count": 57,
     "metadata": {},
     "output_type": "execute_result"
    }
   ],
   "source": [
    "x_train"
   ]
  },
  {
   "cell_type": "code",
   "execution_count": 49,
   "metadata": {},
   "outputs": [],
   "source": [
    "from sklearn.feature_selection import SelectKBest\n",
    "from sklearn.feature_selection import chi2"
   ]
  },
  {
   "cell_type": "code",
   "execution_count": 63,
   "metadata": {},
   "outputs": [
    {
     "name": "stdout",
     "output_type": "stream",
     "text": [
      "Indizes der ausgewählten Merkmale:\n",
      "[  5   6  34  35  36  37  38  39  40  41  42  43  44  45  46  47  48  49\n",
      "  50  51  52  53  54  55  56  57  58  59  60  79  80  81  82  83  84  85\n",
      "  86  87  88  89  90  91  92  93  94  95  96 103 104 105 106 107 108 109\n",
      " 110 111 112 113 114 115 116 117 118 122 123 125 126 128 129 131 132 134\n",
      " 135 137 138 140 141 143 144 146 147]\n"
     ]
    }
   ],
   "source": [
    "from sklearn.feature_selection import SelectKBest, chi2\n",
    "\n",
    "# Anwenden der Feature Selection mit SelectKBest und Chi-Quadrat-Test\n",
    "k = 81  # Anzahl der gewünschten Merkmale\n",
    "selector = SelectKBest(chi2, k=k)\n",
    "X_new = selector.fit_transform(x_train, y_train)\n",
    "\n",
    "# Index der ausgewählten Merkmale\n",
    "selected_feature_indices = selector.get_support(indices=True)\n",
    "\n",
    "# Ausgabe der Indizes der ausgewählten Merkmale\n",
    "print(\"Indizes der ausgewählten Merkmale:\")\n",
    "print(selected_feature_indices)"
   ]
  },
  {
   "cell_type": "code",
   "execution_count": 61,
   "metadata": {},
   "outputs": [
    {
     "data": {
      "text/plain": [
       "144"
      ]
     },
     "execution_count": 61,
     "metadata": {},
     "output_type": "execute_result"
    }
   ],
   "source": [
    "len(selected_feature_indices)"
   ]
  },
  {
   "cell_type": "markdown",
   "metadata": {},
   "source": [
    "## Feature Importamce in Prediction"
   ]
  },
  {
   "cell_type": "markdown",
   "metadata": {},
   "source": [
    "Used mutual info classification for creating heat map for our image. Basically it tells us which part of the image is most useful to the model (will explain this part more in further ). (https://medium.com/@quantclubiitkgp/stock-buy-sell-hold-prediction-using-cnn-ee7b671f4ad3)\n",
    "\n",
    "> keine Ahnung was er damit meint und warum er das macht??!"
   ]
  },
  {
   "cell_type": "code",
   "execution_count": null,
   "metadata": {},
   "outputs": [],
   "source": []
  },
  {
   "cell_type": "markdown",
   "metadata": {},
   "source": [
    "## Image Creation"
   ]
  },
  {
   "cell_type": "code",
   "execution_count": null,
   "metadata": {},
   "outputs": [],
   "source": [
    "# Function to reshape the data\n",
    "# Creates a 3D array (x, y and images for each row) for the CNN\n",
    "\n",
    "def reshape_as_image(x, img_width, img_height):\n",
    "    x_temp = np.zeros((len(x), img_height, img_width))\n",
    "    for i in range(x.shape[0]):\n",
    "        # print(type(x), type(x_temp), x.shape)\n",
    "        x_temp[i] = np.reshape(x[i], (img_height, img_width))\n",
    "\n",
    "    return x_temp"
   ]
  },
  {
   "cell_type": "code",
   "execution_count": 33,
   "metadata": {},
   "outputs": [
    {
     "ename": "NameError",
     "evalue": "name 'num_features' is not defined",
     "output_type": "error",
     "traceback": [
      "\u001b[0;31m---------------------------------------------------------------------------\u001b[0m",
      "\u001b[0;31mNameError\u001b[0m                                 Traceback (most recent call last)",
      "Cell \u001b[0;32mIn[33], line 1\u001b[0m\n\u001b[0;32m----> 1\u001b[0m dim \u001b[38;5;241m=\u001b[39m \u001b[38;5;28mint\u001b[39m(np\u001b[38;5;241m.\u001b[39msqrt(\u001b[43mnum_features\u001b[49m))\n\u001b[1;32m      2\u001b[0m x_train \u001b[38;5;241m=\u001b[39m reshape_as_image(x_train, dim, dim)\n\u001b[1;32m      3\u001b[0m x_cv \u001b[38;5;241m=\u001b[39m reshape_as_image(x_cv, dim, dim)\n",
      "\u001b[0;31mNameError\u001b[0m: name 'num_features' is not defined"
     ]
    }
   ],
   "source": [
    "dim = int(np.sqrt(num_features))\n",
    "x_train = reshape_as_image(x_train, dim, dim)\n",
    "x_cv = reshape_as_image(x_cv, dim, dim)\n",
    "x_test = reshape_as_image(x_test, dim, dim)\n",
    "# adding a 1-dim for channels (3)\n",
    "x_train = np.stack((x_train,) * 3, axis=-1)\n",
    "x_test = np.stack((x_test,) * 3, axis=-1)\n",
    "x_cv = np.stack((x_cv,) * 3, axis=-1)\n",
    "print(\"final shape of x, y train/test {} {} {} {}\".format(x_train.shape, y_train.shape, x_test.shape, y_test.shape))\n"
   ]
  },
  {
   "cell_type": "markdown",
   "metadata": {},
   "source": [
    "## CNN"
   ]
  },
  {
   "cell_type": "code",
   "execution_count": null,
   "metadata": {},
   "outputs": [],
   "source": []
  },
  {
   "cell_type": "markdown",
   "metadata": {},
   "source": [
    "## Trading Bot Implementation"
   ]
  },
  {
   "cell_type": "code",
   "execution_count": null,
   "metadata": {},
   "outputs": [],
   "source": []
  }
 ],
 "metadata": {
  "kernelspec": {
   "display_name": "banking",
   "language": "python",
   "name": "python3"
  },
  "language_info": {
   "codemirror_mode": {
    "name": "ipython",
    "version": 3
   },
   "file_extension": ".py",
   "mimetype": "text/x-python",
   "name": "python",
   "nbconvert_exporter": "python",
   "pygments_lexer": "ipython3",
   "version": "3.11.8"
  }
 },
 "nbformat": 4,
 "nbformat_minor": 2
}
