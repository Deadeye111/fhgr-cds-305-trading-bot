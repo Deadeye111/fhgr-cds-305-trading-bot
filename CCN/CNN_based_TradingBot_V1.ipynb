{
 "cells": [
  {
   "cell_type": "markdown",
   "metadata": {},
   "source": [
    "# Imports"
   ]
  },
  {
   "cell_type": "code",
   "execution_count": 2,
   "metadata": {},
   "outputs": [],
   "source": [
    "import yfinance as yf\n",
    "import numpy as np\n",
    "import pandas as pd\n",
    "import matplotlib.pyplot as plt\n",
    "\n",
    "from ta.trend import TRIXIndicator\n",
    "from ta.trend import WMAIndicator\n",
    "from ta.trend import CCIIndicator\n",
    "from ta.volume import money_flow_index\n",
    "import pandas_ta as pta\n",
    "from ta.trend import MACD\n",
    "from ta.momentum import PercentagePriceOscillator\n",
    "from ta.momentum import ROCIndicator\n",
    "from ta.volume import ChaikinMoneyFlowIndicator\n",
    "from ta.trend import ADXIndicator"
   ]
  },
  {
   "cell_type": "markdown",
   "metadata": {},
   "source": [
    "# Load Data"
   ]
  },
  {
   "cell_type": "code",
   "execution_count": 3,
   "metadata": {},
   "outputs": [],
   "source": [
    "appl = yf.Ticker(\"AAPL\")"
   ]
  },
  {
   "cell_type": "code",
   "execution_count": 4,
   "metadata": {},
   "outputs": [],
   "source": [
    "appl_hist = appl.history(period=\"max\")\n",
    "\n",
    "# make pandas dataframe\n",
    "apple_df = pd.DataFrame(appl_hist)"
   ]
  },
  {
   "cell_type": "markdown",
   "metadata": {},
   "source": [
    "# Create Features"
   ]
  },
  {
   "cell_type": "markdown",
   "metadata": {},
   "source": [
    "### Function Template for feature creation"
   ]
  },
  {
   "cell_type": "code",
   "execution_count": 5,
   "metadata": {},
   "outputs": [],
   "source": [
    "def get_NAME_FEATUERE(df):\n",
    "    #implementation of the feature-calculation\n",
    "    # directly add the feature to the dataframe\n",
    "    # no reurn needed\n",
    "    pass"
   ]
  },
  {
   "cell_type": "markdown",
   "metadata": {},
   "source": [
    "### Window Parameter"
   ]
  },
  {
   "cell_type": "code",
   "execution_count": 6,
   "metadata": {},
   "outputs": [],
   "source": [
    "window = [5,7,9,11,13,15,17,19,21]"
   ]
  },
  {
   "cell_type": "markdown",
   "metadata": {},
   "source": [
    "## Simple Moving Average SMA"
   ]
  },
  {
   "cell_type": "code",
   "execution_count": 7,
   "metadata": {},
   "outputs": [],
   "source": [
    "def get_SMA(df):\n",
    "    for i in window:\n",
    "        df[f\"SMA_{i}\"] = df['Close'].rolling(window=i).mean()"
   ]
  },
  {
   "cell_type": "markdown",
   "metadata": {},
   "source": [
    "## Exponential Moving Average"
   ]
  },
  {
   "cell_type": "code",
   "execution_count": 8,
   "metadata": {},
   "outputs": [],
   "source": [
    "# a function for the exponential moving average\n",
    "def get_EMA(df):\n",
    "    for i in window:\n",
    "        df[f\"EMA_{i}\"] = df['Close'].ewm(span=i, adjust=False).mean()   # adjust checken: https://pandas.pydata.org/pandas-docs/stable/reference/api/pandas.DataFrame.ewm.html"
   ]
  },
  {
   "cell_type": "markdown",
   "metadata": {},
   "source": [
    "## Triple Exponential Moving Average (TEMA)"
   ]
  },
  {
   "cell_type": "code",
   "execution_count": 9,
   "metadata": {},
   "outputs": [],
   "source": [
    "def get_TRIX(df):\n",
    "    for i in window:\n",
    "        trix_values = TRIXIndicator(df['Close'], i).trix()\n",
    "        df[f\"TRIX_{i}\"] = trix_values\n",
    "    return df"
   ]
  },
  {
   "cell_type": "markdown",
   "metadata": {},
   "source": [
    "## Mony Flow Index"
   ]
  },
  {
   "cell_type": "markdown",
   "metadata": {},
   "source": [
    "The Money Flow Index (MFI) is a technical oscillator that uses price and volume data for identifying overbought or oversold signals in an asset. It can also be used to spot divergences which warn of a trend change in price. The oscillator moves between 0 and 100.\n",
    "\n",
    "https://www.investopedia.com/terms/m/mfi.asp"
   ]
  },
  {
   "cell_type": "code",
   "execution_count": 10,
   "metadata": {},
   "outputs": [],
   "source": [
    "# Function to calculate Money Flow Index\n",
    "# Uses monex_flow_index from ta library\n",
    "\n",
    "def get_MFI(df):\n",
    "    for i in window:\n",
    "        df[f\"money_flow_index_{i}\"] = money_flow_index(df['High'], df['Low'], df['Close'], df['Volume'], window=i)  "
   ]
  },
  {
   "cell_type": "markdown",
   "metadata": {},
   "source": [
    "## Smoothed RSI"
   ]
  },
  {
   "cell_type": "code",
   "execution_count": 11,
   "metadata": {},
   "outputs": [],
   "source": [
    "def get_RSI_smooth(df):\n",
    "    \"\"\"\n",
    "    Momentum indicator\n",
    "    As per https://www.investopedia.com/terms/r/rsi.asp\n",
    "    RSI_1 = 100 - (100/ (1 + (avg gain% / avg loss%) ) )\n",
    "    RSI_2 = 100 - (100/ (1 + (prev_avg_gain*13+avg gain% / prev_avg_loss*13 + avg loss%) ) )\n",
    "\n",
    "    E.g. if period==6, first RSI starts from 7th index because difference of first row is NA\n",
    "    http://cns.bu.edu/~gsc/CN710/fincast/Technical%20_indicators/Relative%20Strength%20Index%20(RSI).htm\n",
    "    https://school.stockcharts.com/doku.php?id=technical_indicators:relative_strength_index_rsi\n",
    "    Verified!\n",
    "    \"\"\"\n",
    "\n",
    "    prev_rsi = np.inf\n",
    "    prev_avg_gain = np.inf\n",
    "    prev_avg_loss = np.inf\n",
    "    rolling_count = 0\n",
    "\n",
    "    def calculate_RSI(series, period):\n",
    "        # nonlocal rolling_count\n",
    "        nonlocal prev_avg_gain\n",
    "        nonlocal prev_avg_loss\n",
    "        nonlocal rolling_count\n",
    "\n",
    "        # num_gains = (series >= 0).sum()\n",
    "        # num_losses = (series < 0).sum()\n",
    "        # sum_gains = series[series >= 0].sum()\n",
    "        # sum_losses = np.abs(series[series < 0].sum())\n",
    "        curr_gains = series.where(series >= 0, 0)  # replace 0 where series not > 0\n",
    "        curr_losses = np.abs(series.where(series < 0, 0))\n",
    "        avg_gain = curr_gains.sum() / period  # * 100\n",
    "        avg_loss = curr_losses.sum() / period  # * 100\n",
    "        rsi = -1\n",
    "\n",
    "        if rolling_count == 0:\n",
    "            # first RSI calculation\n",
    "            rsi = 100 - (100 / (1 + (avg_gain / avg_loss)))\n",
    "            # print(rolling_count,\"rs1=\",rs, rsi)\n",
    "        else:\n",
    "            # smoothed RSI\n",
    "            # current gain and loss should be used, not avg_gain & avg_loss\n",
    "            rsi = 100 - (100 / (1 + ((prev_avg_gain * (period - 1) + curr_gains.iloc[-1]) /\n",
    "                                     (prev_avg_loss * (period - 1) + curr_losses.iloc[-1]))))\n",
    "            # print(rolling_count,\"rs2=\",rs, rsi)\n",
    "\n",
    "        # df['rsi_'+str(period)+'_own'][period + rolling_count] = rsi\n",
    "        rolling_count = rolling_count + 1\n",
    "        prev_avg_gain = avg_gain\n",
    "        prev_avg_loss = avg_loss\n",
    "        return rsi\n",
    "\n",
    "    diff = df['Close'].diff()[1:]  # skip na\n",
    "    for i in window:\n",
    "        df['rsi_' + str(i)] = np.nan\n",
    "        # df['rsi_'+str(period)+'_own_1'] = np.nan\n",
    "        rolling_count = 0\n",
    "        res = diff.rolling(i).apply(calculate_RSI, args=(i,), raw=False)\n",
    "        df['rsi_' + str(i)][1:] = res"
   ]
  },
  {
   "cell_type": "markdown",
   "metadata": {},
   "source": [
    "## Williams %R"
   ]
  },
  {
   "cell_type": "markdown",
   "metadata": {},
   "source": [
    "https://de.wikipedia.org/wiki/Williams_%25R"
   ]
  },
  {
   "cell_type": "code",
   "execution_count": 12,
   "metadata": {},
   "outputs": [],
   "source": [
    "def get_WILLIAMS_R(df):\n",
    "    for i in window:\n",
    "        highest_high = df['High'].rolling(window=i).max()\n",
    "        lowest_low = df['Low'].rolling(window=i).min()\n",
    "        df[f\"williams_r_{i}\"] = ((highest_high - df['Close']) / (highest_high - lowest_low)) * (-100)"
   ]
  },
  {
   "cell_type": "markdown",
   "metadata": {},
   "source": [
    "## WMA - Weighted Moving Average"
   ]
  },
  {
   "cell_type": "code",
   "execution_count": 13,
   "metadata": {},
   "outputs": [],
   "source": [
    "def get_WMA(df):\n",
    "    for i in window:\n",
    "        df[f\"wma_{i}\"] = WMAIndicator(df['Close'], i).wma()"
   ]
  },
  {
   "cell_type": "markdown",
   "metadata": {},
   "source": [
    "## HMA - Hull Moving Average"
   ]
  },
  {
   "cell_type": "code",
   "execution_count": 14,
   "metadata": {},
   "outputs": [],
   "source": [
    "#  ToDo: Formel und Resultate noch zu validieren!!\n",
    "\n",
    "def get_HMA(df):\n",
    "    \"\"\"\n",
    "    Berechnet den Hull Moving Average (HMA) und fügt ihn als neue Spalte zum DataFrame hinzu.\n",
    "    \n",
    "    \"\"\"\n",
    "\n",
    "    for i in window:\n",
    "        wma1 = 2 * df['Close'].rolling(window=int(i / 2)).mean()\n",
    "        wma2 = df['Close'].rolling(window=i).mean()\n",
    "        diff = wma1 - wma2\n",
    "        hma = diff.rolling(window=int(np.sqrt(i))).mean()\n",
    "        df[f\"hma_{i}\"] = hma\n"
   ]
  },
  {
   "cell_type": "markdown",
   "metadata": {},
   "source": [
    "## CCI - Commodity Channel Index"
   ]
  },
  {
   "cell_type": "code",
   "execution_count": 15,
   "metadata": {},
   "outputs": [],
   "source": [
    "def get_CCI(df):\n",
    "    for i in window:\n",
    "        cci_values = CCIIndicator(df['High'], df['Low'], df['Close'], i).cci()\n",
    "        df[f\"cci_{i}\"] = cci_values"
   ]
  },
  {
   "cell_type": "markdown",
   "metadata": {},
   "source": [
    "## CMO - Chande Momentum Oszillator"
   ]
  },
  {
   "cell_type": "code",
   "execution_count": 16,
   "metadata": {},
   "outputs": [],
   "source": [
    "# https://github.com/twopirllc/pandas-ta?tab=readme-ov-file#trend-18\n",
    "# ToDo: Check!\n",
    "\n",
    "def get_CMO(df):\n",
    "    for i in window:\n",
    "        df[f\"cmo_{i}\"] = pta.cmo(df['Close'], length=i)"
   ]
  },
  {
   "cell_type": "markdown",
   "metadata": {},
   "source": [
    "## MACD - Moving Average Convergence Divergence"
   ]
  },
  {
   "cell_type": "code",
   "execution_count": 17,
   "metadata": {},
   "outputs": [],
   "source": [
    "## https://www.lynxbroker.ch/boerse/trading/technische-analyse/technische-indikatoren/der-macd-indikator-bestimmen-sie-die-richtung-und-staerke-des-trends/"
   ]
  },
  {
   "cell_type": "code",
   "execution_count": 18,
   "metadata": {},
   "outputs": [],
   "source": [
    "# ToDo: Check and Implementation for different windows\n",
    "\n",
    "def get_MACD(df):\n",
    "    macd_object = MACD(df['Close'])\n",
    "    df['MACD'] = macd_object.macd()\n",
    "    df['MACD_Signal'] = macd_object.macd_signal()\n",
    "    df['MACD_Diff'] = macd_object.macd_diff()"
   ]
  },
  {
   "cell_type": "markdown",
   "metadata": {},
   "source": [
    "## PPO - Percentage Price Oscillator"
   ]
  },
  {
   "cell_type": "markdown",
   "metadata": {},
   "source": [
    "https://school.stockcharts.com/doku.php?id=technical_indicators:price_oscillators_ppo"
   ]
  },
  {
   "cell_type": "code",
   "execution_count": 19,
   "metadata": {},
   "outputs": [],
   "source": [
    "# ToDo: Check and Implementation for different windows\n",
    "\n",
    "def get_PPO(df):\n",
    "        ppo_object = PercentagePriceOscillator(df['Close'])\n",
    "        df[f\"PPO\"] = ppo_object.ppo()\n",
    "        df[f\"PPO_Histogram\"] = ppo_object.ppo_hist()\n",
    "        df[f\"PPO_Signal\"] = ppo_object.ppo_signal()"
   ]
  },
  {
   "cell_type": "markdown",
   "metadata": {},
   "source": [
    "## ROC - Rate of Change"
   ]
  },
  {
   "cell_type": "markdown",
   "metadata": {},
   "source": [
    "https://school.stockcharts.com/doku.php?id=technical_indicators:rate_of_change_roc_and_momentum"
   ]
  },
  {
   "cell_type": "code",
   "execution_count": 20,
   "metadata": {},
   "outputs": [],
   "source": [
    "def get_ROC(df):\n",
    "    for i in window:\n",
    "        df[f\"ROC_{i}\"] = ROCIndicator(df['Close'], i).roc()"
   ]
  },
  {
   "cell_type": "markdown",
   "metadata": {},
   "source": [
    "## CMI - Chaikin Money Flow"
   ]
  },
  {
   "cell_type": "markdown",
   "metadata": {},
   "source": [
    "https://school.stockcharts.com/doku.php?id=technical_indicators:chaikin_money_flow_cmf"
   ]
  },
  {
   "cell_type": "code",
   "execution_count": 21,
   "metadata": {},
   "outputs": [],
   "source": [
    "def get_CMF(df):\n",
    "    for i in window:\n",
    "        df[f\"cmf_{i}\"] = ChaikinMoneyFlowIndicator(df['High'], df['Low'], df['Close'], df['Volume'], i).chaikin_money_flow()"
   ]
  },
  {
   "cell_type": "markdown",
   "metadata": {},
   "source": [
    "## ADX - Average Directional Movement Index (ADX)"
   ]
  },
  {
   "cell_type": "markdown",
   "metadata": {},
   "source": [
    "http://stockcharts.com/school/doku.php?id=chart_school:technical_indicators:average_directional_index_adx"
   ]
  },
  {
   "cell_type": "code",
   "execution_count": 22,
   "metadata": {},
   "outputs": [],
   "source": [
    "def get_ADX(df):\n",
    "    for i in window:\n",
    "        df[f\"adx_{i}\"] = ADXIndicator(df['High'], df['Low'], df['Close'], i).adx()\n",
    "        df[f\"adx_pos_{i}\"] = ADXIndicator(df['High'], df['Low'], df['Close'], i).adx_pos()\n",
    "        df[f\"adx_neg_{i}\"] = ADXIndicator(df['High'], df['Low'], df['Close'], i).adx_neg()\n",
    "        \n",
    "        "
   ]
  },
  {
   "cell_type": "markdown",
   "metadata": {},
   "source": [
    "## Calculation of all features"
   ]
  },
  {
   "cell_type": "code",
   "execution_count": 24,
   "metadata": {},
   "outputs": [],
   "source": [
    "def create_features(df):\n",
    "    get_SMA(df)\n",
    "    get_EMA(df)\n",
    "    get_TRIX(df)\n",
    "    get_MFI(df)\n",
    "    get_RSI_smooth(df)\n",
    "    get_WILLIAMS_R(df)\n",
    "    get_WMA(df)\n",
    "    get_HMA(df)\n",
    "    get_CCI(df)\n",
    "    get_CMO(df)\n",
    "    get_MACD(df)\n",
    "    get_PPO(df)\n",
    "    get_ROC(df)\n",
    "    get_CMF(df)\n",
    "    get_ADX(df)\n",
    "    \n",
    "    \n",
    "\n",
    "    print('Feature creation done!')"
   ]
  },
  {
   "cell_type": "code",
   "execution_count": 25,
   "metadata": {},
   "outputs": [
    {
     "name": "stderr",
     "output_type": "stream",
     "text": [
      "/var/folders/p3/w0lx7sbn5pd85k9cmydlynhc0000gn/T/ipykernel_16431/674612428.py:58: SettingWithCopyWarning: \n",
      "A value is trying to be set on a copy of a slice from a DataFrame\n",
      "\n",
      "See the caveats in the documentation: https://pandas.pydata.org/pandas-docs/stable/user_guide/indexing.html#returning-a-view-versus-a-copy\n",
      "  df['rsi_' + str(i)][1:] = res\n",
      "/var/folders/p3/w0lx7sbn5pd85k9cmydlynhc0000gn/T/ipykernel_16431/674612428.py:58: SettingWithCopyWarning: \n",
      "A value is trying to be set on a copy of a slice from a DataFrame\n",
      "\n",
      "See the caveats in the documentation: https://pandas.pydata.org/pandas-docs/stable/user_guide/indexing.html#returning-a-view-versus-a-copy\n",
      "  df['rsi_' + str(i)][1:] = res\n",
      "/var/folders/p3/w0lx7sbn5pd85k9cmydlynhc0000gn/T/ipykernel_16431/674612428.py:58: SettingWithCopyWarning: \n",
      "A value is trying to be set on a copy of a slice from a DataFrame\n",
      "\n",
      "See the caveats in the documentation: https://pandas.pydata.org/pandas-docs/stable/user_guide/indexing.html#returning-a-view-versus-a-copy\n",
      "  df['rsi_' + str(i)][1:] = res\n",
      "/var/folders/p3/w0lx7sbn5pd85k9cmydlynhc0000gn/T/ipykernel_16431/674612428.py:58: SettingWithCopyWarning: \n",
      "A value is trying to be set on a copy of a slice from a DataFrame\n",
      "\n",
      "See the caveats in the documentation: https://pandas.pydata.org/pandas-docs/stable/user_guide/indexing.html#returning-a-view-versus-a-copy\n",
      "  df['rsi_' + str(i)][1:] = res\n",
      "/var/folders/p3/w0lx7sbn5pd85k9cmydlynhc0000gn/T/ipykernel_16431/674612428.py:58: SettingWithCopyWarning: \n",
      "A value is trying to be set on a copy of a slice from a DataFrame\n",
      "\n",
      "See the caveats in the documentation: https://pandas.pydata.org/pandas-docs/stable/user_guide/indexing.html#returning-a-view-versus-a-copy\n",
      "  df['rsi_' + str(i)][1:] = res\n",
      "/var/folders/p3/w0lx7sbn5pd85k9cmydlynhc0000gn/T/ipykernel_16431/674612428.py:58: SettingWithCopyWarning: \n",
      "A value is trying to be set on a copy of a slice from a DataFrame\n",
      "\n",
      "See the caveats in the documentation: https://pandas.pydata.org/pandas-docs/stable/user_guide/indexing.html#returning-a-view-versus-a-copy\n",
      "  df['rsi_' + str(i)][1:] = res\n",
      "/var/folders/p3/w0lx7sbn5pd85k9cmydlynhc0000gn/T/ipykernel_16431/674612428.py:58: SettingWithCopyWarning: \n",
      "A value is trying to be set on a copy of a slice from a DataFrame\n",
      "\n",
      "See the caveats in the documentation: https://pandas.pydata.org/pandas-docs/stable/user_guide/indexing.html#returning-a-view-versus-a-copy\n",
      "  df['rsi_' + str(i)][1:] = res\n",
      "/var/folders/p3/w0lx7sbn5pd85k9cmydlynhc0000gn/T/ipykernel_16431/674612428.py:58: SettingWithCopyWarning: \n",
      "A value is trying to be set on a copy of a slice from a DataFrame\n",
      "\n",
      "See the caveats in the documentation: https://pandas.pydata.org/pandas-docs/stable/user_guide/indexing.html#returning-a-view-versus-a-copy\n",
      "  df['rsi_' + str(i)][1:] = res\n",
      "/var/folders/p3/w0lx7sbn5pd85k9cmydlynhc0000gn/T/ipykernel_16431/674612428.py:58: SettingWithCopyWarning: \n",
      "A value is trying to be set on a copy of a slice from a DataFrame\n",
      "\n",
      "See the caveats in the documentation: https://pandas.pydata.org/pandas-docs/stable/user_guide/indexing.html#returning-a-view-versus-a-copy\n",
      "  df['rsi_' + str(i)][1:] = res\n",
      "/var/folders/p3/w0lx7sbn5pd85k9cmydlynhc0000gn/T/ipykernel_16431/334912716.py:7: PerformanceWarning: DataFrame is highly fragmented.  This is usually the result of calling `frame.insert` many times, which has poor performance.  Consider joining all columns at once using pd.concat(axis=1) instead. To get a de-fragmented frame, use `newframe = frame.copy()`\n",
      "  df[f\"PPO_Signal\"] = ppo_object.ppo_signal()\n",
      "/var/folders/p3/w0lx7sbn5pd85k9cmydlynhc0000gn/T/ipykernel_16431/3520578464.py:3: PerformanceWarning: DataFrame is highly fragmented.  This is usually the result of calling `frame.insert` many times, which has poor performance.  Consider joining all columns at once using pd.concat(axis=1) instead. To get a de-fragmented frame, use `newframe = frame.copy()`\n",
      "  df[f\"ROC_{i}\"] = ROCIndicator(df['Close'], i).roc()\n",
      "/var/folders/p3/w0lx7sbn5pd85k9cmydlynhc0000gn/T/ipykernel_16431/3520578464.py:3: PerformanceWarning: DataFrame is highly fragmented.  This is usually the result of calling `frame.insert` many times, which has poor performance.  Consider joining all columns at once using pd.concat(axis=1) instead. To get a de-fragmented frame, use `newframe = frame.copy()`\n",
      "  df[f\"ROC_{i}\"] = ROCIndicator(df['Close'], i).roc()\n",
      "/var/folders/p3/w0lx7sbn5pd85k9cmydlynhc0000gn/T/ipykernel_16431/3520578464.py:3: PerformanceWarning: DataFrame is highly fragmented.  This is usually the result of calling `frame.insert` many times, which has poor performance.  Consider joining all columns at once using pd.concat(axis=1) instead. To get a de-fragmented frame, use `newframe = frame.copy()`\n",
      "  df[f\"ROC_{i}\"] = ROCIndicator(df['Close'], i).roc()\n",
      "/var/folders/p3/w0lx7sbn5pd85k9cmydlynhc0000gn/T/ipykernel_16431/3520578464.py:3: PerformanceWarning: DataFrame is highly fragmented.  This is usually the result of calling `frame.insert` many times, which has poor performance.  Consider joining all columns at once using pd.concat(axis=1) instead. To get a de-fragmented frame, use `newframe = frame.copy()`\n",
      "  df[f\"ROC_{i}\"] = ROCIndicator(df['Close'], i).roc()\n",
      "/var/folders/p3/w0lx7sbn5pd85k9cmydlynhc0000gn/T/ipykernel_16431/3520578464.py:3: PerformanceWarning: DataFrame is highly fragmented.  This is usually the result of calling `frame.insert` many times, which has poor performance.  Consider joining all columns at once using pd.concat(axis=1) instead. To get a de-fragmented frame, use `newframe = frame.copy()`\n",
      "  df[f\"ROC_{i}\"] = ROCIndicator(df['Close'], i).roc()\n",
      "/var/folders/p3/w0lx7sbn5pd85k9cmydlynhc0000gn/T/ipykernel_16431/3520578464.py:3: PerformanceWarning: DataFrame is highly fragmented.  This is usually the result of calling `frame.insert` many times, which has poor performance.  Consider joining all columns at once using pd.concat(axis=1) instead. To get a de-fragmented frame, use `newframe = frame.copy()`\n",
      "  df[f\"ROC_{i}\"] = ROCIndicator(df['Close'], i).roc()\n",
      "/var/folders/p3/w0lx7sbn5pd85k9cmydlynhc0000gn/T/ipykernel_16431/3520578464.py:3: PerformanceWarning: DataFrame is highly fragmented.  This is usually the result of calling `frame.insert` many times, which has poor performance.  Consider joining all columns at once using pd.concat(axis=1) instead. To get a de-fragmented frame, use `newframe = frame.copy()`\n",
      "  df[f\"ROC_{i}\"] = ROCIndicator(df['Close'], i).roc()\n",
      "/var/folders/p3/w0lx7sbn5pd85k9cmydlynhc0000gn/T/ipykernel_16431/3520578464.py:3: PerformanceWarning: DataFrame is highly fragmented.  This is usually the result of calling `frame.insert` many times, which has poor performance.  Consider joining all columns at once using pd.concat(axis=1) instead. To get a de-fragmented frame, use `newframe = frame.copy()`\n",
      "  df[f\"ROC_{i}\"] = ROCIndicator(df['Close'], i).roc()\n",
      "/var/folders/p3/w0lx7sbn5pd85k9cmydlynhc0000gn/T/ipykernel_16431/3520578464.py:3: PerformanceWarning: DataFrame is highly fragmented.  This is usually the result of calling `frame.insert` many times, which has poor performance.  Consider joining all columns at once using pd.concat(axis=1) instead. To get a de-fragmented frame, use `newframe = frame.copy()`\n",
      "  df[f\"ROC_{i}\"] = ROCIndicator(df['Close'], i).roc()\n",
      "/var/folders/p3/w0lx7sbn5pd85k9cmydlynhc0000gn/T/ipykernel_16431/984809181.py:3: PerformanceWarning: DataFrame is highly fragmented.  This is usually the result of calling `frame.insert` many times, which has poor performance.  Consider joining all columns at once using pd.concat(axis=1) instead. To get a de-fragmented frame, use `newframe = frame.copy()`\n",
      "  df[f\"cmf_{i}\"] = ChaikinMoneyFlowIndicator(df['High'], df['Low'], df['Close'], df['Volume'], i).chaikin_money_flow()\n",
      "/var/folders/p3/w0lx7sbn5pd85k9cmydlynhc0000gn/T/ipykernel_16431/984809181.py:3: PerformanceWarning: DataFrame is highly fragmented.  This is usually the result of calling `frame.insert` many times, which has poor performance.  Consider joining all columns at once using pd.concat(axis=1) instead. To get a de-fragmented frame, use `newframe = frame.copy()`\n",
      "  df[f\"cmf_{i}\"] = ChaikinMoneyFlowIndicator(df['High'], df['Low'], df['Close'], df['Volume'], i).chaikin_money_flow()\n",
      "/var/folders/p3/w0lx7sbn5pd85k9cmydlynhc0000gn/T/ipykernel_16431/984809181.py:3: PerformanceWarning: DataFrame is highly fragmented.  This is usually the result of calling `frame.insert` many times, which has poor performance.  Consider joining all columns at once using pd.concat(axis=1) instead. To get a de-fragmented frame, use `newframe = frame.copy()`\n",
      "  df[f\"cmf_{i}\"] = ChaikinMoneyFlowIndicator(df['High'], df['Low'], df['Close'], df['Volume'], i).chaikin_money_flow()\n",
      "/var/folders/p3/w0lx7sbn5pd85k9cmydlynhc0000gn/T/ipykernel_16431/984809181.py:3: PerformanceWarning: DataFrame is highly fragmented.  This is usually the result of calling `frame.insert` many times, which has poor performance.  Consider joining all columns at once using pd.concat(axis=1) instead. To get a de-fragmented frame, use `newframe = frame.copy()`\n",
      "  df[f\"cmf_{i}\"] = ChaikinMoneyFlowIndicator(df['High'], df['Low'], df['Close'], df['Volume'], i).chaikin_money_flow()\n",
      "/var/folders/p3/w0lx7sbn5pd85k9cmydlynhc0000gn/T/ipykernel_16431/984809181.py:3: PerformanceWarning: DataFrame is highly fragmented.  This is usually the result of calling `frame.insert` many times, which has poor performance.  Consider joining all columns at once using pd.concat(axis=1) instead. To get a de-fragmented frame, use `newframe = frame.copy()`\n",
      "  df[f\"cmf_{i}\"] = ChaikinMoneyFlowIndicator(df['High'], df['Low'], df['Close'], df['Volume'], i).chaikin_money_flow()\n",
      "/var/folders/p3/w0lx7sbn5pd85k9cmydlynhc0000gn/T/ipykernel_16431/984809181.py:3: PerformanceWarning: DataFrame is highly fragmented.  This is usually the result of calling `frame.insert` many times, which has poor performance.  Consider joining all columns at once using pd.concat(axis=1) instead. To get a de-fragmented frame, use `newframe = frame.copy()`\n",
      "  df[f\"cmf_{i}\"] = ChaikinMoneyFlowIndicator(df['High'], df['Low'], df['Close'], df['Volume'], i).chaikin_money_flow()\n",
      "/var/folders/p3/w0lx7sbn5pd85k9cmydlynhc0000gn/T/ipykernel_16431/984809181.py:3: PerformanceWarning: DataFrame is highly fragmented.  This is usually the result of calling `frame.insert` many times, which has poor performance.  Consider joining all columns at once using pd.concat(axis=1) instead. To get a de-fragmented frame, use `newframe = frame.copy()`\n",
      "  df[f\"cmf_{i}\"] = ChaikinMoneyFlowIndicator(df['High'], df['Low'], df['Close'], df['Volume'], i).chaikin_money_flow()\n",
      "/var/folders/p3/w0lx7sbn5pd85k9cmydlynhc0000gn/T/ipykernel_16431/984809181.py:3: PerformanceWarning: DataFrame is highly fragmented.  This is usually the result of calling `frame.insert` many times, which has poor performance.  Consider joining all columns at once using pd.concat(axis=1) instead. To get a de-fragmented frame, use `newframe = frame.copy()`\n",
      "  df[f\"cmf_{i}\"] = ChaikinMoneyFlowIndicator(df['High'], df['Low'], df['Close'], df['Volume'], i).chaikin_money_flow()\n",
      "/var/folders/p3/w0lx7sbn5pd85k9cmydlynhc0000gn/T/ipykernel_16431/984809181.py:3: PerformanceWarning: DataFrame is highly fragmented.  This is usually the result of calling `frame.insert` many times, which has poor performance.  Consider joining all columns at once using pd.concat(axis=1) instead. To get a de-fragmented frame, use `newframe = frame.copy()`\n",
      "  df[f\"cmf_{i}\"] = ChaikinMoneyFlowIndicator(df['High'], df['Low'], df['Close'], df['Volume'], i).chaikin_money_flow()\n",
      "/var/folders/p3/w0lx7sbn5pd85k9cmydlynhc0000gn/T/ipykernel_16431/476938937.py:3: PerformanceWarning: DataFrame is highly fragmented.  This is usually the result of calling `frame.insert` many times, which has poor performance.  Consider joining all columns at once using pd.concat(axis=1) instead. To get a de-fragmented frame, use `newframe = frame.copy()`\n",
      "  df[f\"adx_{i}\"] = ADXIndicator(df['High'], df['Low'], df['Close'], i).adx()\n",
      "/var/folders/p3/w0lx7sbn5pd85k9cmydlynhc0000gn/T/ipykernel_16431/476938937.py:4: PerformanceWarning: DataFrame is highly fragmented.  This is usually the result of calling `frame.insert` many times, which has poor performance.  Consider joining all columns at once using pd.concat(axis=1) instead. To get a de-fragmented frame, use `newframe = frame.copy()`\n",
      "  df[f\"adx_pos_{i}\"] = ADXIndicator(df['High'], df['Low'], df['Close'], i).adx_pos()\n",
      "/var/folders/p3/w0lx7sbn5pd85k9cmydlynhc0000gn/T/ipykernel_16431/476938937.py:5: PerformanceWarning: DataFrame is highly fragmented.  This is usually the result of calling `frame.insert` many times, which has poor performance.  Consider joining all columns at once using pd.concat(axis=1) instead. To get a de-fragmented frame, use `newframe = frame.copy()`\n",
      "  df[f\"adx_neg_{i}\"] = ADXIndicator(df['High'], df['Low'], df['Close'], i).adx_neg()\n",
      "/var/folders/p3/w0lx7sbn5pd85k9cmydlynhc0000gn/T/ipykernel_16431/476938937.py:3: PerformanceWarning: DataFrame is highly fragmented.  This is usually the result of calling `frame.insert` many times, which has poor performance.  Consider joining all columns at once using pd.concat(axis=1) instead. To get a de-fragmented frame, use `newframe = frame.copy()`\n",
      "  df[f\"adx_{i}\"] = ADXIndicator(df['High'], df['Low'], df['Close'], i).adx()\n",
      "/var/folders/p3/w0lx7sbn5pd85k9cmydlynhc0000gn/T/ipykernel_16431/476938937.py:4: PerformanceWarning: DataFrame is highly fragmented.  This is usually the result of calling `frame.insert` many times, which has poor performance.  Consider joining all columns at once using pd.concat(axis=1) instead. To get a de-fragmented frame, use `newframe = frame.copy()`\n",
      "  df[f\"adx_pos_{i}\"] = ADXIndicator(df['High'], df['Low'], df['Close'], i).adx_pos()\n",
      "/var/folders/p3/w0lx7sbn5pd85k9cmydlynhc0000gn/T/ipykernel_16431/476938937.py:5: PerformanceWarning: DataFrame is highly fragmented.  This is usually the result of calling `frame.insert` many times, which has poor performance.  Consider joining all columns at once using pd.concat(axis=1) instead. To get a de-fragmented frame, use `newframe = frame.copy()`\n",
      "  df[f\"adx_neg_{i}\"] = ADXIndicator(df['High'], df['Low'], df['Close'], i).adx_neg()\n",
      "/var/folders/p3/w0lx7sbn5pd85k9cmydlynhc0000gn/T/ipykernel_16431/476938937.py:3: PerformanceWarning: DataFrame is highly fragmented.  This is usually the result of calling `frame.insert` many times, which has poor performance.  Consider joining all columns at once using pd.concat(axis=1) instead. To get a de-fragmented frame, use `newframe = frame.copy()`\n",
      "  df[f\"adx_{i}\"] = ADXIndicator(df['High'], df['Low'], df['Close'], i).adx()\n",
      "/var/folders/p3/w0lx7sbn5pd85k9cmydlynhc0000gn/T/ipykernel_16431/476938937.py:4: PerformanceWarning: DataFrame is highly fragmented.  This is usually the result of calling `frame.insert` many times, which has poor performance.  Consider joining all columns at once using pd.concat(axis=1) instead. To get a de-fragmented frame, use `newframe = frame.copy()`\n",
      "  df[f\"adx_pos_{i}\"] = ADXIndicator(df['High'], df['Low'], df['Close'], i).adx_pos()\n",
      "/var/folders/p3/w0lx7sbn5pd85k9cmydlynhc0000gn/T/ipykernel_16431/476938937.py:5: PerformanceWarning: DataFrame is highly fragmented.  This is usually the result of calling `frame.insert` many times, which has poor performance.  Consider joining all columns at once using pd.concat(axis=1) instead. To get a de-fragmented frame, use `newframe = frame.copy()`\n",
      "  df[f\"adx_neg_{i}\"] = ADXIndicator(df['High'], df['Low'], df['Close'], i).adx_neg()\n",
      "/var/folders/p3/w0lx7sbn5pd85k9cmydlynhc0000gn/T/ipykernel_16431/476938937.py:3: PerformanceWarning: DataFrame is highly fragmented.  This is usually the result of calling `frame.insert` many times, which has poor performance.  Consider joining all columns at once using pd.concat(axis=1) instead. To get a de-fragmented frame, use `newframe = frame.copy()`\n",
      "  df[f\"adx_{i}\"] = ADXIndicator(df['High'], df['Low'], df['Close'], i).adx()\n",
      "/var/folders/p3/w0lx7sbn5pd85k9cmydlynhc0000gn/T/ipykernel_16431/476938937.py:4: PerformanceWarning: DataFrame is highly fragmented.  This is usually the result of calling `frame.insert` many times, which has poor performance.  Consider joining all columns at once using pd.concat(axis=1) instead. To get a de-fragmented frame, use `newframe = frame.copy()`\n",
      "  df[f\"adx_pos_{i}\"] = ADXIndicator(df['High'], df['Low'], df['Close'], i).adx_pos()\n",
      "/var/folders/p3/w0lx7sbn5pd85k9cmydlynhc0000gn/T/ipykernel_16431/476938937.py:5: PerformanceWarning: DataFrame is highly fragmented.  This is usually the result of calling `frame.insert` many times, which has poor performance.  Consider joining all columns at once using pd.concat(axis=1) instead. To get a de-fragmented frame, use `newframe = frame.copy()`\n",
      "  df[f\"adx_neg_{i}\"] = ADXIndicator(df['High'], df['Low'], df['Close'], i).adx_neg()\n",
      "/var/folders/p3/w0lx7sbn5pd85k9cmydlynhc0000gn/T/ipykernel_16431/476938937.py:3: PerformanceWarning: DataFrame is highly fragmented.  This is usually the result of calling `frame.insert` many times, which has poor performance.  Consider joining all columns at once using pd.concat(axis=1) instead. To get a de-fragmented frame, use `newframe = frame.copy()`\n",
      "  df[f\"adx_{i}\"] = ADXIndicator(df['High'], df['Low'], df['Close'], i).adx()\n",
      "/var/folders/p3/w0lx7sbn5pd85k9cmydlynhc0000gn/T/ipykernel_16431/476938937.py:4: PerformanceWarning: DataFrame is highly fragmented.  This is usually the result of calling `frame.insert` many times, which has poor performance.  Consider joining all columns at once using pd.concat(axis=1) instead. To get a de-fragmented frame, use `newframe = frame.copy()`\n",
      "  df[f\"adx_pos_{i}\"] = ADXIndicator(df['High'], df['Low'], df['Close'], i).adx_pos()\n",
      "/var/folders/p3/w0lx7sbn5pd85k9cmydlynhc0000gn/T/ipykernel_16431/476938937.py:5: PerformanceWarning: DataFrame is highly fragmented.  This is usually the result of calling `frame.insert` many times, which has poor performance.  Consider joining all columns at once using pd.concat(axis=1) instead. To get a de-fragmented frame, use `newframe = frame.copy()`\n",
      "  df[f\"adx_neg_{i}\"] = ADXIndicator(df['High'], df['Low'], df['Close'], i).adx_neg()\n",
      "/var/folders/p3/w0lx7sbn5pd85k9cmydlynhc0000gn/T/ipykernel_16431/476938937.py:3: PerformanceWarning: DataFrame is highly fragmented.  This is usually the result of calling `frame.insert` many times, which has poor performance.  Consider joining all columns at once using pd.concat(axis=1) instead. To get a de-fragmented frame, use `newframe = frame.copy()`\n",
      "  df[f\"adx_{i}\"] = ADXIndicator(df['High'], df['Low'], df['Close'], i).adx()\n",
      "/var/folders/p3/w0lx7sbn5pd85k9cmydlynhc0000gn/T/ipykernel_16431/476938937.py:4: PerformanceWarning: DataFrame is highly fragmented.  This is usually the result of calling `frame.insert` many times, which has poor performance.  Consider joining all columns at once using pd.concat(axis=1) instead. To get a de-fragmented frame, use `newframe = frame.copy()`\n",
      "  df[f\"adx_pos_{i}\"] = ADXIndicator(df['High'], df['Low'], df['Close'], i).adx_pos()\n",
      "/var/folders/p3/w0lx7sbn5pd85k9cmydlynhc0000gn/T/ipykernel_16431/476938937.py:5: PerformanceWarning: DataFrame is highly fragmented.  This is usually the result of calling `frame.insert` many times, which has poor performance.  Consider joining all columns at once using pd.concat(axis=1) instead. To get a de-fragmented frame, use `newframe = frame.copy()`\n",
      "  df[f\"adx_neg_{i}\"] = ADXIndicator(df['High'], df['Low'], df['Close'], i).adx_neg()\n",
      "/var/folders/p3/w0lx7sbn5pd85k9cmydlynhc0000gn/T/ipykernel_16431/476938937.py:3: PerformanceWarning: DataFrame is highly fragmented.  This is usually the result of calling `frame.insert` many times, which has poor performance.  Consider joining all columns at once using pd.concat(axis=1) instead. To get a de-fragmented frame, use `newframe = frame.copy()`\n",
      "  df[f\"adx_{i}\"] = ADXIndicator(df['High'], df['Low'], df['Close'], i).adx()\n",
      "/var/folders/p3/w0lx7sbn5pd85k9cmydlynhc0000gn/T/ipykernel_16431/476938937.py:4: PerformanceWarning: DataFrame is highly fragmented.  This is usually the result of calling `frame.insert` many times, which has poor performance.  Consider joining all columns at once using pd.concat(axis=1) instead. To get a de-fragmented frame, use `newframe = frame.copy()`\n",
      "  df[f\"adx_pos_{i}\"] = ADXIndicator(df['High'], df['Low'], df['Close'], i).adx_pos()\n",
      "/var/folders/p3/w0lx7sbn5pd85k9cmydlynhc0000gn/T/ipykernel_16431/476938937.py:5: PerformanceWarning: DataFrame is highly fragmented.  This is usually the result of calling `frame.insert` many times, which has poor performance.  Consider joining all columns at once using pd.concat(axis=1) instead. To get a de-fragmented frame, use `newframe = frame.copy()`\n",
      "  df[f\"adx_neg_{i}\"] = ADXIndicator(df['High'], df['Low'], df['Close'], i).adx_neg()\n",
      "/var/folders/p3/w0lx7sbn5pd85k9cmydlynhc0000gn/T/ipykernel_16431/476938937.py:3: PerformanceWarning: DataFrame is highly fragmented.  This is usually the result of calling `frame.insert` many times, which has poor performance.  Consider joining all columns at once using pd.concat(axis=1) instead. To get a de-fragmented frame, use `newframe = frame.copy()`\n",
      "  df[f\"adx_{i}\"] = ADXIndicator(df['High'], df['Low'], df['Close'], i).adx()\n",
      "/var/folders/p3/w0lx7sbn5pd85k9cmydlynhc0000gn/T/ipykernel_16431/476938937.py:4: PerformanceWarning: DataFrame is highly fragmented.  This is usually the result of calling `frame.insert` many times, which has poor performance.  Consider joining all columns at once using pd.concat(axis=1) instead. To get a de-fragmented frame, use `newframe = frame.copy()`\n",
      "  df[f\"adx_pos_{i}\"] = ADXIndicator(df['High'], df['Low'], df['Close'], i).adx_pos()\n",
      "/var/folders/p3/w0lx7sbn5pd85k9cmydlynhc0000gn/T/ipykernel_16431/476938937.py:5: PerformanceWarning: DataFrame is highly fragmented.  This is usually the result of calling `frame.insert` many times, which has poor performance.  Consider joining all columns at once using pd.concat(axis=1) instead. To get a de-fragmented frame, use `newframe = frame.copy()`\n",
      "  df[f\"adx_neg_{i}\"] = ADXIndicator(df['High'], df['Low'], df['Close'], i).adx_neg()\n"
     ]
    },
    {
     "name": "stdout",
     "output_type": "stream",
     "text": [
      "Feature creation done!\n"
     ]
    },
    {
     "name": "stderr",
     "output_type": "stream",
     "text": [
      "/var/folders/p3/w0lx7sbn5pd85k9cmydlynhc0000gn/T/ipykernel_16431/476938937.py:3: PerformanceWarning: DataFrame is highly fragmented.  This is usually the result of calling `frame.insert` many times, which has poor performance.  Consider joining all columns at once using pd.concat(axis=1) instead. To get a de-fragmented frame, use `newframe = frame.copy()`\n",
      "  df[f\"adx_{i}\"] = ADXIndicator(df['High'], df['Low'], df['Close'], i).adx()\n",
      "/var/folders/p3/w0lx7sbn5pd85k9cmydlynhc0000gn/T/ipykernel_16431/476938937.py:4: PerformanceWarning: DataFrame is highly fragmented.  This is usually the result of calling `frame.insert` many times, which has poor performance.  Consider joining all columns at once using pd.concat(axis=1) instead. To get a de-fragmented frame, use `newframe = frame.copy()`\n",
      "  df[f\"adx_pos_{i}\"] = ADXIndicator(df['High'], df['Low'], df['Close'], i).adx_pos()\n",
      "/var/folders/p3/w0lx7sbn5pd85k9cmydlynhc0000gn/T/ipykernel_16431/476938937.py:5: PerformanceWarning: DataFrame is highly fragmented.  This is usually the result of calling `frame.insert` many times, which has poor performance.  Consider joining all columns at once using pd.concat(axis=1) instead. To get a de-fragmented frame, use `newframe = frame.copy()`\n",
      "  df[f\"adx_neg_{i}\"] = ADXIndicator(df['High'], df['Low'], df['Close'], i).adx_neg()\n"
     ]
    }
   ],
   "source": [
    "create_features(apple_df)"
   ]
  },
  {
   "cell_type": "code",
   "execution_count": 26,
   "metadata": {},
   "outputs": [
    {
     "data": {
      "text/html": [
       "<div>\n",
       "<style scoped>\n",
       "    .dataframe tbody tr th:only-of-type {\n",
       "        vertical-align: middle;\n",
       "    }\n",
       "\n",
       "    .dataframe tbody tr th {\n",
       "        vertical-align: top;\n",
       "    }\n",
       "\n",
       "    .dataframe thead th {\n",
       "        text-align: right;\n",
       "    }\n",
       "</style>\n",
       "<table border=\"1\" class=\"dataframe\">\n",
       "  <thead>\n",
       "    <tr style=\"text-align: right;\">\n",
       "      <th></th>\n",
       "      <th>Open</th>\n",
       "      <th>High</th>\n",
       "      <th>Low</th>\n",
       "      <th>Close</th>\n",
       "      <th>Volume</th>\n",
       "      <th>Dividends</th>\n",
       "      <th>Stock Splits</th>\n",
       "      <th>SMA_5</th>\n",
       "      <th>SMA_7</th>\n",
       "      <th>SMA_9</th>\n",
       "      <th>...</th>\n",
       "      <th>adx_neg_15</th>\n",
       "      <th>adx_17</th>\n",
       "      <th>adx_pos_17</th>\n",
       "      <th>adx_neg_17</th>\n",
       "      <th>adx_19</th>\n",
       "      <th>adx_pos_19</th>\n",
       "      <th>adx_neg_19</th>\n",
       "      <th>adx_21</th>\n",
       "      <th>adx_pos_21</th>\n",
       "      <th>adx_neg_21</th>\n",
       "    </tr>\n",
       "    <tr>\n",
       "      <th>Date</th>\n",
       "      <th></th>\n",
       "      <th></th>\n",
       "      <th></th>\n",
       "      <th></th>\n",
       "      <th></th>\n",
       "      <th></th>\n",
       "      <th></th>\n",
       "      <th></th>\n",
       "      <th></th>\n",
       "      <th></th>\n",
       "      <th></th>\n",
       "      <th></th>\n",
       "      <th></th>\n",
       "      <th></th>\n",
       "      <th></th>\n",
       "      <th></th>\n",
       "      <th></th>\n",
       "      <th></th>\n",
       "      <th></th>\n",
       "      <th></th>\n",
       "      <th></th>\n",
       "    </tr>\n",
       "  </thead>\n",
       "  <tbody>\n",
       "    <tr>\n",
       "      <th>1980-12-12 00:00:00-05:00</th>\n",
       "      <td>0.099192</td>\n",
       "      <td>0.099623</td>\n",
       "      <td>0.099192</td>\n",
       "      <td>0.099192</td>\n",
       "      <td>469033600</td>\n",
       "      <td>0.0</td>\n",
       "      <td>0.0</td>\n",
       "      <td>NaN</td>\n",
       "      <td>NaN</td>\n",
       "      <td>NaN</td>\n",
       "      <td>...</td>\n",
       "      <td>0.000000</td>\n",
       "      <td>0.000000</td>\n",
       "      <td>0.000000</td>\n",
       "      <td>0.000000</td>\n",
       "      <td>0.000000</td>\n",
       "      <td>0.000000</td>\n",
       "      <td>0.000000</td>\n",
       "      <td>0.000000</td>\n",
       "      <td>0.000000</td>\n",
       "      <td>0.000000</td>\n",
       "    </tr>\n",
       "    <tr>\n",
       "      <th>1980-12-15 00:00:00-05:00</th>\n",
       "      <td>0.094448</td>\n",
       "      <td>0.094448</td>\n",
       "      <td>0.094017</td>\n",
       "      <td>0.094017</td>\n",
       "      <td>175884800</td>\n",
       "      <td>0.0</td>\n",
       "      <td>0.0</td>\n",
       "      <td>NaN</td>\n",
       "      <td>NaN</td>\n",
       "      <td>NaN</td>\n",
       "      <td>...</td>\n",
       "      <td>0.000000</td>\n",
       "      <td>0.000000</td>\n",
       "      <td>0.000000</td>\n",
       "      <td>0.000000</td>\n",
       "      <td>0.000000</td>\n",
       "      <td>0.000000</td>\n",
       "      <td>0.000000</td>\n",
       "      <td>0.000000</td>\n",
       "      <td>0.000000</td>\n",
       "      <td>0.000000</td>\n",
       "    </tr>\n",
       "    <tr>\n",
       "      <th>1980-12-16 00:00:00-05:00</th>\n",
       "      <td>0.087548</td>\n",
       "      <td>0.087548</td>\n",
       "      <td>0.087116</td>\n",
       "      <td>0.087116</td>\n",
       "      <td>105728000</td>\n",
       "      <td>0.0</td>\n",
       "      <td>0.0</td>\n",
       "      <td>NaN</td>\n",
       "      <td>NaN</td>\n",
       "      <td>NaN</td>\n",
       "      <td>...</td>\n",
       "      <td>0.000000</td>\n",
       "      <td>0.000000</td>\n",
       "      <td>0.000000</td>\n",
       "      <td>0.000000</td>\n",
       "      <td>0.000000</td>\n",
       "      <td>0.000000</td>\n",
       "      <td>0.000000</td>\n",
       "      <td>0.000000</td>\n",
       "      <td>0.000000</td>\n",
       "      <td>0.000000</td>\n",
       "    </tr>\n",
       "    <tr>\n",
       "      <th>1980-12-17 00:00:00-05:00</th>\n",
       "      <td>0.089273</td>\n",
       "      <td>0.089704</td>\n",
       "      <td>0.089273</td>\n",
       "      <td>0.089273</td>\n",
       "      <td>86441600</td>\n",
       "      <td>0.0</td>\n",
       "      <td>0.0</td>\n",
       "      <td>NaN</td>\n",
       "      <td>NaN</td>\n",
       "      <td>NaN</td>\n",
       "      <td>...</td>\n",
       "      <td>0.000000</td>\n",
       "      <td>0.000000</td>\n",
       "      <td>0.000000</td>\n",
       "      <td>0.000000</td>\n",
       "      <td>0.000000</td>\n",
       "      <td>0.000000</td>\n",
       "      <td>0.000000</td>\n",
       "      <td>0.000000</td>\n",
       "      <td>0.000000</td>\n",
       "      <td>0.000000</td>\n",
       "    </tr>\n",
       "    <tr>\n",
       "      <th>1980-12-18 00:00:00-05:00</th>\n",
       "      <td>0.091861</td>\n",
       "      <td>0.092292</td>\n",
       "      <td>0.091861</td>\n",
       "      <td>0.091861</td>\n",
       "      <td>73449600</td>\n",
       "      <td>0.0</td>\n",
       "      <td>0.0</td>\n",
       "      <td>0.092292</td>\n",
       "      <td>NaN</td>\n",
       "      <td>NaN</td>\n",
       "      <td>...</td>\n",
       "      <td>0.000000</td>\n",
       "      <td>0.000000</td>\n",
       "      <td>0.000000</td>\n",
       "      <td>0.000000</td>\n",
       "      <td>0.000000</td>\n",
       "      <td>0.000000</td>\n",
       "      <td>0.000000</td>\n",
       "      <td>0.000000</td>\n",
       "      <td>0.000000</td>\n",
       "      <td>0.000000</td>\n",
       "    </tr>\n",
       "    <tr>\n",
       "      <th>...</th>\n",
       "      <td>...</td>\n",
       "      <td>...</td>\n",
       "      <td>...</td>\n",
       "      <td>...</td>\n",
       "      <td>...</td>\n",
       "      <td>...</td>\n",
       "      <td>...</td>\n",
       "      <td>...</td>\n",
       "      <td>...</td>\n",
       "      <td>...</td>\n",
       "      <td>...</td>\n",
       "      <td>...</td>\n",
       "      <td>...</td>\n",
       "      <td>...</td>\n",
       "      <td>...</td>\n",
       "      <td>...</td>\n",
       "      <td>...</td>\n",
       "      <td>...</td>\n",
       "      <td>...</td>\n",
       "      <td>...</td>\n",
       "      <td>...</td>\n",
       "    </tr>\n",
       "    <tr>\n",
       "      <th>2024-04-05 00:00:00-04:00</th>\n",
       "      <td>169.589996</td>\n",
       "      <td>170.389999</td>\n",
       "      <td>168.949997</td>\n",
       "      <td>169.580002</td>\n",
       "      <td>42055200</td>\n",
       "      <td>0.0</td>\n",
       "      <td>0.0</td>\n",
       "      <td>169.384000</td>\n",
       "      <td>170.244284</td>\n",
       "      <td>170.252223</td>\n",
       "      <td>...</td>\n",
       "      <td>22.853155</td>\n",
       "      <td>20.234485</td>\n",
       "      <td>20.475501</td>\n",
       "      <td>23.550784</td>\n",
       "      <td>20.377930</td>\n",
       "      <td>20.346592</td>\n",
       "      <td>24.120542</td>\n",
       "      <td>20.142524</td>\n",
       "      <td>20.278869</td>\n",
       "      <td>24.585725</td>\n",
       "    </tr>\n",
       "    <tr>\n",
       "      <th>2024-04-08 00:00:00-04:00</th>\n",
       "      <td>169.029999</td>\n",
       "      <td>169.199997</td>\n",
       "      <td>168.240005</td>\n",
       "      <td>168.449997</td>\n",
       "      <td>37425500</td>\n",
       "      <td>0.0</td>\n",
       "      <td>0.0</td>\n",
       "      <td>169.067999</td>\n",
       "      <td>169.549999</td>\n",
       "      <td>169.985555</td>\n",
       "      <td>...</td>\n",
       "      <td>23.763900</td>\n",
       "      <td>19.627387</td>\n",
       "      <td>19.936935</td>\n",
       "      <td>24.324980</td>\n",
       "      <td>19.885194</td>\n",
       "      <td>19.872610</td>\n",
       "      <td>24.792941</td>\n",
       "      <td>19.746419</td>\n",
       "      <td>19.854710</td>\n",
       "      <td>25.179724</td>\n",
       "    </tr>\n",
       "    <tr>\n",
       "      <th>2024-04-09 00:00:00-04:00</th>\n",
       "      <td>168.699997</td>\n",
       "      <td>170.080002</td>\n",
       "      <td>168.350006</td>\n",
       "      <td>169.669998</td>\n",
       "      <td>42451200</td>\n",
       "      <td>0.0</td>\n",
       "      <td>0.0</td>\n",
       "      <td>169.234000</td>\n",
       "      <td>169.291428</td>\n",
       "      <td>169.981110</td>\n",
       "      <td>...</td>\n",
       "      <td>22.810202</td>\n",
       "      <td>18.798580</td>\n",
       "      <td>21.014066</td>\n",
       "      <td>23.477882</td>\n",
       "      <td>19.214514</td>\n",
       "      <td>20.826304</td>\n",
       "      <td>24.030076</td>\n",
       "      <td>19.203928</td>\n",
       "      <td>20.709803</td>\n",
       "      <td>24.485461</td>\n",
       "    </tr>\n",
       "    <tr>\n",
       "      <th>2024-04-10 00:00:00-04:00</th>\n",
       "      <td>168.800003</td>\n",
       "      <td>169.089996</td>\n",
       "      <td>167.110001</td>\n",
       "      <td>167.779999</td>\n",
       "      <td>49709300</td>\n",
       "      <td>0.0</td>\n",
       "      <td>0.0</td>\n",
       "      <td>168.860001</td>\n",
       "      <td>168.969999</td>\n",
       "      <td>169.366665</td>\n",
       "      <td>...</td>\n",
       "      <td>24.343294</td>\n",
       "      <td>18.331114</td>\n",
       "      <td>19.923218</td>\n",
       "      <td>24.773558</td>\n",
       "      <td>18.820261</td>\n",
       "      <td>19.871266</td>\n",
       "      <td>25.149346</td>\n",
       "      <td>18.878847</td>\n",
       "      <td>19.859028</td>\n",
       "      <td>25.469441</td>\n",
       "    </tr>\n",
       "    <tr>\n",
       "      <th>2024-04-11 00:00:00-04:00</th>\n",
       "      <td>168.339996</td>\n",
       "      <td>175.460007</td>\n",
       "      <td>168.160004</td>\n",
       "      <td>175.039993</td>\n",
       "      <td>90868400</td>\n",
       "      <td>0.0</td>\n",
       "      <td>0.0</td>\n",
       "      <td>170.103998</td>\n",
       "      <td>169.855713</td>\n",
       "      <td>169.762221</td>\n",
       "      <td>...</td>\n",
       "      <td>20.417338</td>\n",
       "      <td>18.146304</td>\n",
       "      <td>28.870297</td>\n",
       "      <td>21.256380</td>\n",
       "      <td>18.453795</td>\n",
       "      <td>27.868827</td>\n",
       "      <td>21.960371</td>\n",
       "      <td>18.414986</td>\n",
       "      <td>27.087028</td>\n",
       "      <td>22.551207</td>\n",
       "    </tr>\n",
       "  </tbody>\n",
       "</table>\n",
       "<p>10923 rows × 148 columns</p>\n",
       "</div>"
      ],
      "text/plain": [
       "                                 Open        High         Low       Close  \\\n",
       "Date                                                                        \n",
       "1980-12-12 00:00:00-05:00    0.099192    0.099623    0.099192    0.099192   \n",
       "1980-12-15 00:00:00-05:00    0.094448    0.094448    0.094017    0.094017   \n",
       "1980-12-16 00:00:00-05:00    0.087548    0.087548    0.087116    0.087116   \n",
       "1980-12-17 00:00:00-05:00    0.089273    0.089704    0.089273    0.089273   \n",
       "1980-12-18 00:00:00-05:00    0.091861    0.092292    0.091861    0.091861   \n",
       "...                               ...         ...         ...         ...   \n",
       "2024-04-05 00:00:00-04:00  169.589996  170.389999  168.949997  169.580002   \n",
       "2024-04-08 00:00:00-04:00  169.029999  169.199997  168.240005  168.449997   \n",
       "2024-04-09 00:00:00-04:00  168.699997  170.080002  168.350006  169.669998   \n",
       "2024-04-10 00:00:00-04:00  168.800003  169.089996  167.110001  167.779999   \n",
       "2024-04-11 00:00:00-04:00  168.339996  175.460007  168.160004  175.039993   \n",
       "\n",
       "                              Volume  Dividends  Stock Splits       SMA_5  \\\n",
       "Date                                                                        \n",
       "1980-12-12 00:00:00-05:00  469033600        0.0           0.0         NaN   \n",
       "1980-12-15 00:00:00-05:00  175884800        0.0           0.0         NaN   \n",
       "1980-12-16 00:00:00-05:00  105728000        0.0           0.0         NaN   \n",
       "1980-12-17 00:00:00-05:00   86441600        0.0           0.0         NaN   \n",
       "1980-12-18 00:00:00-05:00   73449600        0.0           0.0    0.092292   \n",
       "...                              ...        ...           ...         ...   \n",
       "2024-04-05 00:00:00-04:00   42055200        0.0           0.0  169.384000   \n",
       "2024-04-08 00:00:00-04:00   37425500        0.0           0.0  169.067999   \n",
       "2024-04-09 00:00:00-04:00   42451200        0.0           0.0  169.234000   \n",
       "2024-04-10 00:00:00-04:00   49709300        0.0           0.0  168.860001   \n",
       "2024-04-11 00:00:00-04:00   90868400        0.0           0.0  170.103998   \n",
       "\n",
       "                                SMA_7       SMA_9  ...  adx_neg_15     adx_17  \\\n",
       "Date                                               ...                          \n",
       "1980-12-12 00:00:00-05:00         NaN         NaN  ...    0.000000   0.000000   \n",
       "1980-12-15 00:00:00-05:00         NaN         NaN  ...    0.000000   0.000000   \n",
       "1980-12-16 00:00:00-05:00         NaN         NaN  ...    0.000000   0.000000   \n",
       "1980-12-17 00:00:00-05:00         NaN         NaN  ...    0.000000   0.000000   \n",
       "1980-12-18 00:00:00-05:00         NaN         NaN  ...    0.000000   0.000000   \n",
       "...                               ...         ...  ...         ...        ...   \n",
       "2024-04-05 00:00:00-04:00  170.244284  170.252223  ...   22.853155  20.234485   \n",
       "2024-04-08 00:00:00-04:00  169.549999  169.985555  ...   23.763900  19.627387   \n",
       "2024-04-09 00:00:00-04:00  169.291428  169.981110  ...   22.810202  18.798580   \n",
       "2024-04-10 00:00:00-04:00  168.969999  169.366665  ...   24.343294  18.331114   \n",
       "2024-04-11 00:00:00-04:00  169.855713  169.762221  ...   20.417338  18.146304   \n",
       "\n",
       "                           adx_pos_17  adx_neg_17     adx_19  adx_pos_19  \\\n",
       "Date                                                                       \n",
       "1980-12-12 00:00:00-05:00    0.000000    0.000000   0.000000    0.000000   \n",
       "1980-12-15 00:00:00-05:00    0.000000    0.000000   0.000000    0.000000   \n",
       "1980-12-16 00:00:00-05:00    0.000000    0.000000   0.000000    0.000000   \n",
       "1980-12-17 00:00:00-05:00    0.000000    0.000000   0.000000    0.000000   \n",
       "1980-12-18 00:00:00-05:00    0.000000    0.000000   0.000000    0.000000   \n",
       "...                               ...         ...        ...         ...   \n",
       "2024-04-05 00:00:00-04:00   20.475501   23.550784  20.377930   20.346592   \n",
       "2024-04-08 00:00:00-04:00   19.936935   24.324980  19.885194   19.872610   \n",
       "2024-04-09 00:00:00-04:00   21.014066   23.477882  19.214514   20.826304   \n",
       "2024-04-10 00:00:00-04:00   19.923218   24.773558  18.820261   19.871266   \n",
       "2024-04-11 00:00:00-04:00   28.870297   21.256380  18.453795   27.868827   \n",
       "\n",
       "                           adx_neg_19     adx_21  adx_pos_21  adx_neg_21  \n",
       "Date                                                                      \n",
       "1980-12-12 00:00:00-05:00    0.000000   0.000000    0.000000    0.000000  \n",
       "1980-12-15 00:00:00-05:00    0.000000   0.000000    0.000000    0.000000  \n",
       "1980-12-16 00:00:00-05:00    0.000000   0.000000    0.000000    0.000000  \n",
       "1980-12-17 00:00:00-05:00    0.000000   0.000000    0.000000    0.000000  \n",
       "1980-12-18 00:00:00-05:00    0.000000   0.000000    0.000000    0.000000  \n",
       "...                               ...        ...         ...         ...  \n",
       "2024-04-05 00:00:00-04:00   24.120542  20.142524   20.278869   24.585725  \n",
       "2024-04-08 00:00:00-04:00   24.792941  19.746419   19.854710   25.179724  \n",
       "2024-04-09 00:00:00-04:00   24.030076  19.203928   20.709803   24.485461  \n",
       "2024-04-10 00:00:00-04:00   25.149346  18.878847   19.859028   25.469441  \n",
       "2024-04-11 00:00:00-04:00   21.960371  18.414986   27.087028   22.551207  \n",
       "\n",
       "[10923 rows x 148 columns]"
      ]
     },
     "execution_count": 26,
     "metadata": {},
     "output_type": "execute_result"
    }
   ],
   "source": [
    "apple_df"
   ]
  },
  {
   "cell_type": "markdown",
   "metadata": {},
   "source": [
    "# Labeling"
   ]
  },
  {
   "cell_type": "code",
   "execution_count": 37,
   "metadata": {},
   "outputs": [],
   "source": [
    "# Function to lable the data\n",
    "# if i + 11 is the max value in the window, label as BUY\n",
    "# if i + 11 is the min value in the window, label as SELL\n",
    "# else label as HOLD\n",
    "# Idea: Buy when the stock is at its lowest in the window, sell when it is at its highest\n",
    "\n",
    "# Source: https://medium.com/@quantclubiitkgp/stock-buy-sell-hold-prediction-using-cnn-ee7b671f4ad3\n",
    "\n",
    "\n",
    "def get_labels_END(df, windowSize=11):\n",
    "   labels = [] \n",
    "   values = []\n",
    "   for i in range(len(df.Close) - windowSize): \n",
    "      mx = df.Close.iloc[i]\n",
    "      mn = df.Close.iloc[i]\n",
    "      mxIndex, mnIndex = i, i\n",
    "      for j in range(i + 1, i + windowSize + 1): \n",
    "         if df.Close.iloc[j] > mx:\n",
    "               mx = df.Close.iloc[j]\n",
    "               mxIndex = j\n",
    "         if df.Close.iloc[j] < mn: \n",
    "               mn = df.Close.iloc[j] \n",
    "               mnIndex = j\n",
    "\n",
    "      if mnIndex == i + 11:\n",
    "         labels.append('SELL')\n",
    "         values.append(i + 11)\n",
    "      elif mxIndex == i + 11:\n",
    "         labels.append('BUY')\n",
    "         values.append(i + 11)\n",
    "      else:\n",
    "         labels.append('HOLD')\n",
    "         values.append(i + 11)\n",
    "   \n",
    "   # Append 11 times a 999 to the end of the labels list\n",
    "   for i in range(11):\n",
    "      labels.append(999)\n",
    "\n",
    "   # Append the labels to the dataframe from the start\n",
    "   df['Labels_END'] = labels\n",
    "\n",
    "   # Replace the 999 with NaN\n",
    "   df['Labels_END'] = df['Labels_END'].replace(999, np.nan)\n",
    "\n",
    "   print('Labeling END done!')\n",
    "\n",
    "   return df\n"
   ]
  },
  {
   "cell_type": "code",
   "execution_count": 27,
   "metadata": {},
   "outputs": [],
   "source": [
    "# Source: https://towardsdatascience.com/stock-market-action-prediction-with-convnet-8689238feae3\n",
    "\n",
    "\n",
    "def get_labels_MID(df, col_name, window_size=11):\n",
    "        \"\"\"\n",
    "        Data is labeled as per the logic in research paper\n",
    "        Label code : BUY => 1, SELL => 0, HOLD => 2\n",
    "        params :\n",
    "            df => Dataframe with data\n",
    "            col_name => name of column which should be used to determine strategy\n",
    "        returns : nothing - df is modified directly\n",
    "        \"\"\"\n",
    "\n",
    "        row_counter = 0\n",
    "        total_rows = len(df)\n",
    "        labels = np.zeros(total_rows)\n",
    "        labels[:] = np.nan\n",
    "\n",
    "        while row_counter < total_rows:\n",
    "            if row_counter >= window_size - 1:\n",
    "                window_begin = row_counter - (window_size - 1)\n",
    "                window_end = row_counter\n",
    "                window_middle = int((window_begin + window_end) / 2)\n",
    "\n",
    "                min_ = np.inf\n",
    "                min_index = -1\n",
    "                max_ = -np.inf\n",
    "                max_index = -1\n",
    "                for i in range(window_begin, window_end + 1):\n",
    "                    price = df.iloc[i][col_name]\n",
    "                    if price < min_:\n",
    "                        min_ = price\n",
    "                        min_index = i\n",
    "                    if price > max_:\n",
    "                        max_ = price\n",
    "                        max_index = i\n",
    "\n",
    "                if max_index == window_middle:\n",
    "                    labels[window_middle] = 0\n",
    "                elif min_index == window_middle:\n",
    "                    labels[window_middle] = 1\n",
    "                else:\n",
    "                    labels[window_middle] = 2\n",
    "\n",
    "            row_counter = row_counter + 1\n",
    "\n",
    "        # Add labels to the dataframe\n",
    "        df['Labels_MID'] = labels\n",
    "\n",
    "        # Replace the 0, 1, 2 with BUY, SELL, HOLD\n",
    "        df['Labels_MID'] = df['Labels_MID'].replace(0, 'SELL')\n",
    "        df['Labels_MID'] = df['Labels_MID'].replace(1, 'BUY')\n",
    "        df['Labels_MID'] = df['Labels_MID'].replace(2, 'HOLD')\n",
    "        \n",
    "\n",
    "        print('Labeling MID done!') "
   ]
  },
  {
   "cell_type": "code",
   "execution_count": 28,
   "metadata": {},
   "outputs": [
    {
     "name": "stdout",
     "output_type": "stream",
     "text": [
      "Labeling MID done!\n"
     ]
    },
    {
     "name": "stderr",
     "output_type": "stream",
     "text": [
      "/var/folders/p3/w0lx7sbn5pd85k9cmydlynhc0000gn/T/ipykernel_16431/1539600692.py:48: PerformanceWarning: DataFrame is highly fragmented.  This is usually the result of calling `frame.insert` many times, which has poor performance.  Consider joining all columns at once using pd.concat(axis=1) instead. To get a de-fragmented frame, use `newframe = frame.copy()`\n",
      "  df['Labels_MID'] = labels\n"
     ]
    }
   ],
   "source": [
    "get_labels_MID(apple_df, 'Close')\n",
    "#get_labels_END(apple_df)"
   ]
  },
  {
   "cell_type": "code",
   "execution_count": 29,
   "metadata": {},
   "outputs": [
    {
     "ename": "KeyError",
     "evalue": "'Labels_END'",
     "output_type": "error",
     "traceback": [
      "\u001b[0;31m---------------------------------------------------------------------------\u001b[0m",
      "\u001b[0;31mKeyError\u001b[0m                                  Traceback (most recent call last)",
      "File \u001b[0;32m~/anaconda3/envs/banking/lib/python3.11/site-packages/pandas/core/indexes/base.py:3791\u001b[0m, in \u001b[0;36mIndex.get_loc\u001b[0;34m(self, key)\u001b[0m\n\u001b[1;32m   3790\u001b[0m \u001b[38;5;28;01mtry\u001b[39;00m:\n\u001b[0;32m-> 3791\u001b[0m     \u001b[38;5;28;01mreturn\u001b[39;00m \u001b[38;5;28;43mself\u001b[39;49m\u001b[38;5;241;43m.\u001b[39;49m\u001b[43m_engine\u001b[49m\u001b[38;5;241;43m.\u001b[39;49m\u001b[43mget_loc\u001b[49m\u001b[43m(\u001b[49m\u001b[43mcasted_key\u001b[49m\u001b[43m)\u001b[49m\n\u001b[1;32m   3792\u001b[0m \u001b[38;5;28;01mexcept\u001b[39;00m \u001b[38;5;167;01mKeyError\u001b[39;00m \u001b[38;5;28;01mas\u001b[39;00m err:\n",
      "File \u001b[0;32mindex.pyx:152\u001b[0m, in \u001b[0;36mpandas._libs.index.IndexEngine.get_loc\u001b[0;34m()\u001b[0m\n",
      "File \u001b[0;32mindex.pyx:181\u001b[0m, in \u001b[0;36mpandas._libs.index.IndexEngine.get_loc\u001b[0;34m()\u001b[0m\n",
      "File \u001b[0;32mpandas/_libs/hashtable_class_helper.pxi:7080\u001b[0m, in \u001b[0;36mpandas._libs.hashtable.PyObjectHashTable.get_item\u001b[0;34m()\u001b[0m\n",
      "File \u001b[0;32mpandas/_libs/hashtable_class_helper.pxi:7088\u001b[0m, in \u001b[0;36mpandas._libs.hashtable.PyObjectHashTable.get_item\u001b[0;34m()\u001b[0m\n",
      "\u001b[0;31mKeyError\u001b[0m: 'Labels_END'",
      "\nThe above exception was the direct cause of the following exception:\n",
      "\u001b[0;31mKeyError\u001b[0m                                  Traceback (most recent call last)",
      "Cell \u001b[0;32mIn[29], line 4\u001b[0m\n\u001b[1;32m      2\u001b[0m fig, ax \u001b[38;5;241m=\u001b[39m plt\u001b[38;5;241m.\u001b[39msubplots(\u001b[38;5;241m1\u001b[39m, \u001b[38;5;241m2\u001b[39m, figsize\u001b[38;5;241m=\u001b[39m(\u001b[38;5;241m12\u001b[39m, \u001b[38;5;241m6\u001b[39m))\n\u001b[1;32m      3\u001b[0m apple_df[\u001b[38;5;124m'\u001b[39m\u001b[38;5;124mLabels_MID\u001b[39m\u001b[38;5;124m'\u001b[39m]\u001b[38;5;241m.\u001b[39mhist(ax\u001b[38;5;241m=\u001b[39max[\u001b[38;5;241m0\u001b[39m])\n\u001b[0;32m----> 4\u001b[0m \u001b[43mapple_df\u001b[49m\u001b[43m[\u001b[49m\u001b[38;5;124;43m'\u001b[39;49m\u001b[38;5;124;43mLabels_END\u001b[39;49m\u001b[38;5;124;43m'\u001b[39;49m\u001b[43m]\u001b[49m\u001b[38;5;241m.\u001b[39mhist(ax\u001b[38;5;241m=\u001b[39max[\u001b[38;5;241m1\u001b[39m])\n\u001b[1;32m      6\u001b[0m \u001b[38;5;66;03m# add a title to the subplot\u001b[39;00m\n\u001b[1;32m      7\u001b[0m ax[\u001b[38;5;241m0\u001b[39m]\u001b[38;5;241m.\u001b[39mset_title(\u001b[38;5;124m'\u001b[39m\u001b[38;5;124mLabels MID\u001b[39m\u001b[38;5;124m'\u001b[39m)\n",
      "File \u001b[0;32m~/anaconda3/envs/banking/lib/python3.11/site-packages/pandas/core/frame.py:3893\u001b[0m, in \u001b[0;36mDataFrame.__getitem__\u001b[0;34m(self, key)\u001b[0m\n\u001b[1;32m   3891\u001b[0m \u001b[38;5;28;01mif\u001b[39;00m \u001b[38;5;28mself\u001b[39m\u001b[38;5;241m.\u001b[39mcolumns\u001b[38;5;241m.\u001b[39mnlevels \u001b[38;5;241m>\u001b[39m \u001b[38;5;241m1\u001b[39m:\n\u001b[1;32m   3892\u001b[0m     \u001b[38;5;28;01mreturn\u001b[39;00m \u001b[38;5;28mself\u001b[39m\u001b[38;5;241m.\u001b[39m_getitem_multilevel(key)\n\u001b[0;32m-> 3893\u001b[0m indexer \u001b[38;5;241m=\u001b[39m \u001b[38;5;28;43mself\u001b[39;49m\u001b[38;5;241;43m.\u001b[39;49m\u001b[43mcolumns\u001b[49m\u001b[38;5;241;43m.\u001b[39;49m\u001b[43mget_loc\u001b[49m\u001b[43m(\u001b[49m\u001b[43mkey\u001b[49m\u001b[43m)\u001b[49m\n\u001b[1;32m   3894\u001b[0m \u001b[38;5;28;01mif\u001b[39;00m is_integer(indexer):\n\u001b[1;32m   3895\u001b[0m     indexer \u001b[38;5;241m=\u001b[39m [indexer]\n",
      "File \u001b[0;32m~/anaconda3/envs/banking/lib/python3.11/site-packages/pandas/core/indexes/base.py:3798\u001b[0m, in \u001b[0;36mIndex.get_loc\u001b[0;34m(self, key)\u001b[0m\n\u001b[1;32m   3793\u001b[0m     \u001b[38;5;28;01mif\u001b[39;00m \u001b[38;5;28misinstance\u001b[39m(casted_key, \u001b[38;5;28mslice\u001b[39m) \u001b[38;5;129;01mor\u001b[39;00m (\n\u001b[1;32m   3794\u001b[0m         \u001b[38;5;28misinstance\u001b[39m(casted_key, abc\u001b[38;5;241m.\u001b[39mIterable)\n\u001b[1;32m   3795\u001b[0m         \u001b[38;5;129;01mand\u001b[39;00m \u001b[38;5;28many\u001b[39m(\u001b[38;5;28misinstance\u001b[39m(x, \u001b[38;5;28mslice\u001b[39m) \u001b[38;5;28;01mfor\u001b[39;00m x \u001b[38;5;129;01min\u001b[39;00m casted_key)\n\u001b[1;32m   3796\u001b[0m     ):\n\u001b[1;32m   3797\u001b[0m         \u001b[38;5;28;01mraise\u001b[39;00m InvalidIndexError(key)\n\u001b[0;32m-> 3798\u001b[0m     \u001b[38;5;28;01mraise\u001b[39;00m \u001b[38;5;167;01mKeyError\u001b[39;00m(key) \u001b[38;5;28;01mfrom\u001b[39;00m \u001b[38;5;21;01merr\u001b[39;00m\n\u001b[1;32m   3799\u001b[0m \u001b[38;5;28;01mexcept\u001b[39;00m \u001b[38;5;167;01mTypeError\u001b[39;00m:\n\u001b[1;32m   3800\u001b[0m     \u001b[38;5;66;03m# If we have a listlike key, _check_indexing_error will raise\u001b[39;00m\n\u001b[1;32m   3801\u001b[0m     \u001b[38;5;66;03m#  InvalidIndexError. Otherwise we fall through and re-raise\u001b[39;00m\n\u001b[1;32m   3802\u001b[0m     \u001b[38;5;66;03m#  the TypeError.\u001b[39;00m\n\u001b[1;32m   3803\u001b[0m     \u001b[38;5;28mself\u001b[39m\u001b[38;5;241m.\u001b[39m_check_indexing_error(key)\n",
      "\u001b[0;31mKeyError\u001b[0m: 'Labels_END'"
     ]
    },
    {
     "data": {
      "image/png": "[encoded data removed]",
      "text/plain": [
       "<Figure size 1200x600 with 2 Axes>"
      ]
     },
     "metadata": {},
     "output_type": "display_data"
    }
   ],
   "source": [
    "# make a subplot of the labeles MID and END\n",
    "fig, ax = plt.subplots(1, 2, figsize=(12, 6))\n",
    "apple_df['Labels_MID'].hist(ax=ax[0])\n",
    "apple_df['Labels_END'].hist(ax=ax[1])\n",
    "\n",
    "# add a title to the subplot\n",
    "ax[0].set_title('Labels MID')\n",
    "ax[1].set_title('Labels END')\n"
   ]
  },
  {
   "cell_type": "code",
   "execution_count": 30,
   "metadata": {},
   "outputs": [
    {
     "data": {
      "image/png": "[encoded data removed]",
      "text/plain": [
       "<Figure size 1500x700 with 1 Axes>"
      ]
     },
     "metadata": {},
     "output_type": "display_data"
    }
   ],
   "source": [
    "plt.figure(figsize=(15, 7))\n",
    "\n",
    "# add buy and sell signals\n",
    "# buy = green, sell = red\n",
    "buy = apple_df[(apple_df['Labels_MID'] == 'BUY') & (apple_df.index >= '2015-01-01') & (apple_df.index <= '2022-12-31')]\n",
    "sell = apple_df[(apple_df['Labels_MID'] == 'SELL') & (apple_df.index >= '2015-01-01') & (apple_df.index <= '2022-12-31')]\n",
    "apple_df['Close']['2015':'2022'].plot()\n",
    "plt.scatter(buy.index, buy['Close'], color='g', marker='^', alpha=1)\n",
    "plt.scatter(sell.index, sell['Close'], color='r', marker='v', alpha=1)\n",
    "plt.title('Buy and Sell signals for Apple stock (2015-2022) - Labels MID')\n",
    "plt.legend(['Close', 'Buy', 'Sell'])\n",
    "plt.show()\n",
    "\n"
   ]
  },
  {
   "cell_type": "code",
   "execution_count": 31,
   "metadata": {},
   "outputs": [
    {
     "ename": "KeyError",
     "evalue": "'Labels_END'",
     "output_type": "error",
     "traceback": [
      "\u001b[0;31m---------------------------------------------------------------------------\u001b[0m",
      "\u001b[0;31mKeyError\u001b[0m                                  Traceback (most recent call last)",
      "File \u001b[0;32m~/anaconda3/envs/banking/lib/python3.11/site-packages/pandas/core/indexes/base.py:3791\u001b[0m, in \u001b[0;36mIndex.get_loc\u001b[0;34m(self, key)\u001b[0m\n\u001b[1;32m   3790\u001b[0m \u001b[38;5;28;01mtry\u001b[39;00m:\n\u001b[0;32m-> 3791\u001b[0m     \u001b[38;5;28;01mreturn\u001b[39;00m \u001b[38;5;28;43mself\u001b[39;49m\u001b[38;5;241;43m.\u001b[39;49m\u001b[43m_engine\u001b[49m\u001b[38;5;241;43m.\u001b[39;49m\u001b[43mget_loc\u001b[49m\u001b[43m(\u001b[49m\u001b[43mcasted_key\u001b[49m\u001b[43m)\u001b[49m\n\u001b[1;32m   3792\u001b[0m \u001b[38;5;28;01mexcept\u001b[39;00m \u001b[38;5;167;01mKeyError\u001b[39;00m \u001b[38;5;28;01mas\u001b[39;00m err:\n",
      "File \u001b[0;32mindex.pyx:152\u001b[0m, in \u001b[0;36mpandas._libs.index.IndexEngine.get_loc\u001b[0;34m()\u001b[0m\n",
      "File \u001b[0;32mindex.pyx:181\u001b[0m, in \u001b[0;36mpandas._libs.index.IndexEngine.get_loc\u001b[0;34m()\u001b[0m\n",
      "File \u001b[0;32mpandas/_libs/hashtable_class_helper.pxi:7080\u001b[0m, in \u001b[0;36mpandas._libs.hashtable.PyObjectHashTable.get_item\u001b[0;34m()\u001b[0m\n",
      "File \u001b[0;32mpandas/_libs/hashtable_class_helper.pxi:7088\u001b[0m, in \u001b[0;36mpandas._libs.hashtable.PyObjectHashTable.get_item\u001b[0;34m()\u001b[0m\n",
      "\u001b[0;31mKeyError\u001b[0m: 'Labels_END'",
      "\nThe above exception was the direct cause of the following exception:\n",
      "\u001b[0;31mKeyError\u001b[0m                                  Traceback (most recent call last)",
      "Cell \u001b[0;32mIn[31], line 5\u001b[0m\n\u001b[1;32m      1\u001b[0m plt\u001b[38;5;241m.\u001b[39mfigure(figsize\u001b[38;5;241m=\u001b[39m(\u001b[38;5;241m15\u001b[39m, \u001b[38;5;241m7\u001b[39m))\n\u001b[1;32m      3\u001b[0m \u001b[38;5;66;03m# add buy and sell signals\u001b[39;00m\n\u001b[1;32m      4\u001b[0m \u001b[38;5;66;03m# buy = green, sell = red\u001b[39;00m\n\u001b[0;32m----> 5\u001b[0m buy \u001b[38;5;241m=\u001b[39m apple_df[(\u001b[43mapple_df\u001b[49m\u001b[43m[\u001b[49m\u001b[38;5;124;43m'\u001b[39;49m\u001b[38;5;124;43mLabels_END\u001b[39;49m\u001b[38;5;124;43m'\u001b[39;49m\u001b[43m]\u001b[49m \u001b[38;5;241m==\u001b[39m \u001b[38;5;124m'\u001b[39m\u001b[38;5;124mBUY\u001b[39m\u001b[38;5;124m'\u001b[39m) \u001b[38;5;241m&\u001b[39m (apple_df\u001b[38;5;241m.\u001b[39mindex \u001b[38;5;241m>\u001b[39m\u001b[38;5;241m=\u001b[39m \u001b[38;5;124m'\u001b[39m\u001b[38;5;124m2015-01-01\u001b[39m\u001b[38;5;124m'\u001b[39m) \u001b[38;5;241m&\u001b[39m (apple_df\u001b[38;5;241m.\u001b[39mindex \u001b[38;5;241m<\u001b[39m\u001b[38;5;241m=\u001b[39m \u001b[38;5;124m'\u001b[39m\u001b[38;5;124m2022-12-31\u001b[39m\u001b[38;5;124m'\u001b[39m)]\n\u001b[1;32m      6\u001b[0m sell \u001b[38;5;241m=\u001b[39m apple_df[(apple_df[\u001b[38;5;124m'\u001b[39m\u001b[38;5;124mLabels_END\u001b[39m\u001b[38;5;124m'\u001b[39m] \u001b[38;5;241m==\u001b[39m \u001b[38;5;124m'\u001b[39m\u001b[38;5;124mSELL\u001b[39m\u001b[38;5;124m'\u001b[39m) \u001b[38;5;241m&\u001b[39m (apple_df\u001b[38;5;241m.\u001b[39mindex \u001b[38;5;241m>\u001b[39m\u001b[38;5;241m=\u001b[39m \u001b[38;5;124m'\u001b[39m\u001b[38;5;124m2015-01-01\u001b[39m\u001b[38;5;124m'\u001b[39m) \u001b[38;5;241m&\u001b[39m (apple_df\u001b[38;5;241m.\u001b[39mindex \u001b[38;5;241m<\u001b[39m\u001b[38;5;241m=\u001b[39m \u001b[38;5;124m'\u001b[39m\u001b[38;5;124m2022-12-31\u001b[39m\u001b[38;5;124m'\u001b[39m)]\n\u001b[1;32m      7\u001b[0m apple_df[\u001b[38;5;124m'\u001b[39m\u001b[38;5;124mClose\u001b[39m\u001b[38;5;124m'\u001b[39m][\u001b[38;5;124m'\u001b[39m\u001b[38;5;124m2015\u001b[39m\u001b[38;5;124m'\u001b[39m:\u001b[38;5;124m'\u001b[39m\u001b[38;5;124m2022\u001b[39m\u001b[38;5;124m'\u001b[39m]\u001b[38;5;241m.\u001b[39mplot()\n",
      "File \u001b[0;32m~/anaconda3/envs/banking/lib/python3.11/site-packages/pandas/core/frame.py:3893\u001b[0m, in \u001b[0;36mDataFrame.__getitem__\u001b[0;34m(self, key)\u001b[0m\n\u001b[1;32m   3891\u001b[0m \u001b[38;5;28;01mif\u001b[39;00m \u001b[38;5;28mself\u001b[39m\u001b[38;5;241m.\u001b[39mcolumns\u001b[38;5;241m.\u001b[39mnlevels \u001b[38;5;241m>\u001b[39m \u001b[38;5;241m1\u001b[39m:\n\u001b[1;32m   3892\u001b[0m     \u001b[38;5;28;01mreturn\u001b[39;00m \u001b[38;5;28mself\u001b[39m\u001b[38;5;241m.\u001b[39m_getitem_multilevel(key)\n\u001b[0;32m-> 3893\u001b[0m indexer \u001b[38;5;241m=\u001b[39m \u001b[38;5;28;43mself\u001b[39;49m\u001b[38;5;241;43m.\u001b[39;49m\u001b[43mcolumns\u001b[49m\u001b[38;5;241;43m.\u001b[39;49m\u001b[43mget_loc\u001b[49m\u001b[43m(\u001b[49m\u001b[43mkey\u001b[49m\u001b[43m)\u001b[49m\n\u001b[1;32m   3894\u001b[0m \u001b[38;5;28;01mif\u001b[39;00m is_integer(indexer):\n\u001b[1;32m   3895\u001b[0m     indexer \u001b[38;5;241m=\u001b[39m [indexer]\n",
      "File \u001b[0;32m~/anaconda3/envs/banking/lib/python3.11/site-packages/pandas/core/indexes/base.py:3798\u001b[0m, in \u001b[0;36mIndex.get_loc\u001b[0;34m(self, key)\u001b[0m\n\u001b[1;32m   3793\u001b[0m     \u001b[38;5;28;01mif\u001b[39;00m \u001b[38;5;28misinstance\u001b[39m(casted_key, \u001b[38;5;28mslice\u001b[39m) \u001b[38;5;129;01mor\u001b[39;00m (\n\u001b[1;32m   3794\u001b[0m         \u001b[38;5;28misinstance\u001b[39m(casted_key, abc\u001b[38;5;241m.\u001b[39mIterable)\n\u001b[1;32m   3795\u001b[0m         \u001b[38;5;129;01mand\u001b[39;00m \u001b[38;5;28many\u001b[39m(\u001b[38;5;28misinstance\u001b[39m(x, \u001b[38;5;28mslice\u001b[39m) \u001b[38;5;28;01mfor\u001b[39;00m x \u001b[38;5;129;01min\u001b[39;00m casted_key)\n\u001b[1;32m   3796\u001b[0m     ):\n\u001b[1;32m   3797\u001b[0m         \u001b[38;5;28;01mraise\u001b[39;00m InvalidIndexError(key)\n\u001b[0;32m-> 3798\u001b[0m     \u001b[38;5;28;01mraise\u001b[39;00m \u001b[38;5;167;01mKeyError\u001b[39;00m(key) \u001b[38;5;28;01mfrom\u001b[39;00m \u001b[38;5;21;01merr\u001b[39;00m\n\u001b[1;32m   3799\u001b[0m \u001b[38;5;28;01mexcept\u001b[39;00m \u001b[38;5;167;01mTypeError\u001b[39;00m:\n\u001b[1;32m   3800\u001b[0m     \u001b[38;5;66;03m# If we have a listlike key, _check_indexing_error will raise\u001b[39;00m\n\u001b[1;32m   3801\u001b[0m     \u001b[38;5;66;03m#  InvalidIndexError. Otherwise we fall through and re-raise\u001b[39;00m\n\u001b[1;32m   3802\u001b[0m     \u001b[38;5;66;03m#  the TypeError.\u001b[39;00m\n\u001b[1;32m   3803\u001b[0m     \u001b[38;5;28mself\u001b[39m\u001b[38;5;241m.\u001b[39m_check_indexing_error(key)\n",
      "\u001b[0;31mKeyError\u001b[0m: 'Labels_END'"
     ]
    },
    {
     "data": {
      "text/plain": [
       "<Figure size 1500x700 with 0 Axes>"
      ]
     },
     "metadata": {},
     "output_type": "display_data"
    }
   ],
   "source": [
    "plt.figure(figsize=(15, 7))\n",
    "\n",
    "# add buy and sell signals\n",
    "# buy = green, sell = red\n",
    "buy = apple_df[(apple_df['Labels_END'] == 'BUY') & (apple_df.index >= '2015-01-01') & (apple_df.index <= '2022-12-31')]\n",
    "sell = apple_df[(apple_df['Labels_END'] == 'SELL') & (apple_df.index >= '2015-01-01') & (apple_df.index <= '2022-12-31')]\n",
    "apple_df['Close']['2015':'2022'].plot()\n",
    "plt.scatter(buy.index, buy['Close'], color='g', marker='^', alpha=1)\n",
    "plt.scatter(sell.index, sell['Close'], color='r', marker='v', alpha=1)\n",
    "plt.title('Buy and Sell signals for Apple stock (2015-2022) - Labels END')\n",
    "plt.legend(['Close', 'Buy', 'Sell'])\n",
    "plt.show()\n"
   ]
  },
  {
   "cell_type": "markdown",
   "metadata": {},
   "source": [
    "## Feature Engineering"
   ]
  },
  {
   "cell_type": "markdown",
   "metadata": {},
   "source": [
    "The reason behind having this step in our pipeline is that Feature engineering involves creating, transforming, or selecting the most relevant variables in your dataset to improve model performance. This process is critical because it enables the model to learn from the data more effectively, leading to better predictions and insights. Feature selection, in particular, trims down the feature set to keep only the most valuable attributes, reducing complexity, computation time, and the risk of overfitting. In essence, these techniques streamline the modelling process, making it more accurate, interpretable, and efficient, while also saving time and resources.\n",
    "First, we Normalize our data set because Normalizing a dataset is crucial to ensure that all features are on a consistent scale, preventing one feature from dominating the analysis, improving model convergence, aiding in the interpretation of feature importance, making distance-based algorithms more reliable, and aligning with assumptions of regularisation techniques, all of which contribute to more effective and robust data analysis and machine learning.\n",
    "Then we will just apply a small filter of variance with a threshold of 0.1 i.e. any feature which has a variance less than or equal to 0.1 will be removed from the dataset as having this low variance does not contribute much to detecting the trend in the dataset."
   ]
  },
  {
   "cell_type": "code",
   "execution_count": 123,
   "metadata": {},
   "outputs": [],
   "source": [
    "# Function to calculate the number of features\n",
    "\n",
    "def calc_feature_number(features):\n",
    "    features = len(features)\n",
    "    return np.floor(np.sqrt(features)).astype(int)"
   ]
  },
  {
   "cell_type": "code",
   "execution_count": 124,
   "metadata": {},
   "outputs": [
    {
     "name": "stdout",
     "output_type": "stream",
     "text": [
      "Total number of features:  148\n",
      "Largest number of features that can be used in the model:  12\n",
      "k = 144\n"
     ]
    }
   ],
   "source": [
    "list_features = list(apple_df.loc[:, 'Open':'adx_neg_21'].columns)\n",
    "print('Total number of features: ', len(list_features))\n",
    "print('Largest number of features that can be used in the model: ', calc_feature_number(list_features))\n",
    "print(f\"k = {calc_feature_number(list_features)**2}\")"
   ]
  },
  {
   "cell_type": "code",
   "execution_count": 125,
   "metadata": {},
   "outputs": [
    {
     "name": "stdout",
     "output_type": "stream",
     "text": [
      "Total number of features 148\n",
      "train_split = 0.8\n",
      "Shape of x, y train/cv/test (6948, 148) (6948,) (1737, 148) (1737,) (2172, 148) (2172,)\n"
     ]
    }
   ],
   "source": [
    "### just copied from: https://towardsdatascience.com/stock-market-action-prediction-with-convnet-8689238feae3\n",
    "### needs to be reworked and adapted to the features we want to use\n",
    "### create function for this\n",
    "\n",
    "\n",
    "from sklearn.preprocessing import MinMaxScaler\n",
    "from sklearn.model_selection import train_test_split\n",
    "from collections import Counter\n",
    "\n",
    "df = apple_df.dropna()\n",
    "\n",
    "list_features = list(df.loc[:, 'Open':'adx_neg_21'].columns)  # needs to be changed to the features you want to use\n",
    "print('Total number of features', len(list_features))\n",
    "x_train, x_test, y_train, y_test = train_test_split(df.loc[:, 'Open':'adx_neg_21'], df['Labels_MID'], train_size=0.8, \n",
    "                                                    test_size=0.2, random_state=2, shuffle=True, stratify=df['Labels_MID'])\n",
    "\n",
    "train_split = 0.8\n",
    "\n",
    "print('train_split =',train_split)\n",
    "x_train, x_cv, y_train, y_cv = train_test_split(x_train, y_train, train_size=train_split, test_size=1-train_split, \n",
    "                                                random_state=2, shuffle=True, stratify=y_train)\n",
    "mm_scaler = MinMaxScaler(feature_range=(0, 1)) # or StandardScaler?\n",
    "x_train = mm_scaler.fit_transform(x_train)\n",
    "x_cv = mm_scaler.transform(x_cv)\n",
    "x_test = mm_scaler.transform(x_test)\n",
    "\n",
    "print(\"Shape of x, y train/cv/test {} {} {} {} {} {}\".format(x_train.shape, y_train.shape, x_cv.shape, y_cv.shape, x_test.shape, y_test.shape))\n"
   ]
  },
  {
   "cell_type": "markdown",
   "metadata": {},
   "source": [
    "# Feature Selection"
   ]
  },
  {
   "cell_type": "markdown",
   "metadata": {},
   "source": [
    "Now the main part is that we will calculate the importance of each feature by using Random Forest Classifier and then reduce the feature size to 81.\n",
    "\n",
    "A rough idea of how random forest works is for each decision point (split) in each tree, the Random Forest algorithm measures the decrease in impurity(Gini impurity) resulting from the split. The impurity reduction brought about by each feature is averaged across all the trees in the forest. Features that consistently reduce impurity more effectively when used in splits are considered more important"
   ]
  },
  {
   "cell_type": "code",
   "execution_count": 126,
   "metadata": {},
   "outputs": [],
   "source": [
    "from sklearn.feature_selection import SelectKBest\n",
    "from sklearn.feature_selection import chi2"
   ]
  },
  {
   "cell_type": "code",
   "execution_count": 127,
   "metadata": {},
   "outputs": [
    {
     "name": "stdout",
     "output_type": "stream",
     "text": [
      "Indizes der ausgewählten Merkmale:\n",
      "[  0   1   2   3   4   5   6   7   8   9  10  11  12  13  14  15  16  17\n",
      "  18  19  20  21  22  23  24  25  26  27  28  29  30  34  35  36  37  38\n",
      "  39  40  41  42  43  44  45  46  47  48  49  50  51  52  53  54  55  56\n",
      "  57  58  59  60  61  62  63  64  65  66  67  68  69  70  71  72  73  74\n",
      "  75  76  77  78  79  80  81  82  83  84  85  86  87  88  89  90  91  92\n",
      "  93  94  95  96  97  99 100 101 102 103 104 105 106 107 108 109 110 111\n",
      " 112 113 114 115 116 117 118 119 120 121 122 123 124 125 126 127 128 129\n",
      " 130 131 132 133 134 135 136 137 138 139 140 141 142 143 144 145 146 147]\n"
     ]
    }
   ],
   "source": [
    "from sklearn.feature_selection import SelectKBest, chi2\n",
    "\n",
    "# Anwenden der Feature Selection mit SelectKBest und Chi-Quadrat-Test\n",
    "k = 144  # Anzahl der gewünschten Merkmale\n",
    "selector = SelectKBest(chi2, k=k)\n",
    "X_new = selector.fit_transform(x_train, y_train)\n",
    "\n",
    "# Index der ausgewählten Merkmale\n",
    "selected_feature_indices = selector.get_support(indices=True)\n",
    "\n",
    "# Ausgabe der Indizes der ausgewählten Merkmale\n",
    "print(\"Indizes der ausgewählten Merkmale:\")\n",
    "print(selected_feature_indices)"
   ]
  },
  {
   "cell_type": "code",
   "execution_count": 128,
   "metadata": {},
   "outputs": [
    {
     "data": {
      "text/plain": [
       "144"
      ]
     },
     "execution_count": 128,
     "metadata": {},
     "output_type": "execute_result"
    }
   ],
   "source": [
    "len(selected_feature_indices)"
   ]
  },
  {
   "cell_type": "code",
   "execution_count": 129,
   "metadata": {},
   "outputs": [],
   "source": [
    "# only use the selected features\n",
    "x_train = x_train[:, selected_feature_indices]\n",
    "x_cv = x_cv[:, selected_feature_indices]\n",
    "x_test = x_test[:, selected_feature_indices]\n",
    "\n"
   ]
  },
  {
   "cell_type": "markdown",
   "metadata": {},
   "source": [
    "## Feature Importamce in Prediction"
   ]
  },
  {
   "cell_type": "markdown",
   "metadata": {},
   "source": [
    "Used mutual info classification for creating heat map for our image. Basically it tells us which part of the image is most useful to the model (will explain this part more in further ). (https://medium.com/@quantclubiitkgp/stock-buy-sell-hold-prediction-using-cnn-ee7b671f4ad3)\n",
    "\n",
    "> keine Ahnung was er damit meint und warum er das macht??!"
   ]
  },
  {
   "cell_type": "code",
   "execution_count": null,
   "metadata": {},
   "outputs": [],
   "source": []
  },
  {
   "cell_type": "markdown",
   "metadata": {},
   "source": [
    "## Image Creation"
   ]
  },
  {
   "cell_type": "code",
   "execution_count": 130,
   "metadata": {},
   "outputs": [],
   "source": [
    "# Function to reshape the data\n",
    "# Creates a 3D array (x, y and images for each row) for the CNN\n",
    "\n",
    "def reshape_as_image(x, img_width, img_height):\n",
    "    x_temp = np.zeros((len(x), img_height, img_width))\n",
    "    for i in range(x.shape[0]):\n",
    "        # print(type(x), type(x_temp), x.shape)\n",
    "        x_temp[i] = np.reshape(x[i], (img_height, img_width))\n",
    "\n",
    "    return x_temp"
   ]
  },
  {
   "cell_type": "code",
   "execution_count": 131,
   "metadata": {},
   "outputs": [
    {
     "name": "stdout",
     "output_type": "stream",
     "text": [
      "final shape of x, y train/test (6948, 12, 12, 3) (6948,) (2172, 12, 12, 3) (2172,)\n"
     ]
    }
   ],
   "source": [
    "dim = int(np.sqrt(k))\n",
    "x_train = reshape_as_image(x_train, dim, dim)\n",
    "x_cv = reshape_as_image(x_cv, dim, dim)\n",
    "x_test = reshape_as_image(x_test, dim, dim)\n",
    "# adding a 1-dim for channels (3)\n",
    "x_train = np.stack((x_train,) * 3, axis=-1)\n",
    "x_test = np.stack((x_test,) * 3, axis=-1)\n",
    "x_cv = np.stack((x_cv,) * 3, axis=-1)\n",
    "print(\"final shape of x, y train/test {} {} {} {}\".format(x_train.shape, y_train.shape, x_test.shape, y_test.shape))\n"
   ]
  },
  {
   "cell_type": "code",
   "execution_count": 134,
   "metadata": {},
   "outputs": [
    {
     "data": {
      "text/plain": [
       "(6948, 12, 12, 3)"
      ]
     },
     "execution_count": 134,
     "metadata": {},
     "output_type": "execute_result"
    }
   ],
   "source": [
    "x_train.shape"
   ]
  },
  {
   "cell_type": "code",
   "execution_count": 133,
   "metadata": {},
   "outputs": [
    {
     "name": "stderr",
     "output_type": "stream",
     "text": [
      "/var/folders/p3/w0lx7sbn5pd85k9cmydlynhc0000gn/T/ipykernel_16431/408720151.py:7: FutureWarning: Series.__getitem__ treating keys as positions is deprecated. In a future version, integer keys will always be treated as labels (consistent with DataFrame behavior). To access a value by position, use `ser.iloc[pos]`\n",
      "  ax[i].set_title(y_train[index])\n"
     ]
    },
    {
     "data": {
      "image/png": "[encoded data removed]",
      "text/plain": [
       "<Figure size 2000x500 with 4 Axes>"
      ]
     },
     "metadata": {},
     "output_type": "display_data"
    }
   ],
   "source": [
    "# Subplot with 4 plots in a row with random data\n",
    "\n",
    "fig, ax = plt.subplots(1, 4, figsize=(20, 5))\n",
    "for i in range(4):\n",
    "    index = np.random.randint(0, x_train.shape[0])\n",
    "    ax[i].imshow(x_train[index])\n",
    "    ax[i].set_title(y_train[index])\n",
    "plt.show()\n"
   ]
  },
  {
   "cell_type": "markdown",
   "metadata": {},
   "source": [
    "## CNN"
   ]
  },
  {
   "cell_type": "markdown",
   "metadata": {},
   "source": [
    "## Trading Bot Implementation"
   ]
  },
  {
   "cell_type": "code",
   "execution_count": 109,
   "metadata": {},
   "outputs": [
    {
     "name": "stdout",
     "output_type": "stream",
     "text": [
      "Epoch 1/10\n"
     ]
    },
    {
     "name": "stderr",
     "output_type": "stream",
     "text": [
      "/Users/flaviopfister/anaconda3/envs/banking/lib/python3.11/site-packages/keras/src/layers/convolutional/base_conv.py:99: UserWarning: Do not pass an `input_shape`/`input_dim` argument to a layer. When using Sequential models, prefer using an `Input(shape)` object as the first layer in the model instead.\n",
      "  super().__init__(\n",
      "2024-04-12 08:37:51.853535: W tensorflow/core/framework/op_kernel.cc:1816] OP_REQUIRES failed at cast_op.cc:122 : UNIMPLEMENTED: Cast string to float is not supported\n"
     ]
    },
    {
     "ename": "UnimplementedError",
     "evalue": "Graph execution error:\n\nDetected at node compile_loss/sparse_categorical_crossentropy/Cast defined at (most recent call last):\n  File \"<frozen runpy>\", line 198, in _run_module_as_main\n\n  File \"<frozen runpy>\", line 88, in _run_code\n\n  File \"/Users/flaviopfister/anaconda3/envs/banking/lib/python3.11/site-packages/ipykernel_launcher.py\", line 18, in <module>\n\n  File \"/Users/flaviopfister/anaconda3/envs/banking/lib/python3.11/site-packages/traitlets/config/application.py\", line 1075, in launch_instance\n\n  File \"/Users/flaviopfister/anaconda3/envs/banking/lib/python3.11/site-packages/ipykernel/kernelapp.py\", line 739, in start\n\n  File \"/Users/flaviopfister/anaconda3/envs/banking/lib/python3.11/site-packages/tornado/platform/asyncio.py\", line 205, in start\n\n  File \"/Users/flaviopfister/anaconda3/envs/banking/lib/python3.11/asyncio/base_events.py\", line 608, in run_forever\n\n  File \"/Users/flaviopfister/anaconda3/envs/banking/lib/python3.11/asyncio/base_events.py\", line 1936, in _run_once\n\n  File \"/Users/flaviopfister/anaconda3/envs/banking/lib/python3.11/asyncio/events.py\", line 84, in _run\n\n  File \"/Users/flaviopfister/anaconda3/envs/banking/lib/python3.11/site-packages/ipykernel/kernelbase.py\", line 545, in dispatch_queue\n\n  File \"/Users/flaviopfister/anaconda3/envs/banking/lib/python3.11/site-packages/ipykernel/kernelbase.py\", line 534, in process_one\n\n  File \"/Users/flaviopfister/anaconda3/envs/banking/lib/python3.11/site-packages/ipykernel/kernelbase.py\", line 437, in dispatch_shell\n\n  File \"/Users/flaviopfister/anaconda3/envs/banking/lib/python3.11/site-packages/ipykernel/ipkernel.py\", line 359, in execute_request\n\n  File \"/Users/flaviopfister/anaconda3/envs/banking/lib/python3.11/site-packages/ipykernel/kernelbase.py\", line 778, in execute_request\n\n  File \"/Users/flaviopfister/anaconda3/envs/banking/lib/python3.11/site-packages/ipykernel/ipkernel.py\", line 446, in do_execute\n\n  File \"/Users/flaviopfister/anaconda3/envs/banking/lib/python3.11/site-packages/ipykernel/zmqshell.py\", line 549, in run_cell\n\n  File \"/Users/flaviopfister/anaconda3/envs/banking/lib/python3.11/site-packages/IPython/core/interactiveshell.py\", line 3075, in run_cell\n\n  File \"/Users/flaviopfister/anaconda3/envs/banking/lib/python3.11/site-packages/IPython/core/interactiveshell.py\", line 3130, in _run_cell\n\n  File \"/Users/flaviopfister/anaconda3/envs/banking/lib/python3.11/site-packages/IPython/core/async_helpers.py\", line 129, in _pseudo_sync_runner\n\n  File \"/Users/flaviopfister/anaconda3/envs/banking/lib/python3.11/site-packages/IPython/core/interactiveshell.py\", line 3334, in run_cell_async\n\n  File \"/Users/flaviopfister/anaconda3/envs/banking/lib/python3.11/site-packages/IPython/core/interactiveshell.py\", line 3517, in run_ast_nodes\n\n  File \"/Users/flaviopfister/anaconda3/envs/banking/lib/python3.11/site-packages/IPython/core/interactiveshell.py\", line 3577, in run_code\n\n  File \"/var/folders/p3/w0lx7sbn5pd85k9cmydlynhc0000gn/T/ipykernel_16431/4190766947.py\", line 16, in <module>\n\n  File \"/Users/flaviopfister/anaconda3/envs/banking/lib/python3.11/site-packages/keras/src/utils/traceback_utils.py\", line 117, in error_handler\n\n  File \"/Users/flaviopfister/anaconda3/envs/banking/lib/python3.11/site-packages/keras/src/backend/tensorflow/trainer.py\", line 329, in fit\n\n  File \"/Users/flaviopfister/anaconda3/envs/banking/lib/python3.11/site-packages/keras/src/backend/tensorflow/trainer.py\", line 122, in one_step_on_iterator\n\n  File \"/Users/flaviopfister/anaconda3/envs/banking/lib/python3.11/site-packages/keras/src/backend/tensorflow/trainer.py\", line 110, in one_step_on_data\n\n  File \"/Users/flaviopfister/anaconda3/envs/banking/lib/python3.11/site-packages/keras/src/backend/tensorflow/trainer.py\", line 60, in train_step\n\n  File \"/Users/flaviopfister/anaconda3/envs/banking/lib/python3.11/site-packages/keras/src/trainers/trainer.py\", line 323, in compute_loss\n\n  File \"/Users/flaviopfister/anaconda3/envs/banking/lib/python3.11/site-packages/keras/src/trainers/compile_utils.py\", line 605, in __call__\n\n  File \"/Users/flaviopfister/anaconda3/envs/banking/lib/python3.11/site-packages/keras/src/trainers/compile_utils.py\", line 641, in call\n\n  File \"/Users/flaviopfister/anaconda3/envs/banking/lib/python3.11/site-packages/keras/src/losses/loss.py\", line 38, in __call__\n\n  File \"/Users/flaviopfister/anaconda3/envs/banking/lib/python3.11/site-packages/keras/src/utils/tree.py\", line 239, in map_structure\n\n  File \"/Users/flaviopfister/anaconda3/envs/banking/lib/python3.11/site-packages/optree/ops.py\", line 594, in tree_map\n\n  File \"/Users/flaviopfister/anaconda3/envs/banking/lib/python3.11/site-packages/keras/src/losses/loss.py\", line 39, in <lambda>\n\n  File \"/Users/flaviopfister/anaconda3/envs/banking/lib/python3.11/site-packages/keras/src/ops/core.py\", line 495, in convert_to_tensor\n\n  File \"/Users/flaviopfister/anaconda3/envs/banking/lib/python3.11/site-packages/keras/src/backend/tensorflow/core.py\", line 121, in convert_to_tensor\n\nCast string to float is not supported\n\t [[{{node compile_loss/sparse_categorical_crossentropy/Cast}}]] [Op:__inference_one_step_on_iterator_1471]",
     "output_type": "error",
     "traceback": [
      "\u001b[0;31m---------------------------------------------------------------------------\u001b[0m",
      "\u001b[0;31mUnimplementedError\u001b[0m                        Traceback (most recent call last)",
      "Cell \u001b[0;32mIn[109], line 16\u001b[0m\n\u001b[1;32m     12\u001b[0m model\u001b[38;5;241m.\u001b[39madd(Dense(\u001b[38;5;241m3\u001b[39m, activation\u001b[38;5;241m=\u001b[39m\u001b[38;5;124m'\u001b[39m\u001b[38;5;124msoftmax\u001b[39m\u001b[38;5;124m'\u001b[39m))\n\u001b[1;32m     14\u001b[0m model\u001b[38;5;241m.\u001b[39mcompile(optimizer\u001b[38;5;241m=\u001b[39m\u001b[38;5;124m'\u001b[39m\u001b[38;5;124madam\u001b[39m\u001b[38;5;124m'\u001b[39m, loss\u001b[38;5;241m=\u001b[39m\u001b[38;5;124m'\u001b[39m\u001b[38;5;124msparse_categorical_crossentropy\u001b[39m\u001b[38;5;124m'\u001b[39m, metrics\u001b[38;5;241m=\u001b[39m[\u001b[38;5;124m'\u001b[39m\u001b[38;5;124maccuracy\u001b[39m\u001b[38;5;124m'\u001b[39m])\n\u001b[0;32m---> 16\u001b[0m \u001b[43mmodel\u001b[49m\u001b[38;5;241;43m.\u001b[39;49m\u001b[43mfit\u001b[49m\u001b[43m(\u001b[49m\u001b[43mx_train\u001b[49m\u001b[43m,\u001b[49m\u001b[43m \u001b[49m\u001b[43my_train\u001b[49m\u001b[43m,\u001b[49m\u001b[43m \u001b[49m\u001b[43mvalidation_data\u001b[49m\u001b[38;5;241;43m=\u001b[39;49m\u001b[43m(\u001b[49m\u001b[43mx_cv\u001b[49m\u001b[43m,\u001b[49m\u001b[43m \u001b[49m\u001b[43my_cv\u001b[49m\u001b[43m)\u001b[49m\u001b[43m,\u001b[49m\u001b[43m \u001b[49m\u001b[43mepochs\u001b[49m\u001b[38;5;241;43m=\u001b[39;49m\u001b[38;5;241;43m10\u001b[39;49m\u001b[43m)\u001b[49m\n",
      "File \u001b[0;32m~/anaconda3/envs/banking/lib/python3.11/site-packages/keras/src/utils/traceback_utils.py:122\u001b[0m, in \u001b[0;36mfilter_traceback.<locals>.error_handler\u001b[0;34m(*args, **kwargs)\u001b[0m\n\u001b[1;32m    119\u001b[0m     filtered_tb \u001b[38;5;241m=\u001b[39m _process_traceback_frames(e\u001b[38;5;241m.\u001b[39m__traceback__)\n\u001b[1;32m    120\u001b[0m     \u001b[38;5;66;03m# To get the full stack trace, call:\u001b[39;00m\n\u001b[1;32m    121\u001b[0m     \u001b[38;5;66;03m# `keras.config.disable_traceback_filtering()`\u001b[39;00m\n\u001b[0;32m--> 122\u001b[0m     \u001b[38;5;28;01mraise\u001b[39;00m e\u001b[38;5;241m.\u001b[39mwith_traceback(filtered_tb) \u001b[38;5;28;01mfrom\u001b[39;00m \u001b[38;5;28;01mNone\u001b[39;00m\n\u001b[1;32m    123\u001b[0m \u001b[38;5;28;01mfinally\u001b[39;00m:\n\u001b[1;32m    124\u001b[0m     \u001b[38;5;28;01mdel\u001b[39;00m filtered_tb\n",
      "File \u001b[0;32m~/anaconda3/envs/banking/lib/python3.11/site-packages/tensorflow/python/eager/execute.py:53\u001b[0m, in \u001b[0;36mquick_execute\u001b[0;34m(op_name, num_outputs, inputs, attrs, ctx, name)\u001b[0m\n\u001b[1;32m     51\u001b[0m \u001b[38;5;28;01mtry\u001b[39;00m:\n\u001b[1;32m     52\u001b[0m   ctx\u001b[38;5;241m.\u001b[39mensure_initialized()\n\u001b[0;32m---> 53\u001b[0m   tensors \u001b[38;5;241m=\u001b[39m pywrap_tfe\u001b[38;5;241m.\u001b[39mTFE_Py_Execute(ctx\u001b[38;5;241m.\u001b[39m_handle, device_name, op_name,\n\u001b[1;32m     54\u001b[0m                                       inputs, attrs, num_outputs)\n\u001b[1;32m     55\u001b[0m \u001b[38;5;28;01mexcept\u001b[39;00m core\u001b[38;5;241m.\u001b[39m_NotOkStatusException \u001b[38;5;28;01mas\u001b[39;00m e:\n\u001b[1;32m     56\u001b[0m   \u001b[38;5;28;01mif\u001b[39;00m name \u001b[38;5;129;01mis\u001b[39;00m \u001b[38;5;129;01mnot\u001b[39;00m \u001b[38;5;28;01mNone\u001b[39;00m:\n",
      "\u001b[0;31mUnimplementedError\u001b[0m: Graph execution error:\n\nDetected at node compile_loss/sparse_categorical_crossentropy/Cast defined at (most recent call last):\n  File \"<frozen runpy>\", line 198, in _run_module_as_main\n\n  File \"<frozen runpy>\", line 88, in _run_code\n\n  File \"/Users/flaviopfister/anaconda3/envs/banking/lib/python3.11/site-packages/ipykernel_launcher.py\", line 18, in <module>\n\n  File \"/Users/flaviopfister/anaconda3/envs/banking/lib/python3.11/site-packages/traitlets/config/application.py\", line 1075, in launch_instance\n\n  File \"/Users/flaviopfister/anaconda3/envs/banking/lib/python3.11/site-packages/ipykernel/kernelapp.py\", line 739, in start\n\n  File \"/Users/flaviopfister/anaconda3/envs/banking/lib/python3.11/site-packages/tornado/platform/asyncio.py\", line 205, in start\n\n  File \"/Users/flaviopfister/anaconda3/envs/banking/lib/python3.11/asyncio/base_events.py\", line 608, in run_forever\n\n  File \"/Users/flaviopfister/anaconda3/envs/banking/lib/python3.11/asyncio/base_events.py\", line 1936, in _run_once\n\n  File \"/Users/flaviopfister/anaconda3/envs/banking/lib/python3.11/asyncio/events.py\", line 84, in _run\n\n  File \"/Users/flaviopfister/anaconda3/envs/banking/lib/python3.11/site-packages/ipykernel/kernelbase.py\", line 545, in dispatch_queue\n\n  File \"/Users/flaviopfister/anaconda3/envs/banking/lib/python3.11/site-packages/ipykernel/kernelbase.py\", line 534, in process_one\n\n  File \"/Users/flaviopfister/anaconda3/envs/banking/lib/python3.11/site-packages/ipykernel/kernelbase.py\", line 437, in dispatch_shell\n\n  File \"/Users/flaviopfister/anaconda3/envs/banking/lib/python3.11/site-packages/ipykernel/ipkernel.py\", line 359, in execute_request\n\n  File \"/Users/flaviopfister/anaconda3/envs/banking/lib/python3.11/site-packages/ipykernel/kernelbase.py\", line 778, in execute_request\n\n  File \"/Users/flaviopfister/anaconda3/envs/banking/lib/python3.11/site-packages/ipykernel/ipkernel.py\", line 446, in do_execute\n\n  File \"/Users/flaviopfister/anaconda3/envs/banking/lib/python3.11/site-packages/ipykernel/zmqshell.py\", line 549, in run_cell\n\n  File \"/Users/flaviopfister/anaconda3/envs/banking/lib/python3.11/site-packages/IPython/core/interactiveshell.py\", line 3075, in run_cell\n\n  File \"/Users/flaviopfister/anaconda3/envs/banking/lib/python3.11/site-packages/IPython/core/interactiveshell.py\", line 3130, in _run_cell\n\n  File \"/Users/flaviopfister/anaconda3/envs/banking/lib/python3.11/site-packages/IPython/core/async_helpers.py\", line 129, in _pseudo_sync_runner\n\n  File \"/Users/flaviopfister/anaconda3/envs/banking/lib/python3.11/site-packages/IPython/core/interactiveshell.py\", line 3334, in run_cell_async\n\n  File \"/Users/flaviopfister/anaconda3/envs/banking/lib/python3.11/site-packages/IPython/core/interactiveshell.py\", line 3517, in run_ast_nodes\n\n  File \"/Users/flaviopfister/anaconda3/envs/banking/lib/python3.11/site-packages/IPython/core/interactiveshell.py\", line 3577, in run_code\n\n  File \"/var/folders/p3/w0lx7sbn5pd85k9cmydlynhc0000gn/T/ipykernel_16431/4190766947.py\", line 16, in <module>\n\n  File \"/Users/flaviopfister/anaconda3/envs/banking/lib/python3.11/site-packages/keras/src/utils/traceback_utils.py\", line 117, in error_handler\n\n  File \"/Users/flaviopfister/anaconda3/envs/banking/lib/python3.11/site-packages/keras/src/backend/tensorflow/trainer.py\", line 329, in fit\n\n  File \"/Users/flaviopfister/anaconda3/envs/banking/lib/python3.11/site-packages/keras/src/backend/tensorflow/trainer.py\", line 122, in one_step_on_iterator\n\n  File \"/Users/flaviopfister/anaconda3/envs/banking/lib/python3.11/site-packages/keras/src/backend/tensorflow/trainer.py\", line 110, in one_step_on_data\n\n  File \"/Users/flaviopfister/anaconda3/envs/banking/lib/python3.11/site-packages/keras/src/backend/tensorflow/trainer.py\", line 60, in train_step\n\n  File \"/Users/flaviopfister/anaconda3/envs/banking/lib/python3.11/site-packages/keras/src/trainers/trainer.py\", line 323, in compute_loss\n\n  File \"/Users/flaviopfister/anaconda3/envs/banking/lib/python3.11/site-packages/keras/src/trainers/compile_utils.py\", line 605, in __call__\n\n  File \"/Users/flaviopfister/anaconda3/envs/banking/lib/python3.11/site-packages/keras/src/trainers/compile_utils.py\", line 641, in call\n\n  File \"/Users/flaviopfister/anaconda3/envs/banking/lib/python3.11/site-packages/keras/src/losses/loss.py\", line 38, in __call__\n\n  File \"/Users/flaviopfister/anaconda3/envs/banking/lib/python3.11/site-packages/keras/src/utils/tree.py\", line 239, in map_structure\n\n  File \"/Users/flaviopfister/anaconda3/envs/banking/lib/python3.11/site-packages/optree/ops.py\", line 594, in tree_map\n\n  File \"/Users/flaviopfister/anaconda3/envs/banking/lib/python3.11/site-packages/keras/src/losses/loss.py\", line 39, in <lambda>\n\n  File \"/Users/flaviopfister/anaconda3/envs/banking/lib/python3.11/site-packages/keras/src/ops/core.py\", line 495, in convert_to_tensor\n\n  File \"/Users/flaviopfister/anaconda3/envs/banking/lib/python3.11/site-packages/keras/src/backend/tensorflow/core.py\", line 121, in convert_to_tensor\n\nCast string to float is not supported\n\t [[{{node compile_loss/sparse_categorical_crossentropy/Cast}}]] [Op:__inference_one_step_on_iterator_1471]"
     ]
    }
   ],
   "source": [
    "# a simple CNN model\n",
    "from keras.models import Sequential\n",
    "from keras.layers import Dense, Conv2D, Flatten, MaxPooling2D, Dropout\n",
    "\n",
    "model = Sequential()\n",
    "model.add(Conv2D(32, kernel_size=(3, 3), activation='relu', input_shape=(dim, dim, 3)))\n",
    "model.add(MaxPooling2D(pool_size=(2, 2)))\n",
    "model.add(Dropout(0.25))\n",
    "model.add(Flatten())\n",
    "model.add(Dense(128, activation='relu'))\n",
    "model.add(Dropout(0.5))\n",
    "model.add(Dense(3, activation='softmax'))\n",
    "\n",
    "model.compile(optimizer='adam', loss='sparse_categorical_crossentropy', metrics=['accuracy'])\n",
    "\n",
    "model.fit(x_train, y_train, validation_data=(x_cv, y_cv), epochs=10)\n"
   ]
  },
  {
   "cell_type": "code",
   "execution_count": null,
   "metadata": {},
   "outputs": [],
   "source": []
  }
 ],
 "metadata": {
  "kernelspec": {
   "display_name": "banking",
   "language": "python",
   "name": "python3"
  },
  "language_info": {
   "codemirror_mode": {
    "name": "ipython",
    "version": 3
   },
   "file_extension": ".py",
   "mimetype": "text/x-python",
   "name": "python",
   "nbconvert_exporter": "python",
   "pygments_lexer": "ipython3",
   "version": "3.11.8"
  }
 },
 "nbformat": 4,
 "nbformat_minor": 2
}
