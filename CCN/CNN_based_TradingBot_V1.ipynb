{
 "cells": [
  {
   "cell_type": "markdown",
   "metadata": {},
   "source": [
    "# Imports"
   ]
  },
  {
   "cell_type": "code",
   "execution_count": 18,
   "metadata": {},
   "outputs": [],
   "source": [
    "import yfinance as yf\n",
    "import numpy as np\n",
    "import pandas as pd\n",
    "import matplotlib.pyplot as plt"
   ]
  },
  {
   "cell_type": "markdown",
   "metadata": {},
   "source": [
    "# Load Data"
   ]
  },
  {
   "cell_type": "code",
   "execution_count": 3,
   "metadata": {},
   "outputs": [],
   "source": [
    "appl = yf.Ticker(\"AAPL\")"
   ]
  },
  {
   "cell_type": "code",
   "execution_count": 4,
   "metadata": {},
   "outputs": [],
   "source": [
    "appl_hist = appl.history(period=\"max\")\n",
    "\n",
    "# make pandas dataframe\n",
    "apple_df = pd.DataFrame(appl_hist)"
   ]
  },
  {
   "cell_type": "markdown",
   "metadata": {},
   "source": [
    "# Create Features"
   ]
  },
  {
   "cell_type": "markdown",
   "metadata": {},
   "source": [
    "## Simple Moving Average SMA"
   ]
  },
  {
   "cell_type": "code",
   "execution_count": 5,
   "metadata": {},
   "outputs": [],
   "source": [
    "def sma(data):\n",
    "    window = [7, 21, 50]\n",
    "    for i in window:\n",
    "        apple_df[f\"rolling_mean_{i}\"] = apple_df['Close'].rolling(window=i).mean()"
   ]
  },
  {
   "cell_type": "code",
   "execution_count": 6,
   "metadata": {},
   "outputs": [],
   "source": [
    "sma(apple_df)"
   ]
  },
  {
   "cell_type": "code",
   "execution_count": 7,
   "metadata": {},
   "outputs": [
    {
     "data": {
      "text/html": [
       "<div>\n",
       "<style scoped>\n",
       "    .dataframe tbody tr th:only-of-type {\n",
       "        vertical-align: middle;\n",
       "    }\n",
       "\n",
       "    .dataframe tbody tr th {\n",
       "        vertical-align: top;\n",
       "    }\n",
       "\n",
       "    .dataframe thead th {\n",
       "        text-align: right;\n",
       "    }\n",
       "</style>\n",
       "<table border=\"1\" class=\"dataframe\">\n",
       "  <thead>\n",
       "    <tr style=\"text-align: right;\">\n",
       "      <th></th>\n",
       "      <th>Open</th>\n",
       "      <th>High</th>\n",
       "      <th>Low</th>\n",
       "      <th>Close</th>\n",
       "      <th>Volume</th>\n",
       "      <th>Dividends</th>\n",
       "      <th>Stock Splits</th>\n",
       "      <th>rolling_mean_7</th>\n",
       "      <th>rolling_mean_21</th>\n",
       "      <th>rolling_mean_50</th>\n",
       "    </tr>\n",
       "    <tr>\n",
       "      <th>Date</th>\n",
       "      <th></th>\n",
       "      <th></th>\n",
       "      <th></th>\n",
       "      <th></th>\n",
       "      <th></th>\n",
       "      <th></th>\n",
       "      <th></th>\n",
       "      <th></th>\n",
       "      <th></th>\n",
       "      <th></th>\n",
       "    </tr>\n",
       "  </thead>\n",
       "  <tbody>\n",
       "    <tr>\n",
       "      <th>1980-12-12 00:00:00-05:00</th>\n",
       "      <td>0.099192</td>\n",
       "      <td>0.099623</td>\n",
       "      <td>0.099192</td>\n",
       "      <td>0.099192</td>\n",
       "      <td>469033600</td>\n",
       "      <td>0.0</td>\n",
       "      <td>0.0</td>\n",
       "      <td>NaN</td>\n",
       "      <td>NaN</td>\n",
       "      <td>NaN</td>\n",
       "    </tr>\n",
       "    <tr>\n",
       "      <th>1980-12-15 00:00:00-05:00</th>\n",
       "      <td>0.094448</td>\n",
       "      <td>0.094448</td>\n",
       "      <td>0.094017</td>\n",
       "      <td>0.094017</td>\n",
       "      <td>175884800</td>\n",
       "      <td>0.0</td>\n",
       "      <td>0.0</td>\n",
       "      <td>NaN</td>\n",
       "      <td>NaN</td>\n",
       "      <td>NaN</td>\n",
       "    </tr>\n",
       "    <tr>\n",
       "      <th>1980-12-16 00:00:00-05:00</th>\n",
       "      <td>0.087548</td>\n",
       "      <td>0.087548</td>\n",
       "      <td>0.087117</td>\n",
       "      <td>0.087117</td>\n",
       "      <td>105728000</td>\n",
       "      <td>0.0</td>\n",
       "      <td>0.0</td>\n",
       "      <td>NaN</td>\n",
       "      <td>NaN</td>\n",
       "      <td>NaN</td>\n",
       "    </tr>\n",
       "    <tr>\n",
       "      <th>1980-12-17 00:00:00-05:00</th>\n",
       "      <td>0.089273</td>\n",
       "      <td>0.089704</td>\n",
       "      <td>0.089273</td>\n",
       "      <td>0.089273</td>\n",
       "      <td>86441600</td>\n",
       "      <td>0.0</td>\n",
       "      <td>0.0</td>\n",
       "      <td>NaN</td>\n",
       "      <td>NaN</td>\n",
       "      <td>NaN</td>\n",
       "    </tr>\n",
       "    <tr>\n",
       "      <th>1980-12-18 00:00:00-05:00</th>\n",
       "      <td>0.091861</td>\n",
       "      <td>0.092292</td>\n",
       "      <td>0.091861</td>\n",
       "      <td>0.091861</td>\n",
       "      <td>73449600</td>\n",
       "      <td>0.0</td>\n",
       "      <td>0.0</td>\n",
       "      <td>NaN</td>\n",
       "      <td>NaN</td>\n",
       "      <td>NaN</td>\n",
       "    </tr>\n",
       "    <tr>\n",
       "      <th>...</th>\n",
       "      <td>...</td>\n",
       "      <td>...</td>\n",
       "      <td>...</td>\n",
       "      <td>...</td>\n",
       "      <td>...</td>\n",
       "      <td>...</td>\n",
       "      <td>...</td>\n",
       "      <td>...</td>\n",
       "      <td>...</td>\n",
       "      <td>...</td>\n",
       "    </tr>\n",
       "    <tr>\n",
       "      <th>2024-03-18 00:00:00-04:00</th>\n",
       "      <td>175.570007</td>\n",
       "      <td>177.710007</td>\n",
       "      <td>173.520004</td>\n",
       "      <td>173.720001</td>\n",
       "      <td>75604200</td>\n",
       "      <td>0.0</td>\n",
       "      <td>0.0</td>\n",
       "      <td>172.454285</td>\n",
       "      <td>176.629524</td>\n",
       "      <td>183.006848</td>\n",
       "    </tr>\n",
       "    <tr>\n",
       "      <th>2024-03-19 00:00:00-04:00</th>\n",
       "      <td>174.339996</td>\n",
       "      <td>176.610001</td>\n",
       "      <td>173.029999</td>\n",
       "      <td>176.080002</td>\n",
       "      <td>55215200</td>\n",
       "      <td>0.0</td>\n",
       "      <td>0.0</td>\n",
       "      <td>173.218571</td>\n",
       "      <td>176.332857</td>\n",
       "      <td>182.909467</td>\n",
       "    </tr>\n",
       "    <tr>\n",
       "      <th>2024-03-20 00:00:00-04:00</th>\n",
       "      <td>175.720001</td>\n",
       "      <td>178.669998</td>\n",
       "      <td>175.089996</td>\n",
       "      <td>178.669998</td>\n",
       "      <td>53423100</td>\n",
       "      <td>0.0</td>\n",
       "      <td>0.0</td>\n",
       "      <td>174.064285</td>\n",
       "      <td>176.195238</td>\n",
       "      <td>182.776396</td>\n",
       "    </tr>\n",
       "    <tr>\n",
       "      <th>2024-03-21 00:00:00-04:00</th>\n",
       "      <td>177.050003</td>\n",
       "      <td>177.490005</td>\n",
       "      <td>170.839996</td>\n",
       "      <td>171.369995</td>\n",
       "      <td>106181300</td>\n",
       "      <td>0.0</td>\n",
       "      <td>0.0</td>\n",
       "      <td>173.798571</td>\n",
       "      <td>175.673809</td>\n",
       "      <td>182.505715</td>\n",
       "    </tr>\n",
       "    <tr>\n",
       "      <th>2024-03-22 00:00:00-04:00</th>\n",
       "      <td>171.759995</td>\n",
       "      <td>173.050003</td>\n",
       "      <td>170.059998</td>\n",
       "      <td>172.279999</td>\n",
       "      <td>71106600</td>\n",
       "      <td>0.0</td>\n",
       "      <td>0.0</td>\n",
       "      <td>173.962856</td>\n",
       "      <td>175.098095</td>\n",
       "      <td>182.232261</td>\n",
       "    </tr>\n",
       "  </tbody>\n",
       "</table>\n",
       "<p>10910 rows × 10 columns</p>\n",
       "</div>"
      ],
      "text/plain": [
       "                                 Open        High         Low       Close  \\\n",
       "Date                                                                        \n",
       "1980-12-12 00:00:00-05:00    0.099192    0.099623    0.099192    0.099192   \n",
       "1980-12-15 00:00:00-05:00    0.094448    0.094448    0.094017    0.094017   \n",
       "1980-12-16 00:00:00-05:00    0.087548    0.087548    0.087117    0.087117   \n",
       "1980-12-17 00:00:00-05:00    0.089273    0.089704    0.089273    0.089273   \n",
       "1980-12-18 00:00:00-05:00    0.091861    0.092292    0.091861    0.091861   \n",
       "...                               ...         ...         ...         ...   \n",
       "2024-03-18 00:00:00-04:00  175.570007  177.710007  173.520004  173.720001   \n",
       "2024-03-19 00:00:00-04:00  174.339996  176.610001  173.029999  176.080002   \n",
       "2024-03-20 00:00:00-04:00  175.720001  178.669998  175.089996  178.669998   \n",
       "2024-03-21 00:00:00-04:00  177.050003  177.490005  170.839996  171.369995   \n",
       "2024-03-22 00:00:00-04:00  171.759995  173.050003  170.059998  172.279999   \n",
       "\n",
       "                              Volume  Dividends  Stock Splits  rolling_mean_7  \\\n",
       "Date                                                                            \n",
       "1980-12-12 00:00:00-05:00  469033600        0.0           0.0             NaN   \n",
       "1980-12-15 00:00:00-05:00  175884800        0.0           0.0             NaN   \n",
       "1980-12-16 00:00:00-05:00  105728000        0.0           0.0             NaN   \n",
       "1980-12-17 00:00:00-05:00   86441600        0.0           0.0             NaN   \n",
       "1980-12-18 00:00:00-05:00   73449600        0.0           0.0             NaN   \n",
       "...                              ...        ...           ...             ...   \n",
       "2024-03-18 00:00:00-04:00   75604200        0.0           0.0      172.454285   \n",
       "2024-03-19 00:00:00-04:00   55215200        0.0           0.0      173.218571   \n",
       "2024-03-20 00:00:00-04:00   53423100        0.0           0.0      174.064285   \n",
       "2024-03-21 00:00:00-04:00  106181300        0.0           0.0      173.798571   \n",
       "2024-03-22 00:00:00-04:00   71106600        0.0           0.0      173.962856   \n",
       "\n",
       "                           rolling_mean_21  rolling_mean_50  \n",
       "Date                                                         \n",
       "1980-12-12 00:00:00-05:00              NaN              NaN  \n",
       "1980-12-15 00:00:00-05:00              NaN              NaN  \n",
       "1980-12-16 00:00:00-05:00              NaN              NaN  \n",
       "1980-12-17 00:00:00-05:00              NaN              NaN  \n",
       "1980-12-18 00:00:00-05:00              NaN              NaN  \n",
       "...                                    ...              ...  \n",
       "2024-03-18 00:00:00-04:00       176.629524       183.006848  \n",
       "2024-03-19 00:00:00-04:00       176.332857       182.909467  \n",
       "2024-03-20 00:00:00-04:00       176.195238       182.776396  \n",
       "2024-03-21 00:00:00-04:00       175.673809       182.505715  \n",
       "2024-03-22 00:00:00-04:00       175.098095       182.232261  \n",
       "\n",
       "[10910 rows x 10 columns]"
      ]
     },
     "execution_count": 7,
     "metadata": {},
     "output_type": "execute_result"
    }
   ],
   "source": [
    "apple_df"
   ]
  },
  {
   "cell_type": "markdown",
   "metadata": {},
   "source": [
    "## ... more Features to be added"
   ]
  },
  {
   "cell_type": "code",
   "execution_count": null,
   "metadata": {},
   "outputs": [],
   "source": []
  },
  {
   "cell_type": "code",
   "execution_count": null,
   "metadata": {},
   "outputs": [],
   "source": []
  },
  {
   "cell_type": "markdown",
   "metadata": {},
   "source": [
    "## Feature Engineering"
   ]
  },
  {
   "cell_type": "markdown",
   "metadata": {},
   "source": [
    "The reason behind having this step in our pipeline is that Feature engineering involves creating, transforming, or selecting the most relevant variables in your dataset to improve model performance. This process is critical because it enables the model to learn from the data more effectively, leading to better predictions and insights. Feature selection, in particular, trims down the feature set to keep only the most valuable attributes, reducing complexity, computation time, and the risk of overfitting. In essence, these techniques streamline the modelling process, making it more accurate, interpretable, and efficient, while also saving time and resources.\n",
    "First, we Normalize our data set because Normalizing a dataset is crucial to ensure that all features are on a consistent scale, preventing one feature from dominating the analysis, improving model convergence, aiding in the interpretation of feature importance, making distance-based algorithms more reliable, and aligning with assumptions of regularisation techniques, all of which contribute to more effective and robust data analysis and machine learning.\n",
    "Then we will just apply a small filter of variance with a threshold of 0.1 i.e. any feature which has a variance less than or equal to 0.1 will be removed from the dataset as having this low variance does not contribute much to detecting the trend in the dataset."
   ]
  },
  {
   "cell_type": "code",
   "execution_count": null,
   "metadata": {},
   "outputs": [],
   "source": []
  },
  {
   "cell_type": "markdown",
   "metadata": {},
   "source": [
    "# Feature Selection"
   ]
  },
  {
   "cell_type": "markdown",
   "metadata": {},
   "source": [
    "Now the main part is that we will calculate the importance of each feature by using Random Forest Classifier and then reduce the feature size to 81.\n",
    "\n",
    "A rough idea of how random forest works is for each decision point (split) in each tree, the Random Forest algorithm measures the decrease in impurity(Gini impurity) resulting from the split. The impurity reduction brought about by each feature is averaged across all the trees in the forest. Features that consistently reduce impurity more effectively when used in splits are considered more important"
   ]
  },
  {
   "cell_type": "code",
   "execution_count": null,
   "metadata": {},
   "outputs": [],
   "source": []
  },
  {
   "cell_type": "markdown",
   "metadata": {},
   "source": [
    "# Labeling"
   ]
  },
  {
   "cell_type": "code",
   "execution_count": 8,
   "metadata": {},
   "outputs": [],
   "source": [
    "# Function to lable the data\n",
    "# if i + 11 is the max value in the window, label as BUY\n",
    "# if i + 11 is the min value in the window, label as SELL\n",
    "# else label as HOLD\n",
    "# Idea: Buy when the stock is at its lowest in the window, sell when it is at its highest\n",
    "\n",
    "# Source: https://medium.com/@quantclubiitkgp/stock-buy-sell-hold-prediction-using-cnn-ee7b671f4ad3\n",
    "\n",
    "def get_labels(df, windowSize=11):\n",
    "   labels = [] \n",
    "   values = []\n",
    "   for i in range(len(df.Close) - windowSize): \n",
    "      mx = df.Close.iloc[i]\n",
    "      mn = df.Close.iloc[i]\n",
    "      mxIndex, mnIndex = i, i\n",
    "      for j in range(i + 1, i + windowSize + 1): \n",
    "         if df.Close.iloc[j] > mx:\n",
    "               mx = df.Close.iloc[j]\n",
    "               mxIndex = j\n",
    "         if df.Close.iloc[j] < mn: \n",
    "               mn = df.Close.iloc[j] \n",
    "               mnIndex = j\n",
    "\n",
    "      if mnIndex == i + 11:\n",
    "         labels.append('SELL')\n",
    "         values.append(i + 11)\n",
    "      elif mxIndex == i + 11:\n",
    "         labels.append('BUY')\n",
    "         values.append(i + 11)\n",
    "      else:\n",
    "         labels.append('HOLD')\n",
    "         values.append(i + 11)\n",
    "   \n",
    "   # Append 11 times a 999 to the end of the labels list\n",
    "   for i in range(11):\n",
    "      labels.append(999)\n",
    "\n",
    "   # Append the labels to the dataframe from the start\n",
    "   df['Labels'] = labels\n",
    "\n",
    "   # Replace the 999 with NaN\n",
    "   df['Labels'] = df['Labels'].replace(999, np.nan)\n",
    "\n",
    "   print('Labeling done!')\n",
    "\n",
    "   return df\n"
   ]
  },
  {
   "cell_type": "code",
   "execution_count": 9,
   "metadata": {},
   "outputs": [
    {
     "name": "stdout",
     "output_type": "stream",
     "text": [
      "Labeling done!\n"
     ]
    }
   ],
   "source": [
    "apple_df = get_labels(apple_df)\n"
   ]
  },
  {
   "cell_type": "code",
   "execution_count": 10,
   "metadata": {},
   "outputs": [
    {
     "data": {
      "text/html": [
       "<div>\n",
       "<style scoped>\n",
       "    .dataframe tbody tr th:only-of-type {\n",
       "        vertical-align: middle;\n",
       "    }\n",
       "\n",
       "    .dataframe tbody tr th {\n",
       "        vertical-align: top;\n",
       "    }\n",
       "\n",
       "    .dataframe thead th {\n",
       "        text-align: right;\n",
       "    }\n",
       "</style>\n",
       "<table border=\"1\" class=\"dataframe\">\n",
       "  <thead>\n",
       "    <tr style=\"text-align: right;\">\n",
       "      <th></th>\n",
       "      <th>Open</th>\n",
       "      <th>High</th>\n",
       "      <th>Low</th>\n",
       "      <th>Close</th>\n",
       "      <th>Volume</th>\n",
       "      <th>Dividends</th>\n",
       "      <th>Stock Splits</th>\n",
       "      <th>rolling_mean_7</th>\n",
       "      <th>rolling_mean_21</th>\n",
       "      <th>rolling_mean_50</th>\n",
       "      <th>Labels</th>\n",
       "    </tr>\n",
       "    <tr>\n",
       "      <th>Date</th>\n",
       "      <th></th>\n",
       "      <th></th>\n",
       "      <th></th>\n",
       "      <th></th>\n",
       "      <th></th>\n",
       "      <th></th>\n",
       "      <th></th>\n",
       "      <th></th>\n",
       "      <th></th>\n",
       "      <th></th>\n",
       "      <th></th>\n",
       "    </tr>\n",
       "  </thead>\n",
       "  <tbody>\n",
       "    <tr>\n",
       "      <th>1980-12-12 00:00:00-05:00</th>\n",
       "      <td>0.099192</td>\n",
       "      <td>0.099623</td>\n",
       "      <td>0.099192</td>\n",
       "      <td>0.099192</td>\n",
       "      <td>469033600</td>\n",
       "      <td>0.0</td>\n",
       "      <td>0.0</td>\n",
       "      <td>NaN</td>\n",
       "      <td>NaN</td>\n",
       "      <td>NaN</td>\n",
       "      <td>HOLD</td>\n",
       "    </tr>\n",
       "    <tr>\n",
       "      <th>1980-12-15 00:00:00-05:00</th>\n",
       "      <td>0.094448</td>\n",
       "      <td>0.094448</td>\n",
       "      <td>0.094017</td>\n",
       "      <td>0.094017</td>\n",
       "      <td>175884800</td>\n",
       "      <td>0.0</td>\n",
       "      <td>0.0</td>\n",
       "      <td>NaN</td>\n",
       "      <td>NaN</td>\n",
       "      <td>NaN</td>\n",
       "      <td>HOLD</td>\n",
       "    </tr>\n",
       "    <tr>\n",
       "      <th>1980-12-16 00:00:00-05:00</th>\n",
       "      <td>0.087548</td>\n",
       "      <td>0.087548</td>\n",
       "      <td>0.087117</td>\n",
       "      <td>0.087117</td>\n",
       "      <td>105728000</td>\n",
       "      <td>0.0</td>\n",
       "      <td>0.0</td>\n",
       "      <td>NaN</td>\n",
       "      <td>NaN</td>\n",
       "      <td>NaN</td>\n",
       "      <td>HOLD</td>\n",
       "    </tr>\n",
       "    <tr>\n",
       "      <th>1980-12-17 00:00:00-05:00</th>\n",
       "      <td>0.089273</td>\n",
       "      <td>0.089704</td>\n",
       "      <td>0.089273</td>\n",
       "      <td>0.089273</td>\n",
       "      <td>86441600</td>\n",
       "      <td>0.0</td>\n",
       "      <td>0.0</td>\n",
       "      <td>NaN</td>\n",
       "      <td>NaN</td>\n",
       "      <td>NaN</td>\n",
       "      <td>HOLD</td>\n",
       "    </tr>\n",
       "    <tr>\n",
       "      <th>1980-12-18 00:00:00-05:00</th>\n",
       "      <td>0.091861</td>\n",
       "      <td>0.092292</td>\n",
       "      <td>0.091861</td>\n",
       "      <td>0.091861</td>\n",
       "      <td>73449600</td>\n",
       "      <td>0.0</td>\n",
       "      <td>0.0</td>\n",
       "      <td>NaN</td>\n",
       "      <td>NaN</td>\n",
       "      <td>NaN</td>\n",
       "      <td>HOLD</td>\n",
       "    </tr>\n",
       "    <tr>\n",
       "      <th>...</th>\n",
       "      <td>...</td>\n",
       "      <td>...</td>\n",
       "      <td>...</td>\n",
       "      <td>...</td>\n",
       "      <td>...</td>\n",
       "      <td>...</td>\n",
       "      <td>...</td>\n",
       "      <td>...</td>\n",
       "      <td>...</td>\n",
       "      <td>...</td>\n",
       "      <td>...</td>\n",
       "    </tr>\n",
       "    <tr>\n",
       "      <th>2024-03-18 00:00:00-04:00</th>\n",
       "      <td>175.570007</td>\n",
       "      <td>177.710007</td>\n",
       "      <td>173.520004</td>\n",
       "      <td>173.720001</td>\n",
       "      <td>75604200</td>\n",
       "      <td>0.0</td>\n",
       "      <td>0.0</td>\n",
       "      <td>172.454285</td>\n",
       "      <td>176.629524</td>\n",
       "      <td>183.006848</td>\n",
       "      <td>NaN</td>\n",
       "    </tr>\n",
       "    <tr>\n",
       "      <th>2024-03-19 00:00:00-04:00</th>\n",
       "      <td>174.339996</td>\n",
       "      <td>176.610001</td>\n",
       "      <td>173.029999</td>\n",
       "      <td>176.080002</td>\n",
       "      <td>55215200</td>\n",
       "      <td>0.0</td>\n",
       "      <td>0.0</td>\n",
       "      <td>173.218571</td>\n",
       "      <td>176.332857</td>\n",
       "      <td>182.909467</td>\n",
       "      <td>NaN</td>\n",
       "    </tr>\n",
       "    <tr>\n",
       "      <th>2024-03-20 00:00:00-04:00</th>\n",
       "      <td>175.720001</td>\n",
       "      <td>178.669998</td>\n",
       "      <td>175.089996</td>\n",
       "      <td>178.669998</td>\n",
       "      <td>53423100</td>\n",
       "      <td>0.0</td>\n",
       "      <td>0.0</td>\n",
       "      <td>174.064285</td>\n",
       "      <td>176.195238</td>\n",
       "      <td>182.776396</td>\n",
       "      <td>NaN</td>\n",
       "    </tr>\n",
       "    <tr>\n",
       "      <th>2024-03-21 00:00:00-04:00</th>\n",
       "      <td>177.050003</td>\n",
       "      <td>177.490005</td>\n",
       "      <td>170.839996</td>\n",
       "      <td>171.369995</td>\n",
       "      <td>106181300</td>\n",
       "      <td>0.0</td>\n",
       "      <td>0.0</td>\n",
       "      <td>173.798571</td>\n",
       "      <td>175.673809</td>\n",
       "      <td>182.505715</td>\n",
       "      <td>NaN</td>\n",
       "    </tr>\n",
       "    <tr>\n",
       "      <th>2024-03-22 00:00:00-04:00</th>\n",
       "      <td>171.759995</td>\n",
       "      <td>173.050003</td>\n",
       "      <td>170.059998</td>\n",
       "      <td>172.279999</td>\n",
       "      <td>71106600</td>\n",
       "      <td>0.0</td>\n",
       "      <td>0.0</td>\n",
       "      <td>173.962856</td>\n",
       "      <td>175.098095</td>\n",
       "      <td>182.232261</td>\n",
       "      <td>NaN</td>\n",
       "    </tr>\n",
       "  </tbody>\n",
       "</table>\n",
       "<p>10910 rows × 11 columns</p>\n",
       "</div>"
      ],
      "text/plain": [
       "                                 Open        High         Low       Close  \\\n",
       "Date                                                                        \n",
       "1980-12-12 00:00:00-05:00    0.099192    0.099623    0.099192    0.099192   \n",
       "1980-12-15 00:00:00-05:00    0.094448    0.094448    0.094017    0.094017   \n",
       "1980-12-16 00:00:00-05:00    0.087548    0.087548    0.087117    0.087117   \n",
       "1980-12-17 00:00:00-05:00    0.089273    0.089704    0.089273    0.089273   \n",
       "1980-12-18 00:00:00-05:00    0.091861    0.092292    0.091861    0.091861   \n",
       "...                               ...         ...         ...         ...   \n",
       "2024-03-18 00:00:00-04:00  175.570007  177.710007  173.520004  173.720001   \n",
       "2024-03-19 00:00:00-04:00  174.339996  176.610001  173.029999  176.080002   \n",
       "2024-03-20 00:00:00-04:00  175.720001  178.669998  175.089996  178.669998   \n",
       "2024-03-21 00:00:00-04:00  177.050003  177.490005  170.839996  171.369995   \n",
       "2024-03-22 00:00:00-04:00  171.759995  173.050003  170.059998  172.279999   \n",
       "\n",
       "                              Volume  Dividends  Stock Splits  rolling_mean_7  \\\n",
       "Date                                                                            \n",
       "1980-12-12 00:00:00-05:00  469033600        0.0           0.0             NaN   \n",
       "1980-12-15 00:00:00-05:00  175884800        0.0           0.0             NaN   \n",
       "1980-12-16 00:00:00-05:00  105728000        0.0           0.0             NaN   \n",
       "1980-12-17 00:00:00-05:00   86441600        0.0           0.0             NaN   \n",
       "1980-12-18 00:00:00-05:00   73449600        0.0           0.0             NaN   \n",
       "...                              ...        ...           ...             ...   \n",
       "2024-03-18 00:00:00-04:00   75604200        0.0           0.0      172.454285   \n",
       "2024-03-19 00:00:00-04:00   55215200        0.0           0.0      173.218571   \n",
       "2024-03-20 00:00:00-04:00   53423100        0.0           0.0      174.064285   \n",
       "2024-03-21 00:00:00-04:00  106181300        0.0           0.0      173.798571   \n",
       "2024-03-22 00:00:00-04:00   71106600        0.0           0.0      173.962856   \n",
       "\n",
       "                           rolling_mean_21  rolling_mean_50 Labels  \n",
       "Date                                                                \n",
       "1980-12-12 00:00:00-05:00              NaN              NaN   HOLD  \n",
       "1980-12-15 00:00:00-05:00              NaN              NaN   HOLD  \n",
       "1980-12-16 00:00:00-05:00              NaN              NaN   HOLD  \n",
       "1980-12-17 00:00:00-05:00              NaN              NaN   HOLD  \n",
       "1980-12-18 00:00:00-05:00              NaN              NaN   HOLD  \n",
       "...                                    ...              ...    ...  \n",
       "2024-03-18 00:00:00-04:00       176.629524       183.006848    NaN  \n",
       "2024-03-19 00:00:00-04:00       176.332857       182.909467    NaN  \n",
       "2024-03-20 00:00:00-04:00       176.195238       182.776396    NaN  \n",
       "2024-03-21 00:00:00-04:00       175.673809       182.505715    NaN  \n",
       "2024-03-22 00:00:00-04:00       175.098095       182.232261    NaN  \n",
       "\n",
       "[10910 rows x 11 columns]"
      ]
     },
     "execution_count": 10,
     "metadata": {},
     "output_type": "execute_result"
    }
   ],
   "source": [
    "apple_df"
   ]
  },
  {
   "cell_type": "code",
   "execution_count": 11,
   "metadata": {},
   "outputs": [
    {
     "data": {
      "text/plain": [
       "<Axes: >"
      ]
     },
     "execution_count": 11,
     "metadata": {},
     "output_type": "execute_result"
    },
    {
     "data": {
      "image/png": "[encoded data removed]",
      "text/plain": [
       "<Figure size 640x480 with 1 Axes>"
      ]
     },
     "metadata": {},
     "output_type": "display_data"
    }
   ],
   "source": [
    "# plot a histogramm of the labels\n",
    "apple_df['Labels'].hist()\n"
   ]
  },
  {
   "cell_type": "code",
   "execution_count": 32,
   "metadata": {},
   "outputs": [
    {
     "data": {
      "image/png": "[encoded data removed]",
      "text/plain": [
       "<Figure size 1500x700 with 1 Axes>"
      ]
     },
     "metadata": {},
     "output_type": "display_data"
    }
   ],
   "source": [
    "plt.figure(figsize=(15, 7))\n",
    "\n",
    "# add buy and sell signals\n",
    "# buy = green, sell = red\n",
    "buy = apple_df[(apple_df['Labels'] == 'BUY') & (apple_df.index >= '2015-01-01') & (apple_df.index <= '2022-12-31')]\n",
    "sell = apple_df[(apple_df['Labels'] == 'SELL') & (apple_df.index >= '2015-01-01') & (apple_df.index <= '2022-12-31')]\n",
    "apple_df['Close']['2015':'2022'].plot()\n",
    "plt.scatter(buy.index, buy['Close'], color='g', marker='^', alpha=1)\n",
    "plt.scatter(sell.index, sell['Close'], color='r', marker='v', alpha=1)\n",
    "plt.title('Buy and Sell signals for Apple stock (2015-2022)')\n",
    "plt.legend(['Close', 'Buy', 'Sell'])\n",
    "plt.show()\n",
    "\n"
   ]
  },
  {
   "cell_type": "markdown",
   "metadata": {},
   "source": [
    "## Feature Importamce in Prediction"
   ]
  },
  {
   "cell_type": "markdown",
   "metadata": {},
   "source": [
    "Used mutual info classification for creating heat map for our image. Basically it tells us which part of the image is most useful to the model (will explain this part more in further ). (https://medium.com/@quantclubiitkgp/stock-buy-sell-hold-prediction-using-cnn-ee7b671f4ad3)\n",
    "\n",
    "> keine Ahnung was er damit meint und warum er das macht??!"
   ]
  },
  {
   "cell_type": "code",
   "execution_count": null,
   "metadata": {},
   "outputs": [],
   "source": []
  },
  {
   "cell_type": "markdown",
   "metadata": {},
   "source": [
    "## Image Creation"
   ]
  },
  {
   "cell_type": "code",
   "execution_count": null,
   "metadata": {},
   "outputs": [],
   "source": []
  },
  {
   "cell_type": "markdown",
   "metadata": {},
   "source": [
    "## CNN"
   ]
  },
  {
   "cell_type": "code",
   "execution_count": null,
   "metadata": {},
   "outputs": [],
   "source": []
  },
  {
   "cell_type": "markdown",
   "metadata": {},
   "source": [
    "## Trading Bot Implementation"
   ]
  },
  {
   "cell_type": "code",
   "execution_count": null,
   "metadata": {},
   "outputs": [],
   "source": []
  },
  {
   "cell_type": "code",
   "execution_count": null,
   "metadata": {},
   "outputs": [],
   "source": []
  }
 ],
 "metadata": {
  "kernelspec": {
   "display_name": "banking",
   "language": "python",
   "name": "python3"
  },
  "language_info": {
   "codemirror_mode": {
    "name": "ipython",
    "version": 3
   },
   "file_extension": ".py",
   "mimetype": "text/x-python",
   "name": "python",
   "nbconvert_exporter": "python",
   "pygments_lexer": "ipython3",
   "version": "3.11.8"
  }
 },
 "nbformat": 4,
 "nbformat_minor": 2
}
